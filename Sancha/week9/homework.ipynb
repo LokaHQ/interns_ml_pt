{
 "cells": [
  {
   "cell_type": "code",
   "execution_count": 1,
   "metadata": {},
   "outputs": [
    {
     "name": "stdout",
     "output_type": "stream",
     "text": [
      "Requirement already satisfied: llama-index in /Library/Frameworks/Python.framework/Versions/3.12/lib/python3.12/site-packages (0.11.19)\n",
      "Requirement already satisfied: llama-index-llms-bedrock in /Library/Frameworks/Python.framework/Versions/3.12/lib/python3.12/site-packages (0.2.2)\n",
      "Requirement already satisfied: llama-index-embeddings-bedrock in /Library/Frameworks/Python.framework/Versions/3.12/lib/python3.12/site-packages (0.3.1)\n",
      "Requirement already satisfied: langfuse in /Library/Frameworks/Python.framework/Versions/3.12/lib/python3.12/site-packages (2.52.2)\n",
      "Requirement already satisfied: llama-index-agent-openai<0.4.0,>=0.3.4 in /Library/Frameworks/Python.framework/Versions/3.12/lib/python3.12/site-packages (from llama-index) (0.3.4)\n",
      "Requirement already satisfied: llama-index-cli<0.4.0,>=0.3.1 in /Library/Frameworks/Python.framework/Versions/3.12/lib/python3.12/site-packages (from llama-index) (0.3.1)\n",
      "Requirement already satisfied: llama-index-core<0.12.0,>=0.11.19 in /Library/Frameworks/Python.framework/Versions/3.12/lib/python3.12/site-packages (from llama-index) (0.11.19)\n",
      "Requirement already satisfied: llama-index-embeddings-openai<0.3.0,>=0.2.4 in /Library/Frameworks/Python.framework/Versions/3.12/lib/python3.12/site-packages (from llama-index) (0.2.5)\n",
      "Requirement already satisfied: llama-index-indices-managed-llama-cloud>=0.3.0 in /Library/Frameworks/Python.framework/Versions/3.12/lib/python3.12/site-packages (from llama-index) (0.4.0)\n",
      "Requirement already satisfied: llama-index-legacy<0.10.0,>=0.9.48 in /Library/Frameworks/Python.framework/Versions/3.12/lib/python3.12/site-packages (from llama-index) (0.9.48.post3)\n",
      "Requirement already satisfied: llama-index-llms-openai<0.3.0,>=0.2.10 in /Library/Frameworks/Python.framework/Versions/3.12/lib/python3.12/site-packages (from llama-index) (0.2.16)\n",
      "Requirement already satisfied: llama-index-multi-modal-llms-openai<0.3.0,>=0.2.0 in /Library/Frameworks/Python.framework/Versions/3.12/lib/python3.12/site-packages (from llama-index) (0.2.3)\n",
      "Requirement already satisfied: llama-index-program-openai<0.3.0,>=0.2.0 in /Library/Frameworks/Python.framework/Versions/3.12/lib/python3.12/site-packages (from llama-index) (0.2.0)\n",
      "Requirement already satisfied: llama-index-question-gen-openai<0.3.0,>=0.2.0 in /Library/Frameworks/Python.framework/Versions/3.12/lib/python3.12/site-packages (from llama-index) (0.2.0)\n",
      "Requirement already satisfied: llama-index-readers-file<0.3.0,>=0.2.0 in /Library/Frameworks/Python.framework/Versions/3.12/lib/python3.12/site-packages (from llama-index) (0.2.2)\n",
      "Requirement already satisfied: llama-index-readers-llama-parse>=0.3.0 in /Library/Frameworks/Python.framework/Versions/3.12/lib/python3.12/site-packages (from llama-index) (0.3.0)\n",
      "Requirement already satisfied: nltk>3.8.1 in /Library/Frameworks/Python.framework/Versions/3.12/lib/python3.12/site-packages (from llama-index) (3.9.1)\n",
      "Requirement already satisfied: boto3<2.0.0,>=1.34.26 in /Library/Frameworks/Python.framework/Versions/3.12/lib/python3.12/site-packages (from llama-index-llms-bedrock) (1.35.15)\n",
      "Requirement already satisfied: llama-index-llms-anthropic<0.3.0,>=0.2.0 in /Library/Frameworks/Python.framework/Versions/3.12/lib/python3.12/site-packages (from llama-index-llms-bedrock) (0.2.1)\n",
      "Requirement already satisfied: anyio<5.0.0,>=4.4.0 in /Library/Frameworks/Python.framework/Versions/3.12/lib/python3.12/site-packages (from langfuse) (4.4.0)\n",
      "Requirement already satisfied: backoff>=1.10.0 in /Library/Frameworks/Python.framework/Versions/3.12/lib/python3.12/site-packages (from langfuse) (1.11.1)\n",
      "Requirement already satisfied: httpx<1.0,>=0.15.4 in /Library/Frameworks/Python.framework/Versions/3.12/lib/python3.12/site-packages (from langfuse) (0.27.2)\n",
      "Requirement already satisfied: idna<4.0,>=3.7 in /Library/Frameworks/Python.framework/Versions/3.12/lib/python3.12/site-packages (from langfuse) (3.8)\n",
      "Requirement already satisfied: packaging<25.0,>=23.2 in /Library/Frameworks/Python.framework/Versions/3.12/lib/python3.12/site-packages (from langfuse) (24.1)\n",
      "Requirement already satisfied: pydantic<3.0,>=1.10.7 in /Library/Frameworks/Python.framework/Versions/3.12/lib/python3.12/site-packages (from langfuse) (2.9.2)\n",
      "Requirement already satisfied: wrapt<2.0,>=1.14 in /Library/Frameworks/Python.framework/Versions/3.12/lib/python3.12/site-packages (from langfuse) (1.16.0)\n",
      "Requirement already satisfied: sniffio>=1.1 in /Library/Frameworks/Python.framework/Versions/3.12/lib/python3.12/site-packages (from anyio<5.0.0,>=4.4.0->langfuse) (1.3.1)\n",
      "Requirement already satisfied: botocore<1.36.0,>=1.35.15 in /Library/Frameworks/Python.framework/Versions/3.12/lib/python3.12/site-packages (from boto3<2.0.0,>=1.34.26->llama-index-llms-bedrock) (1.35.15)\n",
      "Requirement already satisfied: jmespath<2.0.0,>=0.7.1 in /Library/Frameworks/Python.framework/Versions/3.12/lib/python3.12/site-packages (from boto3<2.0.0,>=1.34.26->llama-index-llms-bedrock) (1.0.1)\n",
      "Requirement already satisfied: s3transfer<0.11.0,>=0.10.0 in /Library/Frameworks/Python.framework/Versions/3.12/lib/python3.12/site-packages (from boto3<2.0.0,>=1.34.26->llama-index-llms-bedrock) (0.10.2)\n",
      "Requirement already satisfied: certifi in /Library/Frameworks/Python.framework/Versions/3.12/lib/python3.12/site-packages (from httpx<1.0,>=0.15.4->langfuse) (2024.8.30)\n",
      "Requirement already satisfied: httpcore==1.* in /Library/Frameworks/Python.framework/Versions/3.12/lib/python3.12/site-packages (from httpx<1.0,>=0.15.4->langfuse) (1.0.5)\n",
      "Requirement already satisfied: h11<0.15,>=0.13 in /Library/Frameworks/Python.framework/Versions/3.12/lib/python3.12/site-packages (from httpcore==1.*->httpx<1.0,>=0.15.4->langfuse) (0.14.0)\n",
      "Requirement already satisfied: openai>=1.14.0 in /Library/Frameworks/Python.framework/Versions/3.12/lib/python3.12/site-packages (from llama-index-agent-openai<0.4.0,>=0.3.4->llama-index) (1.52.1)\n",
      "Requirement already satisfied: PyYAML>=6.0.1 in /Library/Frameworks/Python.framework/Versions/3.12/lib/python3.12/site-packages (from llama-index-core<0.12.0,>=0.11.19->llama-index) (6.0.2)\n",
      "Requirement already satisfied: SQLAlchemy>=1.4.49 in /Library/Frameworks/Python.framework/Versions/3.12/lib/python3.12/site-packages (from SQLAlchemy[asyncio]>=1.4.49->llama-index-core<0.12.0,>=0.11.19->llama-index) (2.0.34)\n",
      "Requirement already satisfied: aiohttp<4.0.0,>=3.8.6 in /Library/Frameworks/Python.framework/Versions/3.12/lib/python3.12/site-packages (from llama-index-core<0.12.0,>=0.11.19->llama-index) (3.10.5)\n",
      "Requirement already satisfied: dataclasses-json in /Library/Frameworks/Python.framework/Versions/3.12/lib/python3.12/site-packages (from llama-index-core<0.12.0,>=0.11.19->llama-index) (0.6.7)\n",
      "Requirement already satisfied: deprecated>=1.2.9.3 in /Library/Frameworks/Python.framework/Versions/3.12/lib/python3.12/site-packages (from llama-index-core<0.12.0,>=0.11.19->llama-index) (1.2.14)\n",
      "Requirement already satisfied: dirtyjson<2.0.0,>=1.0.8 in /Library/Frameworks/Python.framework/Versions/3.12/lib/python3.12/site-packages (from llama-index-core<0.12.0,>=0.11.19->llama-index) (1.0.8)\n",
      "Requirement already satisfied: fsspec>=2023.5.0 in /Library/Frameworks/Python.framework/Versions/3.12/lib/python3.12/site-packages (from llama-index-core<0.12.0,>=0.11.19->llama-index) (2024.6.1)\n",
      "Requirement already satisfied: nest-asyncio<2.0.0,>=1.5.8 in /Library/Frameworks/Python.framework/Versions/3.12/lib/python3.12/site-packages (from llama-index-core<0.12.0,>=0.11.19->llama-index) (1.6.0)\n",
      "Requirement already satisfied: networkx>=3.0 in /Library/Frameworks/Python.framework/Versions/3.12/lib/python3.12/site-packages (from llama-index-core<0.12.0,>=0.11.19->llama-index) (3.3)\n",
      "Requirement already satisfied: numpy<2.0.0 in /Library/Frameworks/Python.framework/Versions/3.12/lib/python3.12/site-packages (from llama-index-core<0.12.0,>=0.11.19->llama-index) (1.26.4)\n",
      "Requirement already satisfied: pillow>=9.0.0 in /Library/Frameworks/Python.framework/Versions/3.12/lib/python3.12/site-packages (from llama-index-core<0.12.0,>=0.11.19->llama-index) (10.4.0)\n",
      "Requirement already satisfied: requests>=2.31.0 in /Library/Frameworks/Python.framework/Versions/3.12/lib/python3.12/site-packages (from llama-index-core<0.12.0,>=0.11.19->llama-index) (2.32.3)\n",
      "Requirement already satisfied: tenacity!=8.4.0,<9.0.0,>=8.2.0 in /Library/Frameworks/Python.framework/Versions/3.12/lib/python3.12/site-packages (from llama-index-core<0.12.0,>=0.11.19->llama-index) (8.5.0)\n",
      "Requirement already satisfied: tiktoken>=0.3.3 in /Library/Frameworks/Python.framework/Versions/3.12/lib/python3.12/site-packages (from llama-index-core<0.12.0,>=0.11.19->llama-index) (0.8.0)\n",
      "Requirement already satisfied: tqdm<5.0.0,>=4.66.1 in /Library/Frameworks/Python.framework/Versions/3.12/lib/python3.12/site-packages (from llama-index-core<0.12.0,>=0.11.19->llama-index) (4.66.5)\n",
      "Requirement already satisfied: typing-extensions>=4.5.0 in /Library/Frameworks/Python.framework/Versions/3.12/lib/python3.12/site-packages (from llama-index-core<0.12.0,>=0.11.19->llama-index) (4.12.2)\n",
      "Requirement already satisfied: typing-inspect>=0.8.0 in /Library/Frameworks/Python.framework/Versions/3.12/lib/python3.12/site-packages (from llama-index-core<0.12.0,>=0.11.19->llama-index) (0.9.0)\n",
      "Requirement already satisfied: llama-cloud>=0.0.11 in /Library/Frameworks/Python.framework/Versions/3.12/lib/python3.12/site-packages (from llama-index-indices-managed-llama-cloud>=0.3.0->llama-index) (0.1.4)\n",
      "Requirement already satisfied: pandas in /Library/Frameworks/Python.framework/Versions/3.12/lib/python3.12/site-packages (from llama-index-legacy<0.10.0,>=0.9.48->llama-index) (2.2.3)\n",
      "Requirement already satisfied: anthropic<0.29.0,>=0.26.2 in /Library/Frameworks/Python.framework/Versions/3.12/lib/python3.12/site-packages (from llama-index-llms-anthropic<0.3.0,>=0.2.0->llama-index-llms-bedrock) (0.28.1)\n",
      "Requirement already satisfied: beautifulsoup4<5.0.0,>=4.12.3 in /Library/Frameworks/Python.framework/Versions/3.12/lib/python3.12/site-packages (from llama-index-readers-file<0.3.0,>=0.2.0->llama-index) (4.12.3)\n",
      "Requirement already satisfied: pypdf<5.0.0,>=4.0.1 in /Library/Frameworks/Python.framework/Versions/3.12/lib/python3.12/site-packages (from llama-index-readers-file<0.3.0,>=0.2.0->llama-index) (4.3.1)\n",
      "Requirement already satisfied: striprtf<0.0.27,>=0.0.26 in /Library/Frameworks/Python.framework/Versions/3.12/lib/python3.12/site-packages (from llama-index-readers-file<0.3.0,>=0.2.0->llama-index) (0.0.26)\n",
      "Requirement already satisfied: llama-parse>=0.5.0 in /Library/Frameworks/Python.framework/Versions/3.12/lib/python3.12/site-packages (from llama-index-readers-llama-parse>=0.3.0->llama-index) (0.5.11)\n",
      "Requirement already satisfied: click in /Library/Frameworks/Python.framework/Versions/3.12/lib/python3.12/site-packages (from nltk>3.8.1->llama-index) (8.1.7)\n",
      "Requirement already satisfied: joblib in /Library/Frameworks/Python.framework/Versions/3.12/lib/python3.12/site-packages (from nltk>3.8.1->llama-index) (1.4.2)\n",
      "Requirement already satisfied: regex>=2021.8.3 in /Library/Frameworks/Python.framework/Versions/3.12/lib/python3.12/site-packages (from nltk>3.8.1->llama-index) (2024.9.11)\n",
      "Requirement already satisfied: annotated-types>=0.6.0 in /Library/Frameworks/Python.framework/Versions/3.12/lib/python3.12/site-packages (from pydantic<3.0,>=1.10.7->langfuse) (0.7.0)\n",
      "Requirement already satisfied: pydantic-core==2.23.4 in /Library/Frameworks/Python.framework/Versions/3.12/lib/python3.12/site-packages (from pydantic<3.0,>=1.10.7->langfuse) (2.23.4)\n",
      "Requirement already satisfied: aiohappyeyeballs>=2.3.0 in /Library/Frameworks/Python.framework/Versions/3.12/lib/python3.12/site-packages (from aiohttp<4.0.0,>=3.8.6->llama-index-core<0.12.0,>=0.11.19->llama-index) (2.4.0)\n",
      "Requirement already satisfied: aiosignal>=1.1.2 in /Library/Frameworks/Python.framework/Versions/3.12/lib/python3.12/site-packages (from aiohttp<4.0.0,>=3.8.6->llama-index-core<0.12.0,>=0.11.19->llama-index) (1.3.1)\n",
      "Requirement already satisfied: attrs>=17.3.0 in /Library/Frameworks/Python.framework/Versions/3.12/lib/python3.12/site-packages (from aiohttp<4.0.0,>=3.8.6->llama-index-core<0.12.0,>=0.11.19->llama-index) (24.2.0)\n",
      "Requirement already satisfied: frozenlist>=1.1.1 in /Library/Frameworks/Python.framework/Versions/3.12/lib/python3.12/site-packages (from aiohttp<4.0.0,>=3.8.6->llama-index-core<0.12.0,>=0.11.19->llama-index) (1.4.1)\n",
      "Requirement already satisfied: multidict<7.0,>=4.5 in /Library/Frameworks/Python.framework/Versions/3.12/lib/python3.12/site-packages (from aiohttp<4.0.0,>=3.8.6->llama-index-core<0.12.0,>=0.11.19->llama-index) (6.1.0)\n",
      "Requirement already satisfied: yarl<2.0,>=1.0 in /Library/Frameworks/Python.framework/Versions/3.12/lib/python3.12/site-packages (from aiohttp<4.0.0,>=3.8.6->llama-index-core<0.12.0,>=0.11.19->llama-index) (1.11.1)\n",
      "Requirement already satisfied: distro<2,>=1.7.0 in /Library/Frameworks/Python.framework/Versions/3.12/lib/python3.12/site-packages (from anthropic<0.29.0,>=0.26.2->llama-index-llms-anthropic<0.3.0,>=0.2.0->llama-index-llms-bedrock) (1.9.0)\n",
      "Requirement already satisfied: jiter<1,>=0.4.0 in /Library/Frameworks/Python.framework/Versions/3.12/lib/python3.12/site-packages (from anthropic<0.29.0,>=0.26.2->llama-index-llms-anthropic<0.3.0,>=0.2.0->llama-index-llms-bedrock) (0.5.0)\n",
      "Requirement already satisfied: tokenizers>=0.13.0 in /Library/Frameworks/Python.framework/Versions/3.12/lib/python3.12/site-packages (from anthropic<0.29.0,>=0.26.2->llama-index-llms-anthropic<0.3.0,>=0.2.0->llama-index-llms-bedrock) (0.20.0)\n",
      "Requirement already satisfied: soupsieve>1.2 in /Library/Frameworks/Python.framework/Versions/3.12/lib/python3.12/site-packages (from beautifulsoup4<5.0.0,>=4.12.3->llama-index-readers-file<0.3.0,>=0.2.0->llama-index) (2.6)\n",
      "Requirement already satisfied: python-dateutil<3.0.0,>=2.1 in /Library/Frameworks/Python.framework/Versions/3.12/lib/python3.12/site-packages (from botocore<1.36.0,>=1.35.15->boto3<2.0.0,>=1.34.26->llama-index-llms-bedrock) (2.8.2)\n",
      "Requirement already satisfied: urllib3!=2.2.0,<3,>=1.25.4 in /Library/Frameworks/Python.framework/Versions/3.12/lib/python3.12/site-packages (from botocore<1.36.0,>=1.35.15->boto3<2.0.0,>=1.34.26->llama-index-llms-bedrock) (2.2.2)\n",
      "Requirement already satisfied: charset-normalizer<4,>=2 in /Library/Frameworks/Python.framework/Versions/3.12/lib/python3.12/site-packages (from requests>=2.31.0->llama-index-core<0.12.0,>=0.11.19->llama-index) (3.3.2)\n",
      "Requirement already satisfied: greenlet!=0.4.17 in /Library/Frameworks/Python.framework/Versions/3.12/lib/python3.12/site-packages (from SQLAlchemy>=1.4.49->SQLAlchemy[asyncio]>=1.4.49->llama-index-core<0.12.0,>=0.11.19->llama-index) (3.1.0)\n",
      "Requirement already satisfied: mypy-extensions>=0.3.0 in /Library/Frameworks/Python.framework/Versions/3.12/lib/python3.12/site-packages (from typing-inspect>=0.8.0->llama-index-core<0.12.0,>=0.11.19->llama-index) (1.0.0)\n",
      "Requirement already satisfied: marshmallow<4.0.0,>=3.18.0 in /Library/Frameworks/Python.framework/Versions/3.12/lib/python3.12/site-packages (from dataclasses-json->llama-index-core<0.12.0,>=0.11.19->llama-index) (3.22.0)\n",
      "Requirement already satisfied: pytz>=2020.1 in /Library/Frameworks/Python.framework/Versions/3.12/lib/python3.12/site-packages (from pandas->llama-index-legacy<0.10.0,>=0.9.48->llama-index) (2024.2)\n",
      "Requirement already satisfied: tzdata>=2022.7 in /Library/Frameworks/Python.framework/Versions/3.12/lib/python3.12/site-packages (from pandas->llama-index-legacy<0.10.0,>=0.9.48->llama-index) (2024.2)\n",
      "Requirement already satisfied: six>=1.5 in /Library/Frameworks/Python.framework/Versions/3.12/lib/python3.12/site-packages (from python-dateutil<3.0.0,>=2.1->botocore<1.36.0,>=1.35.15->boto3<2.0.0,>=1.34.26->llama-index-llms-bedrock) (1.16.0)\n",
      "Requirement already satisfied: huggingface-hub<1.0,>=0.16.4 in /Library/Frameworks/Python.framework/Versions/3.12/lib/python3.12/site-packages (from tokenizers>=0.13.0->anthropic<0.29.0,>=0.26.2->llama-index-llms-anthropic<0.3.0,>=0.2.0->llama-index-llms-bedrock) (0.25.1)\n",
      "Requirement already satisfied: filelock in /Library/Frameworks/Python.framework/Versions/3.12/lib/python3.12/site-packages (from huggingface-hub<1.0,>=0.16.4->tokenizers>=0.13.0->anthropic<0.29.0,>=0.26.2->llama-index-llms-anthropic<0.3.0,>=0.2.0->llama-index-llms-bedrock) (3.16.1)\n"
     ]
    }
   ],
   "source": [
    "# Installing all the required packages\n",
    "!pip install llama-index llama-index-llms-bedrock llama-index-embeddings-bedrock langfuse"
   ]
  },
  {
   "cell_type": "code",
   "execution_count": 2,
   "metadata": {},
   "outputs": [],
   "source": [
    "# Importing the required packages\n",
    "import pandas as pd\n",
    "from langfuse.llama_index import LlamaIndexCallbackHandler\n",
    "from llama_index.core import Settings, SQLDatabase\n",
    "from llama_index.core.callbacks import CallbackManager\n",
    "from llama_index.core.query_engine import NLSQLTableQueryEngine\n",
    "from llama_index.core.retrievers import NLSQLRetriever\n",
    "from llama_index.llms.bedrock import Bedrock\n",
    "from llama_index.embeddings.bedrock import BedrockEmbedding\n",
    "from sqlalchemy import Boolean, Column, Float, Integer, String, create_engine\n",
    "from sqlalchemy.orm import declarative_base"
   ]
  },
  {
   "cell_type": "code",
   "execution_count": 3,
   "metadata": {},
   "outputs": [],
   "source": [
    "# Defining the configuration\n",
    "REGION_NAME = \"us-east-1\"\n",
    "CREDENTIALS_PROFILE_NAME = \"MLEngineers\"\n",
    "\n",
    "PUBLIC_KEY = \"pk-lf-c18a4846-e103-4db9-8739-328f70bb3b42\" # e.g. \"pk-1234567890abcdef\"\n",
    "SECRET_KEY = \"sk-lf-a0258b40-6177-4c1e-93dd-243224f1b25d\" # e.g. \"sk-1234567890abcdef\"\n",
    "HOST = \"https://cloud.langfuse.com\"\n",
    "\n",
    "EMBEDDER_MODEL_ID = \"amazon.titan-embed-text-v2:0\"\n",
    "EMBEDDER_MODEL_KWARGS = {\n",
    "    \"dimensions\": 512,\n",
    "    \"normalize\": True\n",
    "}\n",
    "\n",
    "LLM_MODEL_ID = \"anthropic.claude-3-sonnet-20240229-v1:0\" # anthropic.claude-3-haiku-20240307-v1:0 or anthropic.claude-3-sonnet-20240229-v1:0 or anthropic.claude-v2:1\n",
    "LLM_MODEL_KWARGS = {\n",
    "    \"max_tokens\": 4096,\n",
    "    \"temperature\": 0.1,\n",
    "    \"top_p\": 1,\n",
    "    \"top_k\": 250,\n",
    "    \"stop_sequences\": [\"\\n\\nHuman\"]\n",
    "}"
   ]
  },
  {
   "cell_type": "code",
   "execution_count": 4,
   "metadata": {},
   "outputs": [],
   "source": [
    "# Defining the ORM class for the database\n",
    "Base = declarative_base()\n",
    "class Population(Base):\n",
    "    __tablename__ = 'transcriptions'\n",
    "    \n",
    "    studentID = Column(Integer, primary_key=True)\n",
    "    age = Column(Integer)\n",
    "    gender = Column(String)\n",
    "    height = Column(Float)\n",
    "    weight = Column(Float)\n",
    "    bloodType = Column(String)\n",
    "    bmi = Column(Float)\n",
    "    temperature = Column(Float)\n",
    "    heartRate = Column(Integer)\n",
    "    bloodPressure = Column(Integer)\n",
    "    cholesterol = Column(Integer)\n",
    "    diabetes = Column(String)\n",
    "    smoking = Column(String)"
   ]
  },
  {
   "cell_type": "code",
   "execution_count": 5,
   "metadata": {},
   "outputs": [],
   "source": [
    "# Creating the database from .csv and storing it in memory\n",
    "dataframe = pd.read_csv(\"hf://datasets/ayaalhawat/medical/Medical-Students-Performance-Dataset.csv\")\n",
    "dataframe = dataframe.dropna()\n",
    "engine = create_engine('sqlite:///:memory:')\n",
    "Base.metadata.create_all(engine)\n",
    "dataframe.to_sql('transcriptions', con=engine, if_exists='replace', index=False)\n",
    "sql_database = SQLDatabase(engine)"
   ]
  },
  {
   "cell_type": "code",
   "execution_count": 6,
   "metadata": {},
   "outputs": [],
   "source": [
    "# Creating the embedder\n",
    "embedder = BedrockEmbedding(\n",
    "    model=EMBEDDER_MODEL_ID,\n",
    "    model_kwargs=EMBEDDER_MODEL_KWARGS,\n",
    "    region_name=REGION_NAME,\n",
    "    #credentials_profile_name=CREDENTIALS_PROFILE_NAME\n",
    ")"
   ]
  },
  {
   "cell_type": "code",
   "execution_count": 7,
   "metadata": {},
   "outputs": [],
   "source": [
    "# Creating the LLM and Embedder models\n",
    "llm = Bedrock(\n",
    "    region_name=REGION_NAME,\n",
    "    model=LLM_MODEL_ID,\n",
    "    model_kwargs=LLM_MODEL_KWARGS)\n",
    "    #credentials_profile_name=CREDENTIALS_PROFILE_NAME,)"
   ]
  },
  {
   "cell_type": "code",
   "execution_count": 8,
   "metadata": {},
   "outputs": [],
   "source": [
    "# Creating the callback handler\n",
    "langfuse_callback = LlamaIndexCallbackHandler(\n",
    "    public_key=PUBLIC_KEY,\n",
    "    secret_key=SECRET_KEY,\n",
    "    host=\"https://cloud.langfuse.com\"\n",
    ")\n",
    "Settings.callback_manager = CallbackManager([langfuse_callback])"
   ]
  },
  {
   "cell_type": "code",
   "execution_count": 9,
   "metadata": {},
   "outputs": [],
   "source": [
    "# Creating the Natural language SQL Table query engine.\n",
    "query_engine = NLSQLTableQueryEngine(\n",
    "    sql_database=sql_database, tables=[\"transcriptions\"], llm=llm, embed_model=embedder\n",
    ")"
   ]
  },
  {
   "cell_type": "code",
   "execution_count": 10,
   "metadata": {},
   "outputs": [
    {
     "data": {
      "text/plain": [
       "True"
      ]
     },
     "execution_count": 10,
     "metadata": {},
     "output_type": "execute_result"
    }
   ],
   "source": [
    "langfuse_callback.auth_check()"
   ]
  },
  {
   "cell_type": "code",
   "execution_count": 11,
   "metadata": {},
   "outputs": [
    {
     "name": "stdout",
     "output_type": "stream",
     "text": [
      "Based on the SQL query and result, the response to \"What is the age of the person with the highest cholesterol levels?\" is:\n",
      "\n",
      "The age of the person with the highest cholesterol levels is 30.\n"
     ]
    }
   ],
   "source": [
    "# Testing the query engine - 1\n",
    "query_str = \"What is the age of the person with the highest cholesterol levels?\"\n",
    "response = query_engine.query(query_str)\n",
    "print(response)"
   ]
  },
  {
   "cell_type": "code",
   "execution_count": 12,
   "metadata": {},
   "outputs": [
    {
     "name": "stdout",
     "output_type": "stream",
     "text": [
      "Based on the SQL query and its response, the gender that smokes more is Male. The query groups the records from the 'transcriptions' table by 'Gender' where 'Smoking' is 'Yes', counts the number of records for each gender, orders the results by the count in descending order, and takes the first (top) result. The result shows that there are 5085 records where 'Gender' is 'Male' and 'Smoking' is 'Yes', which is higher than the count for any other gender value.\n"
     ]
    }
   ],
   "source": [
    "# Testing the query engine - 2\n",
    "query_str = \"What is the gender that smokes more?\"\n",
    "response = query_engine.query(query_str)\n",
    "print(response)"
   ]
  },
  {
   "cell_type": "code",
   "execution_count": 13,
   "metadata": {},
   "outputs": [
    {
     "name": "stdout",
     "output_type": "stream",
     "text": [
      "Unfortunately, I cannot provide the average blood pressure for people with blood type AB because the SQL query you provided resulted in an error. The error message suggests that the statement is invalid SQL, likely due to an issue with the table or column names used in the query. Without access to the database schema or sample data, I cannot determine the correct way to query for the requested information. Please double-check the table and column names in your query and try again.\n"
     ]
    }
   ],
   "source": [
    "# Testing the query engine - 2\n",
    "query_str = \"What is the average blood pressure for people with blood type AB?\"\n",
    "response = query_engine.query(query_str)\n",
    "print(response)"
   ]
  },
  {
   "cell_type": "code",
   "execution_count": 14,
   "metadata": {},
   "outputs": [
    {
     "name": "stdout",
     "output_type": "stream",
     "text": [
      "The student with the lowest temperature who has diabetes has the ID 81091.\n"
     ]
    }
   ],
   "source": [
    "# Testing the query engine - 2\n",
    "query_str = \"What is the ID of the student with lowest temperature and has diabetes.\"\n",
    "response = query_engine.query(query_str)\n",
    "print(response)"
   ]
  },
  {
   "cell_type": "code",
   "execution_count": 15,
   "metadata": {},
   "outputs": [
    {
     "name": "stdout",
     "output_type": "stream",
     "text": [
      "Based on the SQL query and result, the response to \"What is the average BMI for women?\" would be:\n",
      "\n",
      "The average BMI for women is 23.34.\n"
     ]
    }
   ],
   "source": [
    "# Testing the query engine - 2\n",
    "query_str = \"What is the average BMI for women?\"\n",
    "response = query_engine.query(query_str)\n",
    "print(response)"
   ]
  },
  {
   "cell_type": "code",
   "execution_count": 16,
   "metadata": {},
   "outputs": [],
   "source": [
    "# Creating the Natural language SQL retriever\n",
    "nl_sql_retriever = NLSQLRetriever(\n",
    "    sql_database, tables=[\"transcriptions\"], llm=llm, embed_model=embedder, return_raw=True\n",
    ")"
   ]
  },
  {
   "cell_type": "code",
   "execution_count": 17,
   "metadata": {},
   "outputs": [
    {
     "name": "stdout",
     "output_type": "stream",
     "text": [
      "[NodeWithScore(node=TextNode(id_='f24f31e7-cd29-4193-ad6a-4af89e48bcdb', embedding=None, metadata={'sql_query': 'SELECT Age\\nFROM transcriptions\\nORDER BY Weight DESC\\nLIMIT 5;', 'result': [(31.0,), (26.0,), (26.0,), (19.0,), (18.0,)], 'col_keys': ['Age']}, excluded_embed_metadata_keys=['sql_query', 'result', 'col_keys'], excluded_llm_metadata_keys=['sql_query', 'result', 'col_keys'], relationships={}, text='[(31.0,), (26.0,), (26.0,), (19.0,), (18.0,)]', mimetype='text/plain', start_char_idx=None, end_char_idx=None, text_template='{metadata_str}\\n\\n{content}', metadata_template='{key}: {value}', metadata_seperator='\\n'), score=None)]\n"
     ]
    }
   ],
   "source": [
    "# Testing the retriever\n",
    "results = nl_sql_retriever.retrieve(\n",
    "    \"Return me the top 5 ages of the people with the highest weight.\"\n",
    ")\n",
    "print(results)"
   ]
  },
  {
   "cell_type": "code",
   "execution_count": 18,
   "metadata": {},
   "outputs": [
    {
     "name": "stdout",
     "output_type": "stream",
     "text": [
      "[NodeWithScore(node=TextNode(id_='70c21e21-e231-46f7-a61c-1178d4abe077', embedding=None, metadata={'sql_query': 'SELECT \"Student ID\", Gender\\nFROM transcriptions\\nWHERE Smoking = \\'Yes\\' AND Diabetes = \\'Yes\\'\\nORDER BY Temperature DESC\\nLIMIT 1;', 'result': [(67082.0, 'Female')], 'col_keys': ['Student ID', 'Gender']}, excluded_embed_metadata_keys=['sql_query', 'result', 'col_keys'], excluded_llm_metadata_keys=['sql_query', 'result', 'col_keys'], relationships={}, text=\"[(67082.0, 'Female')]\", mimetype='text/plain', start_char_idx=None, end_char_idx=None, text_template='{metadata_str}\\n\\n{content}', metadata_template='{key}: {value}', metadata_seperator='\\n'), score=None)]\n"
     ]
    }
   ],
   "source": [
    "# Testing the retriever\n",
    "results = nl_sql_retriever.retrieve(\n",
    "    \"Return me the ID and gender of the student with highest temperature, that smokes and has diabetes.\"\n",
    ")\n",
    "print(results)"
   ]
  }
 ],
 "metadata": {
  "kernelspec": {
   "display_name": "Python 3 (ipykernel)",
   "language": "python",
   "name": "python3"
  },
  "language_info": {
   "codemirror_mode": {
    "name": "ipython",
    "version": 3
   },
   "file_extension": ".py",
   "mimetype": "text/x-python",
   "name": "python",
   "nbconvert_exporter": "python",
   "pygments_lexer": "ipython3",
   "version": "3.12.6"
  }
 },
 "nbformat": 4,
 "nbformat_minor": 4
}
