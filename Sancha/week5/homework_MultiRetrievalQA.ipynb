{
 "cells": [
  {
   "cell_type": "markdown",
   "metadata": {},
   "source": [
    "# Homework\n",
    "\n",
    "The idea of this homework is to create a whole RAG system(ingestion and inference pipeline) for specific data and task. \n",
    "Important parts that need to be implemented are:\n",
    "- Loader and chunker for the data\n",
    "- Embedder for the data\n",
    "- LLM for the RAG\n",
    "- Vector Store(Database) for the data\n",
    "- Retriever for the data\n",
    "- Prompt Template for the RAG\n",
    "- RetrieverQA chain for the RAG\n",
    "\n",
    "Play around and try different things, the goal is to have fun and learn something new.\n"
   ]
  },
  {
   "cell_type": "markdown",
   "metadata": {},
   "source": [
    "### Requirements"
   ]
  },
  {
   "cell_type": "code",
   "execution_count": 1,
   "metadata": {},
   "outputs": [
    {
     "name": "stdout",
     "output_type": "stream",
     "text": [
      "Requirement already satisfied: langchain in /Library/Frameworks/Python.framework/Versions/3.12/lib/python3.12/site-packages (0.2.16)\n",
      "Requirement already satisfied: langchain_community in /Library/Frameworks/Python.framework/Versions/3.12/lib/python3.12/site-packages (0.2.16)\n",
      "Requirement already satisfied: boto3 in /Library/Frameworks/Python.framework/Versions/3.12/lib/python3.12/site-packages (1.35.15)\n",
      "Requirement already satisfied: PyYAML>=5.3 in /Library/Frameworks/Python.framework/Versions/3.12/lib/python3.12/site-packages (from langchain) (6.0.2)\n",
      "Requirement already satisfied: SQLAlchemy<3,>=1.4 in /Library/Frameworks/Python.framework/Versions/3.12/lib/python3.12/site-packages (from langchain) (2.0.34)\n",
      "Requirement already satisfied: aiohttp<4.0.0,>=3.8.3 in /Library/Frameworks/Python.framework/Versions/3.12/lib/python3.12/site-packages (from langchain) (3.10.5)\n",
      "Requirement already satisfied: langchain-core<0.3.0,>=0.2.38 in /Library/Frameworks/Python.framework/Versions/3.12/lib/python3.12/site-packages (from langchain) (0.2.38)\n",
      "Requirement already satisfied: langchain-text-splitters<0.3.0,>=0.2.0 in /Library/Frameworks/Python.framework/Versions/3.12/lib/python3.12/site-packages (from langchain) (0.2.4)\n",
      "Requirement already satisfied: langsmith<0.2.0,>=0.1.17 in /Library/Frameworks/Python.framework/Versions/3.12/lib/python3.12/site-packages (from langchain) (0.1.117)\n",
      "Requirement already satisfied: numpy<2.0.0,>=1.26.0 in /Library/Frameworks/Python.framework/Versions/3.12/lib/python3.12/site-packages (from langchain) (1.26.4)\n",
      "Requirement already satisfied: pydantic<3,>=1 in /Library/Frameworks/Python.framework/Versions/3.12/lib/python3.12/site-packages (from langchain) (2.9.1)\n",
      "Requirement already satisfied: requests<3,>=2 in /Library/Frameworks/Python.framework/Versions/3.12/lib/python3.12/site-packages (from langchain) (2.32.3)\n",
      "Requirement already satisfied: tenacity!=8.4.0,<9.0.0,>=8.1.0 in /Library/Frameworks/Python.framework/Versions/3.12/lib/python3.12/site-packages (from langchain) (8.5.0)\n",
      "Requirement already satisfied: dataclasses-json<0.7,>=0.5.7 in /Library/Frameworks/Python.framework/Versions/3.12/lib/python3.12/site-packages (from langchain_community) (0.6.7)\n",
      "Requirement already satisfied: botocore<1.36.0,>=1.35.15 in /Library/Frameworks/Python.framework/Versions/3.12/lib/python3.12/site-packages (from boto3) (1.35.15)\n",
      "Requirement already satisfied: jmespath<2.0.0,>=0.7.1 in /Library/Frameworks/Python.framework/Versions/3.12/lib/python3.12/site-packages (from boto3) (1.0.1)\n",
      "Requirement already satisfied: s3transfer<0.11.0,>=0.10.0 in /Library/Frameworks/Python.framework/Versions/3.12/lib/python3.12/site-packages (from boto3) (0.10.2)\n",
      "Requirement already satisfied: aiohappyeyeballs>=2.3.0 in /Library/Frameworks/Python.framework/Versions/3.12/lib/python3.12/site-packages (from aiohttp<4.0.0,>=3.8.3->langchain) (2.4.0)\n",
      "Requirement already satisfied: aiosignal>=1.1.2 in /Library/Frameworks/Python.framework/Versions/3.12/lib/python3.12/site-packages (from aiohttp<4.0.0,>=3.8.3->langchain) (1.3.1)\n",
      "Requirement already satisfied: attrs>=17.3.0 in /Library/Frameworks/Python.framework/Versions/3.12/lib/python3.12/site-packages (from aiohttp<4.0.0,>=3.8.3->langchain) (24.2.0)\n",
      "Requirement already satisfied: frozenlist>=1.1.1 in /Library/Frameworks/Python.framework/Versions/3.12/lib/python3.12/site-packages (from aiohttp<4.0.0,>=3.8.3->langchain) (1.4.1)\n",
      "Requirement already satisfied: multidict<7.0,>=4.5 in /Library/Frameworks/Python.framework/Versions/3.12/lib/python3.12/site-packages (from aiohttp<4.0.0,>=3.8.3->langchain) (6.1.0)\n",
      "Requirement already satisfied: yarl<2.0,>=1.0 in /Library/Frameworks/Python.framework/Versions/3.12/lib/python3.12/site-packages (from aiohttp<4.0.0,>=3.8.3->langchain) (1.11.1)\n",
      "Requirement already satisfied: python-dateutil<3.0.0,>=2.1 in /Library/Frameworks/Python.framework/Versions/3.12/lib/python3.12/site-packages (from botocore<1.36.0,>=1.35.15->boto3) (2.9.0.post0)\n",
      "Requirement already satisfied: urllib3!=2.2.0,<3,>=1.25.4 in /Library/Frameworks/Python.framework/Versions/3.12/lib/python3.12/site-packages (from botocore<1.36.0,>=1.35.15->boto3) (2.2.2)\n",
      "Requirement already satisfied: marshmallow<4.0.0,>=3.18.0 in /Library/Frameworks/Python.framework/Versions/3.12/lib/python3.12/site-packages (from dataclasses-json<0.7,>=0.5.7->langchain_community) (3.22.0)\n",
      "Requirement already satisfied: typing-inspect<1,>=0.4.0 in /Library/Frameworks/Python.framework/Versions/3.12/lib/python3.12/site-packages (from dataclasses-json<0.7,>=0.5.7->langchain_community) (0.9.0)\n",
      "Requirement already satisfied: jsonpatch<2.0,>=1.33 in /Library/Frameworks/Python.framework/Versions/3.12/lib/python3.12/site-packages (from langchain-core<0.3.0,>=0.2.38->langchain) (1.33)\n",
      "Requirement already satisfied: packaging<25,>=23.2 in /Library/Frameworks/Python.framework/Versions/3.12/lib/python3.12/site-packages (from langchain-core<0.3.0,>=0.2.38->langchain) (24.1)\n",
      "Requirement already satisfied: typing-extensions>=4.7 in /Library/Frameworks/Python.framework/Versions/3.12/lib/python3.12/site-packages (from langchain-core<0.3.0,>=0.2.38->langchain) (4.12.2)\n",
      "Requirement already satisfied: httpx<1,>=0.23.0 in /Library/Frameworks/Python.framework/Versions/3.12/lib/python3.12/site-packages (from langsmith<0.2.0,>=0.1.17->langchain) (0.27.2)\n",
      "Requirement already satisfied: orjson<4.0.0,>=3.9.14 in /Library/Frameworks/Python.framework/Versions/3.12/lib/python3.12/site-packages (from langsmith<0.2.0,>=0.1.17->langchain) (3.10.7)\n",
      "Requirement already satisfied: annotated-types>=0.6.0 in /Library/Frameworks/Python.framework/Versions/3.12/lib/python3.12/site-packages (from pydantic<3,>=1->langchain) (0.7.0)\n",
      "Requirement already satisfied: pydantic-core==2.23.3 in /Library/Frameworks/Python.framework/Versions/3.12/lib/python3.12/site-packages (from pydantic<3,>=1->langchain) (2.23.3)\n",
      "Requirement already satisfied: charset-normalizer<4,>=2 in /Library/Frameworks/Python.framework/Versions/3.12/lib/python3.12/site-packages (from requests<3,>=2->langchain) (3.3.2)\n",
      "Requirement already satisfied: idna<4,>=2.5 in /Library/Frameworks/Python.framework/Versions/3.12/lib/python3.12/site-packages (from requests<3,>=2->langchain) (3.8)\n",
      "Requirement already satisfied: certifi>=2017.4.17 in /Library/Frameworks/Python.framework/Versions/3.12/lib/python3.12/site-packages (from requests<3,>=2->langchain) (2024.8.30)\n",
      "Requirement already satisfied: greenlet!=0.4.17 in /Library/Frameworks/Python.framework/Versions/3.12/lib/python3.12/site-packages (from SQLAlchemy<3,>=1.4->langchain) (3.1.0)\n",
      "Requirement already satisfied: anyio in /Library/Frameworks/Python.framework/Versions/3.12/lib/python3.12/site-packages (from httpx<1,>=0.23.0->langsmith<0.2.0,>=0.1.17->langchain) (4.4.0)\n",
      "Requirement already satisfied: httpcore==1.* in /Library/Frameworks/Python.framework/Versions/3.12/lib/python3.12/site-packages (from httpx<1,>=0.23.0->langsmith<0.2.0,>=0.1.17->langchain) (1.0.5)\n",
      "Requirement already satisfied: sniffio in /Library/Frameworks/Python.framework/Versions/3.12/lib/python3.12/site-packages (from httpx<1,>=0.23.0->langsmith<0.2.0,>=0.1.17->langchain) (1.3.1)\n",
      "Requirement already satisfied: h11<0.15,>=0.13 in /Library/Frameworks/Python.framework/Versions/3.12/lib/python3.12/site-packages (from httpcore==1.*->httpx<1,>=0.23.0->langsmith<0.2.0,>=0.1.17->langchain) (0.14.0)\n",
      "Requirement already satisfied: jsonpointer>=1.9 in /Library/Frameworks/Python.framework/Versions/3.12/lib/python3.12/site-packages (from jsonpatch<2.0,>=1.33->langchain-core<0.3.0,>=0.2.38->langchain) (3.0.0)\n",
      "Requirement already satisfied: six>=1.5 in /Library/Frameworks/Python.framework/Versions/3.12/lib/python3.12/site-packages (from python-dateutil<3.0.0,>=2.1->botocore<1.36.0,>=1.35.15->boto3) (1.16.0)\n",
      "Requirement already satisfied: mypy-extensions>=0.3.0 in /Library/Frameworks/Python.framework/Versions/3.12/lib/python3.12/site-packages (from typing-inspect<1,>=0.4.0->dataclasses-json<0.7,>=0.5.7->langchain_community) (1.0.0)\n"
     ]
    }
   ],
   "source": [
    "# Installing the required packages\n",
    "!pip install langchain langchain_community boto3"
   ]
  },
  {
   "cell_type": "code",
   "execution_count": 2,
   "metadata": {},
   "outputs": [],
   "source": [
    "# Importing the required packages\n",
    "import os\n",
    "\n",
    "from langchain.chains.router import MultiRetrievalQAChain\n",
    "from langchain.document_loaders import PyMuPDFLoader\n",
    "from langchain.memory import ConversationBufferWindowMemory\n",
    "from langchain.prompts import PromptTemplate\n",
    "from langchain.text_splitter import RecursiveCharacterTextSplitter\n",
    "from langchain_community.chat_models import BedrockChat\n",
    "from langchain_community.embeddings import BedrockEmbeddings\n",
    "from langchain_community.vectorstores import FAISS"
   ]
  },
  {
   "cell_type": "markdown",
   "metadata": {},
   "source": [
    "### Loader and Chunker"
   ]
  },
  {
   "cell_type": "code",
   "execution_count": 3,
   "metadata": {},
   "outputs": [],
   "source": [
    "# Defining the configuration\n",
    "REGION_NAME = \"us-east-1\"\n",
    "CREDENTIALS_PROFILE_NAME = \"MLEngineers\"\n",
    "EMBEDDER_MODEL_ID = \"amazon.titan-embed-text-v2:0\"\n",
    "EMBEDDER_MODEL_KWARGS = {\n",
    "    \"dimensions\": 512,\n",
    "    \"normalize\": True\n",
    "}\n",
    "\n",
    "CHUNK_SIZE = 2000\n",
    "CHUNK_OVERLAP = 100\n",
    "\n",
    "DATA_PATHS = [\n",
    "    \"bimby.pdf\",\n",
    "    \"gordon.pdf\"\n",
    "]\n",
    "\n",
    "INSTRUCTION_VECTOR_STORE_PATH = \"./instruction_vector_database/\"\n",
    "RECIPE_VECTOR_STORE_PATH = \"./recipe_vector_database/\""
   ]
  },
  {
   "cell_type": "code",
   "execution_count": 4,
   "metadata": {},
   "outputs": [],
   "source": [
    "# Defining the chunker\n",
    "splitter = RecursiveCharacterTextSplitter(\n",
    "chunk_size=CHUNK_SIZE,\n",
    "chunk_overlap=CHUNK_OVERLAP\n",
    ")"
   ]
  },
  {
   "cell_type": "code",
   "execution_count": 5,
   "metadata": {},
   "outputs": [],
   "source": [
    "# Creating chunks from the documents\n",
    "global_chunks = []\n",
    "for data_path in DATA_PATHS:\n",
    "    loader = PyMuPDFLoader(os.path.join(os.getcwd(), data_path))\n",
    "    docs = loader.load()\n",
    "    chunks = splitter.split_documents(docs)\n",
    "    global_chunks.append(chunks)"
   ]
  },
  {
   "cell_type": "markdown",
   "metadata": {},
   "source": [
    "### Embedder"
   ]
  },
  {
   "cell_type": "code",
   "execution_count": 6,
   "metadata": {},
   "outputs": [
    {
     "name": "stderr",
     "output_type": "stream",
     "text": [
      "/var/folders/j4/5cdm72g53yq6frsslklccrq40000gn/T/ipykernel_20781/592713195.py:2: LangChainDeprecationWarning: The class `BedrockEmbeddings` was deprecated in LangChain 0.2.11 and will be removed in 1.0. An updated version of the class exists in the langchain-aws package and should be used instead. To use it run `pip install -U langchain-aws` and import as `from langchain_aws import BedrockEmbeddings`.\n",
      "  embedder = BedrockEmbeddings(\n"
     ]
    }
   ],
   "source": [
    "# Creating the embedder\n",
    "embedder = BedrockEmbeddings(\n",
    "    model_id=EMBEDDER_MODEL_ID,\n",
    "    model_kwargs=EMBEDDER_MODEL_KWARGS,\n",
    "    region_name=REGION_NAME,\n",
    "    #credentials_profile_name=CREDENTIALS_PROFILE_NAME\n",
    ")"
   ]
  },
  {
   "cell_type": "markdown",
   "metadata": {},
   "source": [
    "### Vector Store (Database)"
   ]
  },
  {
   "cell_type": "code",
   "execution_count": 7,
   "metadata": {},
   "outputs": [],
   "source": [
    "# Creating the vector store\n",
    "instruction_vector_store = FAISS.from_documents(documents=global_chunks[0], embedding=embedder)\n",
    "recipe_vector_store = FAISS.from_documents(documents=global_chunks[1], embedding=embedder)\n",
    "\n",
    "instruction_vector_store.save_local(INSTRUCTION_VECTOR_STORE_PATH)\n",
    "recipe_vector_store.save_local(RECIPE_VECTOR_STORE_PATH)"
   ]
  },
  {
   "cell_type": "markdown",
   "metadata": {},
   "source": [
    "### Prompt Template"
   ]
  },
  {
   "cell_type": "code",
   "execution_count": 28,
   "metadata": {},
   "outputs": [],
   "source": [
    "from langchain.prompts import PromptTemplate\n",
    "\n",
    "LLM_MODEL_ID = \"anthropic.claude-3-sonnet-20240229-v1:0\" # anthropic.claude-3-haiku-20240307-v1:0 or anthropic.claude-3-sonnet-20240229-v1:0 or anthropic.claude-v2:1\n",
    "LLM_MODEL_KWARGS = {\n",
    "    \"max_tokens\": 4096,\n",
    "    \"temperature\": 0.1,\n",
    "    \"top_p\": 1,\n",
    "    \"top_k\": 250,\n",
    "    \"stop_sequences\": [\"\\n\\nHuman\"]\n",
    "}\n",
    "\n",
    "SEARCH_TYPE = \"similarity\"\n",
    "RETRIEVER_KWARGS = {\n",
    "    \"k\": 5\n",
    "}\n",
    "\n",
    "# Inside in the prompt template, you can play with the system's persona, the context and the question.\n",
    "prompt_template = \"\"\" You are an expert chef that provides helpful answers on how to make recipes, either by hand or using a TM6. \n",
    "Use the following pieces of context to provide a helpful answer on the question. {context}\n",
    "\n",
    "Question: {question}\n",
    "\"\"\"\n",
    "PROMPT = PromptTemplate(\n",
    "    template=prompt_template, input_variables=[\"context\", \"question\"]\n",
    ")"
   ]
  },
  {
   "cell_type": "markdown",
   "metadata": {},
   "source": [
    "### LLM"
   ]
  },
  {
   "cell_type": "code",
   "execution_count": 29,
   "metadata": {},
   "outputs": [],
   "source": [
    "# Creating the LLM and Embedder models\n",
    "#llm = BedrockChat(region_name=REGION_NAME, credentials_profile_name=CREDENTIALS_PROFILE_NAME,model_id=LLM_MODEL_ID, model_kwargs=LLM_MODEL_KWARGS)\n",
    "llm = BedrockChat(region_name=REGION_NAME, model_id=LLM_MODEL_ID, model_kwargs=LLM_MODEL_KWARGS)"
   ]
  },
  {
   "cell_type": "markdown",
   "metadata": {},
   "source": [
    "### MultiRetriever"
   ]
  },
  {
   "cell_type": "code",
   "execution_count": 30,
   "metadata": {},
   "outputs": [],
   "source": [
    "# Loading the vector store and creating retriever\n",
    "instruction_vector_store = FAISS.load_local(INSTRUCTION_VECTOR_STORE_PATH, embeddings=embedder, allow_dangerous_deserialization=True)\n",
    "recipe_vector_store = FAISS.load_local(RECIPE_VECTOR_STORE_PATH, embeddings=embedder, allow_dangerous_deserialization=True)\n",
    "\n",
    "instruction_retriever = instruction_vector_store.as_retriever(search_type=SEARCH_TYPE, **RETRIEVER_KWARGS)\n",
    "recipe_retriever = recipe_vector_store.as_retriever(search_type=SEARCH_TYPE, **RETRIEVER_KWARGS)\n",
    "\n",
    "retriever_infos = [\n",
    "    {\n",
    "        \"name\": \"instructions\", \n",
    "        \"description\": \"Good for answering questions about TM6's safety instructions, how to use, settings and cleaning maintenance.\", \n",
    "        \"retriever\": instruction_retriever,\n",
    "        \"prompt\": PROMPT\n",
    "    },\n",
    "    {\n",
    "        \"name\": \"recipes\", \n",
    "        \"description\": \"Good for answering questions Gordon Ramsay's recipes and cooking advices.\",\n",
    "        \"retriever\": recipe_retriever,\n",
    "        \"prompt\": PROMPT\n",
    "    },\n",
    "]"
   ]
  },
  {
   "cell_type": "markdown",
   "metadata": {},
   "source": [
    "### MultiRetrievalQA chain"
   ]
  },
  {
   "cell_type": "code",
   "execution_count": 32,
   "metadata": {},
   "outputs": [
    {
     "name": "stdout",
     "output_type": "stream",
     "text": [
      "\n",
      "\n",
      "\u001b[1m> Entering new MultiRetrievalQAChain chain...\u001b[0m\n",
      "instructions: {'query': 'What is a TM6?'}\n",
      "\u001b[1m> Finished chain.\u001b[0m\n"
     ]
    }
   ],
   "source": [
    "# Creating the Chain for usage\n",
    "multi_chain = MultiRetrievalQAChain.from_retrievers(\n",
    "            llm=llm,\n",
    "            retriever_infos=retriever_infos,\n",
    "            default_retriever=instruction_retriever,\n",
    "            verbose=True,\n",
    ")\n",
    "\n",
    "response = multi_chain.invoke(\"What is a TM6?\")"
   ]
  },
  {
   "cell_type": "code",
   "execution_count": 33,
   "metadata": {},
   "outputs": [
    {
     "data": {
      "text/plain": [
       "{'input': 'What is a TM6?',\n",
       " 'query': 'What is a TM6?',\n",
       " 'result': \"Based on the context provided from the TM6 user manual, the TM6 is a kitchen appliance made by Thermomix. Some key points about the TM6:\\n\\n- It is a kitchen appliance intended for preparing food in domestic households.\\n\\n- It is designed to be used only by adults, not children, even with adult supervision. Children should be kept away from it due to dangers like heat/steam, hot surfaces, etc.\\n\\n- It is not intended for deep frying foods.\\n\\n- It can be used by persons with reduced physical, sensory or mental capabilities if they are properly supervised and understand the hazards.\\n\\n- It has basic cooking functions like weighing ingredients, mixing, heating, etc. \\n\\n- It has Wi-Fi connectivity capabilities that allow setting up a network connection.\\n\\nSo in summary, the TM6 is Thermomix's latest model of a versatile countertop appliance that combines heating and blending functions to prepare various foods, with smart connectivity features. It is an all-in-one food processor designed for convenient home cooking.\"}"
      ]
     },
     "execution_count": 33,
     "metadata": {},
     "output_type": "execute_result"
    }
   ],
   "source": [
    "# Checking the response\n",
    "response"
   ]
  },
  {
   "cell_type": "code",
   "execution_count": 34,
   "metadata": {},
   "outputs": [
    {
     "name": "stdout",
     "output_type": "stream",
     "text": [
      "Based on the context provided from the TM6 user manual, the TM6 is a kitchen appliance made by Thermomix. Some key points about the TM6:\n",
      "\n",
      "- It is a kitchen appliance intended for preparing food in domestic households.\n",
      "\n",
      "- It is designed to be used only by adults, not children, even with adult supervision. Children should be kept away from it due to dangers like heat/steam, hot surfaces, etc.\n",
      "\n",
      "- It is not intended for deep frying foods.\n",
      "\n",
      "- It can be used by persons with reduced physical, sensory or mental capabilities if they are properly supervised and understand the hazards.\n",
      "\n",
      "- It has basic cooking functions like weighing ingredients, mixing, heating, etc. \n",
      "\n",
      "- It has Wi-Fi connectivity capabilities that allow setting up a network connection.\n",
      "\n",
      "So in summary, the TM6 is Thermomix's latest model of a versatile countertop appliance that combines heating and blending functions to prepare various foods, with smart connectivity features. It is an all-in-one food processor designed for convenient home cooking.\n"
     ]
    }
   ],
   "source": [
    "# Printing the answer\n",
    "print(response[\"result\"])"
   ]
  },
  {
   "cell_type": "markdown",
   "metadata": {},
   "source": [
    "### Prompt Engineering"
   ]
  },
  {
   "cell_type": "code",
   "execution_count": 35,
   "metadata": {},
   "outputs": [
    {
     "name": "stdout",
     "output_type": "stream",
     "text": [
      "\n",
      "\n",
      "\u001b[1m> Entering new MultiRetrievalQAChain chain...\u001b[0m\n",
      "recipes: {'query': 'How can I make a Soufflé just like Gordon Ramsay?'}\n",
      "\u001b[1m> Finished chain.\u001b[0m\n",
      "Here are some tips for making soufflés like Gordon Ramsay, based on the provided context:\n",
      "\n",
      "Preparing the Ramekins:\n",
      "1. Brush the soufflé ramekins or molds with softened butter, applying it in upward vertical strokes. Make sure to cover the rims as well.\n",
      "2. Chill the ramekins for a few minutes, then repeat with a second layer of butter.\n",
      "3. Sprinkle some grated chocolate (or other coating like flour) into each mold, shaking to cover the inside completely. Tap out any excess.\n",
      "4. Chill the prepared ramekins until needed.\n",
      "\n",
      "Making the Soufflé Base:\n",
      "1. Follow the recipe for the soufflé base, making a thick, velvety mixture by cooking milk/cream, sugar, egg yolks, and flours together.\n",
      "2. Allow the base to cool to room temperature.\n",
      "\n",
      "Whipping the Egg Whites:\n",
      "1. Whisk the egg whites until they hold stiff peaks.\n",
      "2. Add a few drops of lemon juice to stabilize the whites, then whisk again.\n",
      "3. Gradually add the remaining sugar, a spoonful at a time, whisking constantly until very thick and glossy.\n",
      "\n",
      "Folding and Baking:\n",
      "1. Whisk any zests/flavorings into the soufflé base.\n",
      "2. Whisk in 1/3 of the whipped egg whites to loosen the base.\n",
      "3. Gently fold in the remaining whipped whites with a metal spoon until evenly distributed.\n",
      "4. Fill the prepared ramekins to the top with the soufflé mixture. \n",
      "5. Tap each ramekin once on the counter to remove air bubbles.\n",
      "6. Run your finger around the inside edge to separate the mixture from the dish.\n",
      "7. Bake at 200°C/400°F for 15-20 minutes until risen with a slight wobble in the center.\n",
      "8. Dust with powdered sugar and serve immediately.\n",
      "\n",
      "The key points are properly preparing the ramekins, gently folding in the whipped egg whites, and baking at the right temperature until just set. Following Ramsay's techniques should help you achieve tall, impressive soufflés.\n"
     ]
    }
   ],
   "source": [
    "# Asking a new question and printing the answer\n",
    "response = multi_chain.invoke(\"How can I make a Soufflé just like Gordon Ramsay?\")\n",
    "print(response[\"result\"])"
   ]
  },
  {
   "cell_type": "code",
   "execution_count": 36,
   "metadata": {},
   "outputs": [
    {
     "name": "stdout",
     "output_type": "stream",
     "text": [
      "\n",
      "\n",
      "\u001b[1m> Entering new MultiRetrievalQAChain chain...\u001b[0m\n",
      "recipes: {'query': 'How can I make a soufflé using a Thermomix?'}\n",
      "\u001b[1m> Finished chain.\u001b[0m\n",
      "Here are some tips for making a soufflé using a Thermomix:\n",
      "\n",
      "Soufflé Base:\n",
      "1. Add milk, cream, and half the sugar to the Thermomix bowl. Heat 5 mins/90°C/Speed 4.\n",
      "2. Add egg yolks and flours. Cook 7 mins/90°C/Speed 4 until thickened into a smooth soufflé base. Transfer to a clean bowl and set aside to cool slightly.\n",
      "\n",
      "Egg Whites:\n",
      "3. Thoroughly clean and dry the Thermomix bowl. Add egg whites. Mix 6 mins/Speed 4. \n",
      "4. With the blades running on Speed 4, gradually add in the remaining sugar through the hole in the lid. Continue mixing for 2 more mins until thick and glossy.\n",
      "\n",
      "Combining:\n",
      "5. Fold in zests and juices into the soufflé base.\n",
      "6. Fold in 1/3 of the whipped egg whites to loosen the base mixture.\n",
      "7. Gently fold in remaining egg whites with a large metal spoon until just combined, being careful not to overmix.\n",
      "\n",
      "Baking:\n",
      "8. Prepare ramekins by brushing with softened butter and coating with grated chocolate as instructed.\n",
      "9. Fill ramekins to the top with the soufflé mixture. Run a finger around the inside edge.\n",
      "10. Bake at 200°C for 15-20 minutes until risen with a slight wobble in the center.\n",
      "\n",
      "The Thermomix allows you to easily make the base and whip the egg whites with precision. Just be gentle when folding to keep the batter light and airy for optimal rise. Let me know if you need any other Thermomix soufflé tips!\n"
     ]
    }
   ],
   "source": [
    "# Asking a new question and printing the answer\n",
    "response = multi_chain.invoke(\"How can I make a soufflé using a TM6?\")\n",
    "print(response[\"result\"])"
   ]
  },
  {
   "cell_type": "code",
   "execution_count": 38,
   "metadata": {},
   "outputs": [
    {
     "name": "stdout",
     "output_type": "stream",
     "text": [
      "\n",
      "\n",
      "\u001b[1m> Entering new MultiRetrievalQAChain chain...\u001b[0m\n",
      "recipes: {'query': 'What would be the easiest recipe to cook by hand?'}\n",
      "\u001b[1m> Finished chain.\u001b[0m\n",
      "Based on the context provided, one of the easiest recipes to cook by hand would be the focaccia bread mentioned. The passage states that focaccia is \"a very simple hands-on bread that produces really impressive results\" and that \"it's easy to shape - you simply massage it into the corners.\" \n",
      "\n",
      "A few key points that make focaccia an easy recipe to prepare by hand:\n",
      "\n",
      "1. It uses a yeast dough, but doesn't require extensive kneading like some other yeasted breads. The passage says you just need to knead it until smooth and elastic.\n",
      "\n",
      "2. Since it's baked in a tray, you don't have to shape it into a boule or loaf like with other breads. You can simply stretch and massage the dough into the tray.\n",
      "\n",
      "3. It's very versatile for toppings - you can top it with simple ingredients like tomatoes, olives, rosemary or cured meats that you may have on hand.\n",
      "\n",
      "4. The passage recommends focaccia as a good \"starter\" yeasted bread for home cooks.\n",
      "\n",
      "With its straightforward shaping, minimal kneading, and flexibility for toppings, the focaccia seems to be presented as one of the most accessible and easy recipes to make by hand from the options discussed. The other recipes like pastry require more technique.\n"
     ]
    }
   ],
   "source": [
    "# Asking a new question and printing the answer\n",
    "response = multi_chain.invoke(\"What would be the easiest recipe to cook by hand?\")\n",
    "print(response[\"result\"])"
   ]
  },
  {
   "cell_type": "code",
   "execution_count": 39,
   "metadata": {},
   "outputs": [
    {
     "name": "stdout",
     "output_type": "stream",
     "text": [
      "\n",
      "\n",
      "\u001b[1m> Entering new MultiRetrievalQAChain chain...\u001b[0m\n",
      "recipes: {'query': 'What would be the easiest recipe to cook using a Thermomix TM6?'}\n",
      "\u001b[1m> Finished chain.\u001b[0m\n",
      "As an expert chef, I understand the need for quick and convenient meals after a long day's work. The Thermomix TM6 is an excellent kitchen appliance that can make cooking hassle-free and efficient. Here's a simple recipe that you can whip up using the TM6:\n",
      "\n",
      "Easy Tomato Basil Soup\n",
      "\n",
      "Ingredients:\n",
      "- 1 onion, quartered\n",
      "- 2 garlic cloves\n",
      "- 2 tablespoons olive oil\n",
      "- 1 (28 oz) can diced tomatoes\n",
      "- 1 cup vegetable or chicken broth\n",
      "- 1/2 cup fresh basil leaves\n",
      "- Salt and pepper to taste\n",
      "- Grated Parmesan cheese for serving (optional)\n",
      "\n",
      "Instructions:\n",
      "\n",
      "1. Place the quartered onion and garlic cloves in the TM6 bowl. Chop for 5 seconds on Speed 5.\n",
      "2. Add the olive oil and sauté for 3 minutes at 120°C on Speed 1.\n",
      "3. Add the canned tomatoes (with juice), broth, and basil leaves. Cook for 15 minutes at 100°C on Speed 1.\n",
      "4. Use the puree function to blend the soup until smooth, about 1 minute on Speed 9.\n",
      "5. Season with salt and pepper to taste.\n",
      "6. Serve hot, garnished with grated Parmesan cheese if desired.\n",
      "\n",
      "This tomato basil soup is not only delicious but also incredibly easy to make in the Thermomix TM6. The appliance does all the chopping, sautéing, cooking, and pureeing for you, making it a perfect hassle-free meal for busy weeknights. You can even experiment with different herbs or add a dollop of cream for a richer texture.\n",
      "\n",
      "The TM6's versatility allows you to explore various recipes with minimal effort, making it an excellent investment for those who value convenience without compromising on taste.\n"
     ]
    }
   ],
   "source": [
    "# Asking a new question and printing the answer\n",
    "response = multi_chain.invoke(\"What would be the easiest recipe to cook using a TM6?\")\n",
    "print(response[\"result\"])"
   ]
  },
  {
   "cell_type": "code",
   "execution_count": null,
   "metadata": {},
   "outputs": [],
   "source": []
  }
 ],
 "metadata": {
  "kernelspec": {
   "display_name": "Python 3 (ipykernel)",
   "language": "python",
   "name": "python3"
  },
  "language_info": {
   "codemirror_mode": {
    "name": "ipython",
    "version": 3
   },
   "file_extension": ".py",
   "mimetype": "text/x-python",
   "name": "python",
   "nbconvert_exporter": "python",
   "pygments_lexer": "ipython3",
   "version": "3.12.6"
  }
 },
 "nbformat": 4,
 "nbformat_minor": 4
}
