{
 "cells": [
  {
   "cell_type": "markdown",
   "metadata": {
    "id": "pW2VHb3a3tKM"
   },
   "source": [
    "# Homework\n",
    "\n",
    "The idea of this homework is to create a a LLM based application(RAG, smart prompt engineering, etc) by utilizing LLMOps tools like LangChain, Llamaindex and Langfuse.\n"
   ]
  },
  {
   "cell_type": "markdown",
   "metadata": {
    "id": "pW2VHb3a3tKM"
   },
   "source": [
    "### Requirements\n"
   ]
  },
  {
   "cell_type": "code",
   "execution_count": 1,
   "metadata": {},
   "outputs": [
    {
     "name": "stdout",
     "output_type": "stream",
     "text": [
      "Requirement already satisfied: langchain in /Library/Frameworks/Python.framework/Versions/3.12/lib/python3.12/site-packages (0.3.4)\n",
      "Requirement already satisfied: langchain-community in /Library/Frameworks/Python.framework/Versions/3.12/lib/python3.12/site-packages (0.3.2)\n",
      "Requirement already satisfied: boto3 in /Library/Frameworks/Python.framework/Versions/3.12/lib/python3.12/site-packages (1.35.15)\n",
      "Requirement already satisfied: langfuse in /Library/Frameworks/Python.framework/Versions/3.12/lib/python3.12/site-packages (2.52.2)\n",
      "Requirement already satisfied: faiss-cpu in /Library/Frameworks/Python.framework/Versions/3.12/lib/python3.12/site-packages (1.8.0.post1)\n",
      "Requirement already satisfied: PyMuPDF in /Library/Frameworks/Python.framework/Versions/3.12/lib/python3.12/site-packages (1.24.10)\n",
      "Requirement already satisfied: PyYAML>=5.3 in /Library/Frameworks/Python.framework/Versions/3.12/lib/python3.12/site-packages (from langchain) (6.0.2)\n",
      "Requirement already satisfied: SQLAlchemy<3,>=1.4 in /Library/Frameworks/Python.framework/Versions/3.12/lib/python3.12/site-packages (from langchain) (2.0.34)\n",
      "Requirement already satisfied: aiohttp<4.0.0,>=3.8.3 in /Library/Frameworks/Python.framework/Versions/3.12/lib/python3.12/site-packages (from langchain) (3.10.5)\n",
      "Requirement already satisfied: langchain-core<0.4.0,>=0.3.12 in /Library/Frameworks/Python.framework/Versions/3.12/lib/python3.12/site-packages (from langchain) (0.3.12)\n",
      "Requirement already satisfied: langchain-text-splitters<0.4.0,>=0.3.0 in /Library/Frameworks/Python.framework/Versions/3.12/lib/python3.12/site-packages (from langchain) (0.3.0)\n",
      "Requirement already satisfied: langsmith<0.2.0,>=0.1.17 in /Library/Frameworks/Python.framework/Versions/3.12/lib/python3.12/site-packages (from langchain) (0.1.137)\n",
      "Requirement already satisfied: numpy<2.0.0,>=1.26.0 in /Library/Frameworks/Python.framework/Versions/3.12/lib/python3.12/site-packages (from langchain) (1.26.4)\n",
      "Requirement already satisfied: pydantic<3.0.0,>=2.7.4 in /Library/Frameworks/Python.framework/Versions/3.12/lib/python3.12/site-packages (from langchain) (2.9.2)\n",
      "Requirement already satisfied: requests<3,>=2 in /Library/Frameworks/Python.framework/Versions/3.12/lib/python3.12/site-packages (from langchain) (2.32.3)\n",
      "Requirement already satisfied: tenacity!=8.4.0,<10,>=8.1.0 in /Library/Frameworks/Python.framework/Versions/3.12/lib/python3.12/site-packages (from langchain) (8.5.0)\n",
      "Requirement already satisfied: dataclasses-json<0.7,>=0.5.7 in /Library/Frameworks/Python.framework/Versions/3.12/lib/python3.12/site-packages (from langchain-community) (0.6.7)\n",
      "Requirement already satisfied: pydantic-settings<3.0.0,>=2.4.0 in /Library/Frameworks/Python.framework/Versions/3.12/lib/python3.12/site-packages (from langchain-community) (2.5.2)\n",
      "Requirement already satisfied: botocore<1.36.0,>=1.35.15 in /Library/Frameworks/Python.framework/Versions/3.12/lib/python3.12/site-packages (from boto3) (1.35.15)\n",
      "Requirement already satisfied: jmespath<2.0.0,>=0.7.1 in /Library/Frameworks/Python.framework/Versions/3.12/lib/python3.12/site-packages (from boto3) (1.0.1)\n",
      "Requirement already satisfied: s3transfer<0.11.0,>=0.10.0 in /Library/Frameworks/Python.framework/Versions/3.12/lib/python3.12/site-packages (from boto3) (0.10.2)\n",
      "Requirement already satisfied: anyio<5.0.0,>=4.4.0 in /Library/Frameworks/Python.framework/Versions/3.12/lib/python3.12/site-packages (from langfuse) (4.4.0)\n",
      "Requirement already satisfied: backoff>=1.10.0 in /Library/Frameworks/Python.framework/Versions/3.12/lib/python3.12/site-packages (from langfuse) (1.11.1)\n",
      "Requirement already satisfied: httpx<1.0,>=0.15.4 in /Library/Frameworks/Python.framework/Versions/3.12/lib/python3.12/site-packages (from langfuse) (0.27.2)\n",
      "Requirement already satisfied: idna<4.0,>=3.7 in /Library/Frameworks/Python.framework/Versions/3.12/lib/python3.12/site-packages (from langfuse) (3.8)\n",
      "Requirement already satisfied: packaging<25.0,>=23.2 in /Library/Frameworks/Python.framework/Versions/3.12/lib/python3.12/site-packages (from langfuse) (24.1)\n",
      "Requirement already satisfied: wrapt<2.0,>=1.14 in /Library/Frameworks/Python.framework/Versions/3.12/lib/python3.12/site-packages (from langfuse) (1.16.0)\n",
      "Requirement already satisfied: PyMuPDFb==1.24.10 in /Library/Frameworks/Python.framework/Versions/3.12/lib/python3.12/site-packages (from PyMuPDF) (1.24.10)\n",
      "Requirement already satisfied: aiohappyeyeballs>=2.3.0 in /Library/Frameworks/Python.framework/Versions/3.12/lib/python3.12/site-packages (from aiohttp<4.0.0,>=3.8.3->langchain) (2.4.0)\n",
      "Requirement already satisfied: aiosignal>=1.1.2 in /Library/Frameworks/Python.framework/Versions/3.12/lib/python3.12/site-packages (from aiohttp<4.0.0,>=3.8.3->langchain) (1.3.1)\n",
      "Requirement already satisfied: attrs>=17.3.0 in /Library/Frameworks/Python.framework/Versions/3.12/lib/python3.12/site-packages (from aiohttp<4.0.0,>=3.8.3->langchain) (24.2.0)\n",
      "Requirement already satisfied: frozenlist>=1.1.1 in /Library/Frameworks/Python.framework/Versions/3.12/lib/python3.12/site-packages (from aiohttp<4.0.0,>=3.8.3->langchain) (1.4.1)\n",
      "Requirement already satisfied: multidict<7.0,>=4.5 in /Library/Frameworks/Python.framework/Versions/3.12/lib/python3.12/site-packages (from aiohttp<4.0.0,>=3.8.3->langchain) (6.1.0)\n",
      "Requirement already satisfied: yarl<2.0,>=1.0 in /Library/Frameworks/Python.framework/Versions/3.12/lib/python3.12/site-packages (from aiohttp<4.0.0,>=3.8.3->langchain) (1.11.1)\n",
      "Requirement already satisfied: sniffio>=1.1 in /Library/Frameworks/Python.framework/Versions/3.12/lib/python3.12/site-packages (from anyio<5.0.0,>=4.4.0->langfuse) (1.3.1)\n",
      "Requirement already satisfied: python-dateutil<3.0.0,>=2.1 in /Library/Frameworks/Python.framework/Versions/3.12/lib/python3.12/site-packages (from botocore<1.36.0,>=1.35.15->boto3) (2.8.2)\n",
      "Requirement already satisfied: urllib3!=2.2.0,<3,>=1.25.4 in /Library/Frameworks/Python.framework/Versions/3.12/lib/python3.12/site-packages (from botocore<1.36.0,>=1.35.15->boto3) (2.2.2)\n",
      "Requirement already satisfied: marshmallow<4.0.0,>=3.18.0 in /Library/Frameworks/Python.framework/Versions/3.12/lib/python3.12/site-packages (from dataclasses-json<0.7,>=0.5.7->langchain-community) (3.22.0)\n",
      "Requirement already satisfied: typing-inspect<1,>=0.4.0 in /Library/Frameworks/Python.framework/Versions/3.12/lib/python3.12/site-packages (from dataclasses-json<0.7,>=0.5.7->langchain-community) (0.9.0)\n",
      "Requirement already satisfied: certifi in /Library/Frameworks/Python.framework/Versions/3.12/lib/python3.12/site-packages (from httpx<1.0,>=0.15.4->langfuse) (2024.8.30)\n",
      "Requirement already satisfied: httpcore==1.* in /Library/Frameworks/Python.framework/Versions/3.12/lib/python3.12/site-packages (from httpx<1.0,>=0.15.4->langfuse) (1.0.5)\n",
      "Requirement already satisfied: h11<0.15,>=0.13 in /Library/Frameworks/Python.framework/Versions/3.12/lib/python3.12/site-packages (from httpcore==1.*->httpx<1.0,>=0.15.4->langfuse) (0.14.0)\n",
      "Requirement already satisfied: jsonpatch<2.0,>=1.33 in /Library/Frameworks/Python.framework/Versions/3.12/lib/python3.12/site-packages (from langchain-core<0.4.0,>=0.3.12->langchain) (1.33)\n",
      "Requirement already satisfied: typing-extensions>=4.7 in /Library/Frameworks/Python.framework/Versions/3.12/lib/python3.12/site-packages (from langchain-core<0.4.0,>=0.3.12->langchain) (4.12.2)\n",
      "Requirement already satisfied: orjson<4.0.0,>=3.9.14 in /Library/Frameworks/Python.framework/Versions/3.12/lib/python3.12/site-packages (from langsmith<0.2.0,>=0.1.17->langchain) (3.10.7)\n",
      "Requirement already satisfied: requests-toolbelt<2.0.0,>=1.0.0 in /Library/Frameworks/Python.framework/Versions/3.12/lib/python3.12/site-packages (from langsmith<0.2.0,>=0.1.17->langchain) (1.0.0)\n",
      "Requirement already satisfied: annotated-types>=0.6.0 in /Library/Frameworks/Python.framework/Versions/3.12/lib/python3.12/site-packages (from pydantic<3.0.0,>=2.7.4->langchain) (0.7.0)\n",
      "Requirement already satisfied: pydantic-core==2.23.4 in /Library/Frameworks/Python.framework/Versions/3.12/lib/python3.12/site-packages (from pydantic<3.0.0,>=2.7.4->langchain) (2.23.4)\n",
      "Requirement already satisfied: python-dotenv>=0.21.0 in /Library/Frameworks/Python.framework/Versions/3.12/lib/python3.12/site-packages (from pydantic-settings<3.0.0,>=2.4.0->langchain-community) (1.0.1)\n",
      "Requirement already satisfied: charset-normalizer<4,>=2 in /Library/Frameworks/Python.framework/Versions/3.12/lib/python3.12/site-packages (from requests<3,>=2->langchain) (3.3.2)\n",
      "Requirement already satisfied: greenlet!=0.4.17 in /Library/Frameworks/Python.framework/Versions/3.12/lib/python3.12/site-packages (from SQLAlchemy<3,>=1.4->langchain) (3.1.0)\n",
      "Requirement already satisfied: jsonpointer>=1.9 in /Library/Frameworks/Python.framework/Versions/3.12/lib/python3.12/site-packages (from jsonpatch<2.0,>=1.33->langchain-core<0.4.0,>=0.3.12->langchain) (3.0.0)\n",
      "Requirement already satisfied: six>=1.5 in /Library/Frameworks/Python.framework/Versions/3.12/lib/python3.12/site-packages (from python-dateutil<3.0.0,>=2.1->botocore<1.36.0,>=1.35.15->boto3) (1.16.0)\n",
      "Requirement already satisfied: mypy-extensions>=0.3.0 in /Library/Frameworks/Python.framework/Versions/3.12/lib/python3.12/site-packages (from typing-inspect<1,>=0.4.0->dataclasses-json<0.7,>=0.5.7->langchain-community) (1.0.0)\n"
     ]
    }
   ],
   "source": [
    "# Install the langchain and langchain-community packages\n",
    "!pip install langchain langchain-community boto3 langfuse faiss-cpu PyMuPDF"
   ]
  },
  {
   "cell_type": "code",
   "execution_count": 2,
   "metadata": {},
   "outputs": [],
   "source": [
    "# Importing all the neccessary modules/libraries\n",
    "import os\n",
    "\n",
    "from langchain.chains.router import MultiRetrievalQAChain\n",
    "from langchain.document_loaders import PyMuPDFLoader\n",
    "from langchain.memory import ConversationBufferWindowMemory\n",
    "from langchain.prompts import PromptTemplate\n",
    "from langchain.text_splitter import RecursiveCharacterTextSplitter\n",
    "from langchain_aws import ChatBedrock\n",
    "from langchain_community.embeddings import BedrockEmbeddings\n",
    "from langchain_community.vectorstores import FAISS\n",
    "from langfuse.callback import CallbackHandler"
   ]
  },
  {
   "cell_type": "markdown",
   "metadata": {
    "id": "pW2VHb3a3tKM"
   },
   "source": [
    "### Credentials, Loader, Chunker and Prompt Template"
   ]
  },
  {
   "cell_type": "code",
   "execution_count": 3,
   "metadata": {},
   "outputs": [],
   "source": [
    "# Defining the configuration\n",
    "REGION_NAME = \"us-east-1\"\n",
    "CREDENTIALS_PROFILE_NAME = \"MLEngineers\"\n",
    "\n",
    "PUBLIC_KEY = \"pk-lf-c18a4846-e103-4db9-8739-328f70bb3b42\" # e.g. \"pk-1234567890abcdef\"\n",
    "SECRET_KEY = \"sk-lf-a0258b40-6177-4c1e-93dd-243224f1b25d\" # e.g. \"sk-1234567890abcdef\"\n",
    "HOST = \"https://cloud.langfuse.com\"\n",
    "\n",
    "EMBEDDER_MODEL_ID = \"amazon.titan-embed-text-v2:0\"\n",
    "EMBEDDER_MODEL_KWARGS = {\n",
    "    \"dimensions\": 512,\n",
    "    \"normalize\": True\n",
    "}\n",
    "\n",
    "LLM_MODEL_ID = \"anthropic.claude-3-sonnet-20240229-v1:0\" # anthropic.claude-3-haiku-20240307-v1:0 or anthropic.claude-3-sonnet-20240229-v1:0 or anthropic.claude-v2:1\n",
    "LLM_MODEL_KWARGS = {\n",
    "    \"max_tokens\": 4096,\n",
    "    \"temperature\": 0.1,\n",
    "    \"top_p\": 1,\n",
    "    \"top_k\": 250,\n",
    "    \"stop_sequences\": [\"\\n\\nHuman\"]\n",
    "}\n",
    "\n",
    "CHUNK_SIZE = 2000\n",
    "CHUNK_OVERLAP = 100\n",
    "\n",
    "DATA_PATHS = [\n",
    "    \"cooking_manuals/bimby.pdf\",\n",
    "    \"cooking_manuals/gordon.pdf\" \n",
    "]\n",
    "\n",
    "INSTRUCTION_VECTOR_STORE_PATH = \"./instruction_vector_database/\"\n",
    "RECIPE_VECTOR_STORE_PATH = \"./recipe_vector_database/\"\n",
    "\n",
    "SEARCH_TYPE = \"similarity\"\n",
    "RETRIEVER_KWARGS = {\n",
    "    \"k\": 5\n",
    "}\n",
    "\n",
    "INPUT_KEY = \"question\"\n",
    "INPUT_VARIABLES = [\"context\", \"question\"]\n",
    "\n",
    "# Inside in the prompt template, you can play with the system's persona, the context, the history, and the question.\n",
    "PROMPT_TEMPLATE = \"\"\"\n",
    "System: You are an helpful, respectful and honest assistant that cooking recipes, either by hand or using a TM6.\n",
    "Always answer as helpfully as possible, while being safe.\n",
    "Please ensure that your responses are socially unbiased and positive in nature.\n",
    "When addressing the user, always base your responses on the context provided if its available.\n",
    "If you are unsure about the answer, please let the user know.\n",
    "If the user asks something that is not related to Cooking or TM6, please let the user know.\n",
    "Human:\n",
    "----------\n",
    "<context>\n",
    "{context}\n",
    "</context>\n",
    "----------\n",
    "<question>\n",
    "{question}\n",
    "</question>\n",
    "----------\n",
    "Assistant:\n",
    "\"\"\"\n",
    "\n",
    "# Creating the memory and the prompt template\n",
    "prompt = PromptTemplate(\n",
    "    template=PROMPT_TEMPLATE, input_variables=INPUT_VARIABLES\n",
    ")"
   ]
  },
  {
   "cell_type": "code",
   "execution_count": 4,
   "metadata": {},
   "outputs": [],
   "source": [
    "# Defining the chunker\n",
    "splitter = RecursiveCharacterTextSplitter(\n",
    "chunk_size=CHUNK_SIZE,\n",
    "chunk_overlap=CHUNK_OVERLAP\n",
    ")"
   ]
  },
  {
   "cell_type": "code",
   "execution_count": 5,
   "metadata": {},
   "outputs": [
    {
     "name": "stderr",
     "output_type": "stream",
     "text": [
      "/Library/Frameworks/Python.framework/Versions/3.12/lib/python3.12/site-packages/langchain_community/document_loaders/parsers/pdf.py:299: UserWarning: Warning: Empty content on page 0 of document /Users/sanchabbarroso/Desktop/Internship/LLMOPS/cooking_manuals/gordon.pdf\n",
      "  warnings.warn(\n",
      "/Library/Frameworks/Python.framework/Versions/3.12/lib/python3.12/site-packages/langchain_community/document_loaders/parsers/pdf.py:299: UserWarning: Warning: Empty content on page 3 of document /Users/sanchabbarroso/Desktop/Internship/LLMOPS/cooking_manuals/gordon.pdf\n",
      "  warnings.warn(\n",
      "/Library/Frameworks/Python.framework/Versions/3.12/lib/python3.12/site-packages/langchain_community/document_loaders/parsers/pdf.py:299: UserWarning: Warning: Empty content on page 9 of document /Users/sanchabbarroso/Desktop/Internship/LLMOPS/cooking_manuals/gordon.pdf\n",
      "  warnings.warn(\n",
      "/Library/Frameworks/Python.framework/Versions/3.12/lib/python3.12/site-packages/langchain_community/document_loaders/parsers/pdf.py:299: UserWarning: Warning: Empty content on page 10 of document /Users/sanchabbarroso/Desktop/Internship/LLMOPS/cooking_manuals/gordon.pdf\n",
      "  warnings.warn(\n",
      "/Library/Frameworks/Python.framework/Versions/3.12/lib/python3.12/site-packages/langchain_community/document_loaders/parsers/pdf.py:299: UserWarning: Warning: Empty content on page 19 of document /Users/sanchabbarroso/Desktop/Internship/LLMOPS/cooking_manuals/gordon.pdf\n",
      "  warnings.warn(\n",
      "/Library/Frameworks/Python.framework/Versions/3.12/lib/python3.12/site-packages/langchain_community/document_loaders/parsers/pdf.py:299: UserWarning: Warning: Empty content on page 20 of document /Users/sanchabbarroso/Desktop/Internship/LLMOPS/cooking_manuals/gordon.pdf\n",
      "  warnings.warn(\n",
      "/Library/Frameworks/Python.framework/Versions/3.12/lib/python3.12/site-packages/langchain_community/document_loaders/parsers/pdf.py:299: UserWarning: Warning: Empty content on page 28 of document /Users/sanchabbarroso/Desktop/Internship/LLMOPS/cooking_manuals/gordon.pdf\n",
      "  warnings.warn(\n",
      "/Library/Frameworks/Python.framework/Versions/3.12/lib/python3.12/site-packages/langchain_community/document_loaders/parsers/pdf.py:299: UserWarning: Warning: Empty content on page 31 of document /Users/sanchabbarroso/Desktop/Internship/LLMOPS/cooking_manuals/gordon.pdf\n",
      "  warnings.warn(\n",
      "/Library/Frameworks/Python.framework/Versions/3.12/lib/python3.12/site-packages/langchain_community/document_loaders/parsers/pdf.py:299: UserWarning: Warning: Empty content on page 38 of document /Users/sanchabbarroso/Desktop/Internship/LLMOPS/cooking_manuals/gordon.pdf\n",
      "  warnings.warn(\n",
      "/Library/Frameworks/Python.framework/Versions/3.12/lib/python3.12/site-packages/langchain_community/document_loaders/parsers/pdf.py:299: UserWarning: Warning: Empty content on page 41 of document /Users/sanchabbarroso/Desktop/Internship/LLMOPS/cooking_manuals/gordon.pdf\n",
      "  warnings.warn(\n",
      "/Library/Frameworks/Python.framework/Versions/3.12/lib/python3.12/site-packages/langchain_community/document_loaders/parsers/pdf.py:299: UserWarning: Warning: Empty content on page 47 of document /Users/sanchabbarroso/Desktop/Internship/LLMOPS/cooking_manuals/gordon.pdf\n",
      "  warnings.warn(\n",
      "/Library/Frameworks/Python.framework/Versions/3.12/lib/python3.12/site-packages/langchain_community/document_loaders/parsers/pdf.py:299: UserWarning: Warning: Empty content on page 54 of document /Users/sanchabbarroso/Desktop/Internship/LLMOPS/cooking_manuals/gordon.pdf\n",
      "  warnings.warn(\n",
      "/Library/Frameworks/Python.framework/Versions/3.12/lib/python3.12/site-packages/langchain_community/document_loaders/parsers/pdf.py:299: UserWarning: Warning: Empty content on page 57 of document /Users/sanchabbarroso/Desktop/Internship/LLMOPS/cooking_manuals/gordon.pdf\n",
      "  warnings.warn(\n",
      "/Library/Frameworks/Python.framework/Versions/3.12/lib/python3.12/site-packages/langchain_community/document_loaders/parsers/pdf.py:299: UserWarning: Warning: Empty content on page 59 of document /Users/sanchabbarroso/Desktop/Internship/LLMOPS/cooking_manuals/gordon.pdf\n",
      "  warnings.warn(\n",
      "/Library/Frameworks/Python.framework/Versions/3.12/lib/python3.12/site-packages/langchain_community/document_loaders/parsers/pdf.py:299: UserWarning: Warning: Empty content on page 60 of document /Users/sanchabbarroso/Desktop/Internship/LLMOPS/cooking_manuals/gordon.pdf\n",
      "  warnings.warn(\n",
      "/Library/Frameworks/Python.framework/Versions/3.12/lib/python3.12/site-packages/langchain_community/document_loaders/parsers/pdf.py:299: UserWarning: Warning: Empty content on page 61 of document /Users/sanchabbarroso/Desktop/Internship/LLMOPS/cooking_manuals/gordon.pdf\n",
      "  warnings.warn(\n",
      "/Library/Frameworks/Python.framework/Versions/3.12/lib/python3.12/site-packages/langchain_community/document_loaders/parsers/pdf.py:299: UserWarning: Warning: Empty content on page 74 of document /Users/sanchabbarroso/Desktop/Internship/LLMOPS/cooking_manuals/gordon.pdf\n",
      "  warnings.warn(\n",
      "/Library/Frameworks/Python.framework/Versions/3.12/lib/python3.12/site-packages/langchain_community/document_loaders/parsers/pdf.py:299: UserWarning: Warning: Empty content on page 77 of document /Users/sanchabbarroso/Desktop/Internship/LLMOPS/cooking_manuals/gordon.pdf\n",
      "  warnings.warn(\n",
      "/Library/Frameworks/Python.framework/Versions/3.12/lib/python3.12/site-packages/langchain_community/document_loaders/parsers/pdf.py:299: UserWarning: Warning: Empty content on page 80 of document /Users/sanchabbarroso/Desktop/Internship/LLMOPS/cooking_manuals/gordon.pdf\n",
      "  warnings.warn(\n",
      "/Library/Frameworks/Python.framework/Versions/3.12/lib/python3.12/site-packages/langchain_community/document_loaders/parsers/pdf.py:299: UserWarning: Warning: Empty content on page 83 of document /Users/sanchabbarroso/Desktop/Internship/LLMOPS/cooking_manuals/gordon.pdf\n",
      "  warnings.warn(\n",
      "/Library/Frameworks/Python.framework/Versions/3.12/lib/python3.12/site-packages/langchain_community/document_loaders/parsers/pdf.py:299: UserWarning: Warning: Empty content on page 90 of document /Users/sanchabbarroso/Desktop/Internship/LLMOPS/cooking_manuals/gordon.pdf\n",
      "  warnings.warn(\n",
      "/Library/Frameworks/Python.framework/Versions/3.12/lib/python3.12/site-packages/langchain_community/document_loaders/parsers/pdf.py:299: UserWarning: Warning: Empty content on page 93 of document /Users/sanchabbarroso/Desktop/Internship/LLMOPS/cooking_manuals/gordon.pdf\n",
      "  warnings.warn(\n",
      "/Library/Frameworks/Python.framework/Versions/3.12/lib/python3.12/site-packages/langchain_community/document_loaders/parsers/pdf.py:299: UserWarning: Warning: Empty content on page 96 of document /Users/sanchabbarroso/Desktop/Internship/LLMOPS/cooking_manuals/gordon.pdf\n",
      "  warnings.warn(\n",
      "/Library/Frameworks/Python.framework/Versions/3.12/lib/python3.12/site-packages/langchain_community/document_loaders/parsers/pdf.py:299: UserWarning: Warning: Empty content on page 99 of document /Users/sanchabbarroso/Desktop/Internship/LLMOPS/cooking_manuals/gordon.pdf\n",
      "  warnings.warn(\n",
      "/Library/Frameworks/Python.framework/Versions/3.12/lib/python3.12/site-packages/langchain_community/document_loaders/parsers/pdf.py:299: UserWarning: Warning: Empty content on page 102 of document /Users/sanchabbarroso/Desktop/Internship/LLMOPS/cooking_manuals/gordon.pdf\n",
      "  warnings.warn(\n",
      "/Library/Frameworks/Python.framework/Versions/3.12/lib/python3.12/site-packages/langchain_community/document_loaders/parsers/pdf.py:299: UserWarning: Warning: Empty content on page 103 of document /Users/sanchabbarroso/Desktop/Internship/LLMOPS/cooking_manuals/gordon.pdf\n",
      "  warnings.warn(\n",
      "/Library/Frameworks/Python.framework/Versions/3.12/lib/python3.12/site-packages/langchain_community/document_loaders/parsers/pdf.py:299: UserWarning: Warning: Empty content on page 104 of document /Users/sanchabbarroso/Desktop/Internship/LLMOPS/cooking_manuals/gordon.pdf\n",
      "  warnings.warn(\n",
      "/Library/Frameworks/Python.framework/Versions/3.12/lib/python3.12/site-packages/langchain_community/document_loaders/parsers/pdf.py:299: UserWarning: Warning: Empty content on page 116 of document /Users/sanchabbarroso/Desktop/Internship/LLMOPS/cooking_manuals/gordon.pdf\n",
      "  warnings.warn(\n",
      "/Library/Frameworks/Python.framework/Versions/3.12/lib/python3.12/site-packages/langchain_community/document_loaders/parsers/pdf.py:299: UserWarning: Warning: Empty content on page 123 of document /Users/sanchabbarroso/Desktop/Internship/LLMOPS/cooking_manuals/gordon.pdf\n",
      "  warnings.warn(\n",
      "/Library/Frameworks/Python.framework/Versions/3.12/lib/python3.12/site-packages/langchain_community/document_loaders/parsers/pdf.py:299: UserWarning: Warning: Empty content on page 126 of document /Users/sanchabbarroso/Desktop/Internship/LLMOPS/cooking_manuals/gordon.pdf\n",
      "  warnings.warn(\n",
      "/Library/Frameworks/Python.framework/Versions/3.12/lib/python3.12/site-packages/langchain_community/document_loaders/parsers/pdf.py:299: UserWarning: Warning: Empty content on page 129 of document /Users/sanchabbarroso/Desktop/Internship/LLMOPS/cooking_manuals/gordon.pdf\n",
      "  warnings.warn(\n",
      "/Library/Frameworks/Python.framework/Versions/3.12/lib/python3.12/site-packages/langchain_community/document_loaders/parsers/pdf.py:299: UserWarning: Warning: Empty content on page 132 of document /Users/sanchabbarroso/Desktop/Internship/LLMOPS/cooking_manuals/gordon.pdf\n",
      "  warnings.warn(\n",
      "/Library/Frameworks/Python.framework/Versions/3.12/lib/python3.12/site-packages/langchain_community/document_loaders/parsers/pdf.py:299: UserWarning: Warning: Empty content on page 135 of document /Users/sanchabbarroso/Desktop/Internship/LLMOPS/cooking_manuals/gordon.pdf\n",
      "  warnings.warn(\n",
      "/Library/Frameworks/Python.framework/Versions/3.12/lib/python3.12/site-packages/langchain_community/document_loaders/parsers/pdf.py:299: UserWarning: Warning: Empty content on page 138 of document /Users/sanchabbarroso/Desktop/Internship/LLMOPS/cooking_manuals/gordon.pdf\n",
      "  warnings.warn(\n",
      "/Library/Frameworks/Python.framework/Versions/3.12/lib/python3.12/site-packages/langchain_community/document_loaders/parsers/pdf.py:299: UserWarning: Warning: Empty content on page 140 of document /Users/sanchabbarroso/Desktop/Internship/LLMOPS/cooking_manuals/gordon.pdf\n",
      "  warnings.warn(\n",
      "/Library/Frameworks/Python.framework/Versions/3.12/lib/python3.12/site-packages/langchain_community/document_loaders/parsers/pdf.py:299: UserWarning: Warning: Empty content on page 145 of document /Users/sanchabbarroso/Desktop/Internship/LLMOPS/cooking_manuals/gordon.pdf\n",
      "  warnings.warn(\n",
      "/Library/Frameworks/Python.framework/Versions/3.12/lib/python3.12/site-packages/langchain_community/document_loaders/parsers/pdf.py:299: UserWarning: Warning: Empty content on page 146 of document /Users/sanchabbarroso/Desktop/Internship/LLMOPS/cooking_manuals/gordon.pdf\n",
      "  warnings.warn(\n",
      "/Library/Frameworks/Python.framework/Versions/3.12/lib/python3.12/site-packages/langchain_community/document_loaders/parsers/pdf.py:299: UserWarning: Warning: Empty content on page 158 of document /Users/sanchabbarroso/Desktop/Internship/LLMOPS/cooking_manuals/gordon.pdf\n",
      "  warnings.warn(\n",
      "/Library/Frameworks/Python.framework/Versions/3.12/lib/python3.12/site-packages/langchain_community/document_loaders/parsers/pdf.py:299: UserWarning: Warning: Empty content on page 160 of document /Users/sanchabbarroso/Desktop/Internship/LLMOPS/cooking_manuals/gordon.pdf\n",
      "  warnings.warn(\n",
      "/Library/Frameworks/Python.framework/Versions/3.12/lib/python3.12/site-packages/langchain_community/document_loaders/parsers/pdf.py:299: UserWarning: Warning: Empty content on page 163 of document /Users/sanchabbarroso/Desktop/Internship/LLMOPS/cooking_manuals/gordon.pdf\n",
      "  warnings.warn(\n",
      "/Library/Frameworks/Python.framework/Versions/3.12/lib/python3.12/site-packages/langchain_community/document_loaders/parsers/pdf.py:299: UserWarning: Warning: Empty content on page 166 of document /Users/sanchabbarroso/Desktop/Internship/LLMOPS/cooking_manuals/gordon.pdf\n",
      "  warnings.warn(\n",
      "/Library/Frameworks/Python.framework/Versions/3.12/lib/python3.12/site-packages/langchain_community/document_loaders/parsers/pdf.py:299: UserWarning: Warning: Empty content on page 169 of document /Users/sanchabbarroso/Desktop/Internship/LLMOPS/cooking_manuals/gordon.pdf\n",
      "  warnings.warn(\n",
      "/Library/Frameworks/Python.framework/Versions/3.12/lib/python3.12/site-packages/langchain_community/document_loaders/parsers/pdf.py:299: UserWarning: Warning: Empty content on page 176 of document /Users/sanchabbarroso/Desktop/Internship/LLMOPS/cooking_manuals/gordon.pdf\n",
      "  warnings.warn(\n",
      "/Library/Frameworks/Python.framework/Versions/3.12/lib/python3.12/site-packages/langchain_community/document_loaders/parsers/pdf.py:299: UserWarning: Warning: Empty content on page 179 of document /Users/sanchabbarroso/Desktop/Internship/LLMOPS/cooking_manuals/gordon.pdf\n",
      "  warnings.warn(\n",
      "/Library/Frameworks/Python.framework/Versions/3.12/lib/python3.12/site-packages/langchain_community/document_loaders/parsers/pdf.py:299: UserWarning: Warning: Empty content on page 182 of document /Users/sanchabbarroso/Desktop/Internship/LLMOPS/cooking_manuals/gordon.pdf\n",
      "  warnings.warn(\n",
      "/Library/Frameworks/Python.framework/Versions/3.12/lib/python3.12/site-packages/langchain_community/document_loaders/parsers/pdf.py:299: UserWarning: Warning: Empty content on page 189 of document /Users/sanchabbarroso/Desktop/Internship/LLMOPS/cooking_manuals/gordon.pdf\n",
      "  warnings.warn(\n",
      "/Library/Frameworks/Python.framework/Versions/3.12/lib/python3.12/site-packages/langchain_community/document_loaders/parsers/pdf.py:299: UserWarning: Warning: Empty content on page 190 of document /Users/sanchabbarroso/Desktop/Internship/LLMOPS/cooking_manuals/gordon.pdf\n",
      "  warnings.warn(\n",
      "/Library/Frameworks/Python.framework/Versions/3.12/lib/python3.12/site-packages/langchain_community/document_loaders/parsers/pdf.py:299: UserWarning: Warning: Empty content on page 191 of document /Users/sanchabbarroso/Desktop/Internship/LLMOPS/cooking_manuals/gordon.pdf\n",
      "  warnings.warn(\n",
      "/Library/Frameworks/Python.framework/Versions/3.12/lib/python3.12/site-packages/langchain_community/document_loaders/parsers/pdf.py:299: UserWarning: Warning: Empty content on page 201 of document /Users/sanchabbarroso/Desktop/Internship/LLMOPS/cooking_manuals/gordon.pdf\n",
      "  warnings.warn(\n",
      "/Library/Frameworks/Python.framework/Versions/3.12/lib/python3.12/site-packages/langchain_community/document_loaders/parsers/pdf.py:299: UserWarning: Warning: Empty content on page 204 of document /Users/sanchabbarroso/Desktop/Internship/LLMOPS/cooking_manuals/gordon.pdf\n",
      "  warnings.warn(\n",
      "/Library/Frameworks/Python.framework/Versions/3.12/lib/python3.12/site-packages/langchain_community/document_loaders/parsers/pdf.py:299: UserWarning: Warning: Empty content on page 207 of document /Users/sanchabbarroso/Desktop/Internship/LLMOPS/cooking_manuals/gordon.pdf\n",
      "  warnings.warn(\n",
      "/Library/Frameworks/Python.framework/Versions/3.12/lib/python3.12/site-packages/langchain_community/document_loaders/parsers/pdf.py:299: UserWarning: Warning: Empty content on page 210 of document /Users/sanchabbarroso/Desktop/Internship/LLMOPS/cooking_manuals/gordon.pdf\n",
      "  warnings.warn(\n",
      "/Library/Frameworks/Python.framework/Versions/3.12/lib/python3.12/site-packages/langchain_community/document_loaders/parsers/pdf.py:299: UserWarning: Warning: Empty content on page 217 of document /Users/sanchabbarroso/Desktop/Internship/LLMOPS/cooking_manuals/gordon.pdf\n",
      "  warnings.warn(\n",
      "/Library/Frameworks/Python.framework/Versions/3.12/lib/python3.12/site-packages/langchain_community/document_loaders/parsers/pdf.py:299: UserWarning: Warning: Empty content on page 221 of document /Users/sanchabbarroso/Desktop/Internship/LLMOPS/cooking_manuals/gordon.pdf\n",
      "  warnings.warn(\n",
      "/Library/Frameworks/Python.framework/Versions/3.12/lib/python3.12/site-packages/langchain_community/document_loaders/parsers/pdf.py:299: UserWarning: Warning: Empty content on page 224 of document /Users/sanchabbarroso/Desktop/Internship/LLMOPS/cooking_manuals/gordon.pdf\n",
      "  warnings.warn(\n",
      "/Library/Frameworks/Python.framework/Versions/3.12/lib/python3.12/site-packages/langchain_community/document_loaders/parsers/pdf.py:299: UserWarning: Warning: Empty content on page 227 of document /Users/sanchabbarroso/Desktop/Internship/LLMOPS/cooking_manuals/gordon.pdf\n",
      "  warnings.warn(\n",
      "/Library/Frameworks/Python.framework/Versions/3.12/lib/python3.12/site-packages/langchain_community/document_loaders/parsers/pdf.py:299: UserWarning: Warning: Empty content on page 230 of document /Users/sanchabbarroso/Desktop/Internship/LLMOPS/cooking_manuals/gordon.pdf\n",
      "  warnings.warn(\n",
      "/Library/Frameworks/Python.framework/Versions/3.12/lib/python3.12/site-packages/langchain_community/document_loaders/parsers/pdf.py:299: UserWarning: Warning: Empty content on page 236 of document /Users/sanchabbarroso/Desktop/Internship/LLMOPS/cooking_manuals/gordon.pdf\n",
      "  warnings.warn(\n",
      "/Library/Frameworks/Python.framework/Versions/3.12/lib/python3.12/site-packages/langchain_community/document_loaders/parsers/pdf.py:299: UserWarning: Warning: Empty content on page 237 of document /Users/sanchabbarroso/Desktop/Internship/LLMOPS/cooking_manuals/gordon.pdf\n",
      "  warnings.warn(\n",
      "/Library/Frameworks/Python.framework/Versions/3.12/lib/python3.12/site-packages/langchain_community/document_loaders/parsers/pdf.py:299: UserWarning: Warning: Empty content on page 238 of document /Users/sanchabbarroso/Desktop/Internship/LLMOPS/cooking_manuals/gordon.pdf\n",
      "  warnings.warn(\n",
      "/Library/Frameworks/Python.framework/Versions/3.12/lib/python3.12/site-packages/langchain_community/document_loaders/parsers/pdf.py:299: UserWarning: Warning: Empty content on page 247 of document /Users/sanchabbarroso/Desktop/Internship/LLMOPS/cooking_manuals/gordon.pdf\n",
      "  warnings.warn(\n",
      "/Library/Frameworks/Python.framework/Versions/3.12/lib/python3.12/site-packages/langchain_community/document_loaders/parsers/pdf.py:299: UserWarning: Warning: Empty content on page 252 of document /Users/sanchabbarroso/Desktop/Internship/LLMOPS/cooking_manuals/gordon.pdf\n",
      "  warnings.warn(\n",
      "/Library/Frameworks/Python.framework/Versions/3.12/lib/python3.12/site-packages/langchain_community/document_loaders/parsers/pdf.py:299: UserWarning: Warning: Empty content on page 255 of document /Users/sanchabbarroso/Desktop/Internship/LLMOPS/cooking_manuals/gordon.pdf\n",
      "  warnings.warn(\n",
      "/Library/Frameworks/Python.framework/Versions/3.12/lib/python3.12/site-packages/langchain_community/document_loaders/parsers/pdf.py:299: UserWarning: Warning: Empty content on page 258 of document /Users/sanchabbarroso/Desktop/Internship/LLMOPS/cooking_manuals/gordon.pdf\n",
      "  warnings.warn(\n",
      "/Library/Frameworks/Python.framework/Versions/3.12/lib/python3.12/site-packages/langchain_community/document_loaders/parsers/pdf.py:299: UserWarning: Warning: Empty content on page 261 of document /Users/sanchabbarroso/Desktop/Internship/LLMOPS/cooking_manuals/gordon.pdf\n",
      "  warnings.warn(\n",
      "/Library/Frameworks/Python.framework/Versions/3.12/lib/python3.12/site-packages/langchain_community/document_loaders/parsers/pdf.py:299: UserWarning: Warning: Empty content on page 268 of document /Users/sanchabbarroso/Desktop/Internship/LLMOPS/cooking_manuals/gordon.pdf\n",
      "  warnings.warn(\n",
      "/Library/Frameworks/Python.framework/Versions/3.12/lib/python3.12/site-packages/langchain_community/document_loaders/parsers/pdf.py:299: UserWarning: Warning: Empty content on page 271 of document /Users/sanchabbarroso/Desktop/Internship/LLMOPS/cooking_manuals/gordon.pdf\n",
      "  warnings.warn(\n",
      "/Library/Frameworks/Python.framework/Versions/3.12/lib/python3.12/site-packages/langchain_community/document_loaders/parsers/pdf.py:299: UserWarning: Warning: Empty content on page 274 of document /Users/sanchabbarroso/Desktop/Internship/LLMOPS/cooking_manuals/gordon.pdf\n",
      "  warnings.warn(\n",
      "/Library/Frameworks/Python.framework/Versions/3.12/lib/python3.12/site-packages/langchain_community/document_loaders/parsers/pdf.py:299: UserWarning: Warning: Empty content on page 277 of document /Users/sanchabbarroso/Desktop/Internship/LLMOPS/cooking_manuals/gordon.pdf\n",
      "  warnings.warn(\n",
      "/Library/Frameworks/Python.framework/Versions/3.12/lib/python3.12/site-packages/langchain_community/document_loaders/parsers/pdf.py:299: UserWarning: Warning: Empty content on page 278 of document /Users/sanchabbarroso/Desktop/Internship/LLMOPS/cooking_manuals/gordon.pdf\n",
      "  warnings.warn(\n",
      "/Library/Frameworks/Python.framework/Versions/3.12/lib/python3.12/site-packages/langchain_community/document_loaders/parsers/pdf.py:299: UserWarning: Warning: Empty content on page 279 of document /Users/sanchabbarroso/Desktop/Internship/LLMOPS/cooking_manuals/gordon.pdf\n",
      "  warnings.warn(\n",
      "/Library/Frameworks/Python.framework/Versions/3.12/lib/python3.12/site-packages/langchain_community/document_loaders/parsers/pdf.py:299: UserWarning: Warning: Empty content on page 286 of document /Users/sanchabbarroso/Desktop/Internship/LLMOPS/cooking_manuals/gordon.pdf\n",
      "  warnings.warn(\n",
      "/Library/Frameworks/Python.framework/Versions/3.12/lib/python3.12/site-packages/langchain_community/document_loaders/parsers/pdf.py:299: UserWarning: Warning: Empty content on page 291 of document /Users/sanchabbarroso/Desktop/Internship/LLMOPS/cooking_manuals/gordon.pdf\n",
      "  warnings.warn(\n",
      "/Library/Frameworks/Python.framework/Versions/3.12/lib/python3.12/site-packages/langchain_community/document_loaders/parsers/pdf.py:299: UserWarning: Warning: Empty content on page 294 of document /Users/sanchabbarroso/Desktop/Internship/LLMOPS/cooking_manuals/gordon.pdf\n",
      "  warnings.warn(\n",
      "/Library/Frameworks/Python.framework/Versions/3.12/lib/python3.12/site-packages/langchain_community/document_loaders/parsers/pdf.py:299: UserWarning: Warning: Empty content on page 297 of document /Users/sanchabbarroso/Desktop/Internship/LLMOPS/cooking_manuals/gordon.pdf\n",
      "  warnings.warn(\n",
      "/Library/Frameworks/Python.framework/Versions/3.12/lib/python3.12/site-packages/langchain_community/document_loaders/parsers/pdf.py:299: UserWarning: Warning: Empty content on page 300 of document /Users/sanchabbarroso/Desktop/Internship/LLMOPS/cooking_manuals/gordon.pdf\n",
      "  warnings.warn(\n",
      "/Library/Frameworks/Python.framework/Versions/3.12/lib/python3.12/site-packages/langchain_community/document_loaders/parsers/pdf.py:299: UserWarning: Warning: Empty content on page 307 of document /Users/sanchabbarroso/Desktop/Internship/LLMOPS/cooking_manuals/gordon.pdf\n",
      "  warnings.warn(\n",
      "/Library/Frameworks/Python.framework/Versions/3.12/lib/python3.12/site-packages/langchain_community/document_loaders/parsers/pdf.py:299: UserWarning: Warning: Empty content on page 310 of document /Users/sanchabbarroso/Desktop/Internship/LLMOPS/cooking_manuals/gordon.pdf\n",
      "  warnings.warn(\n",
      "/Library/Frameworks/Python.framework/Versions/3.12/lib/python3.12/site-packages/langchain_community/document_loaders/parsers/pdf.py:299: UserWarning: Warning: Empty content on page 313 of document /Users/sanchabbarroso/Desktop/Internship/LLMOPS/cooking_manuals/gordon.pdf\n",
      "  warnings.warn(\n",
      "/Library/Frameworks/Python.framework/Versions/3.12/lib/python3.12/site-packages/langchain_community/document_loaders/parsers/pdf.py:299: UserWarning: Warning: Empty content on page 314 of document /Users/sanchabbarroso/Desktop/Internship/LLMOPS/cooking_manuals/gordon.pdf\n",
      "  warnings.warn(\n",
      "/Library/Frameworks/Python.framework/Versions/3.12/lib/python3.12/site-packages/langchain_community/document_loaders/parsers/pdf.py:299: UserWarning: Warning: Empty content on page 315 of document /Users/sanchabbarroso/Desktop/Internship/LLMOPS/cooking_manuals/gordon.pdf\n",
      "  warnings.warn(\n",
      "/Library/Frameworks/Python.framework/Versions/3.12/lib/python3.12/site-packages/langchain_community/document_loaders/parsers/pdf.py:299: UserWarning: Warning: Empty content on page 323 of document /Users/sanchabbarroso/Desktop/Internship/LLMOPS/cooking_manuals/gordon.pdf\n",
      "  warnings.warn(\n",
      "/Library/Frameworks/Python.framework/Versions/3.12/lib/python3.12/site-packages/langchain_community/document_loaders/parsers/pdf.py:299: UserWarning: Warning: Empty content on page 326 of document /Users/sanchabbarroso/Desktop/Internship/LLMOPS/cooking_manuals/gordon.pdf\n",
      "  warnings.warn(\n",
      "/Library/Frameworks/Python.framework/Versions/3.12/lib/python3.12/site-packages/langchain_community/document_loaders/parsers/pdf.py:299: UserWarning: Warning: Empty content on page 333 of document /Users/sanchabbarroso/Desktop/Internship/LLMOPS/cooking_manuals/gordon.pdf\n",
      "  warnings.warn(\n",
      "/Library/Frameworks/Python.framework/Versions/3.12/lib/python3.12/site-packages/langchain_community/document_loaders/parsers/pdf.py:299: UserWarning: Warning: Empty content on page 336 of document /Users/sanchabbarroso/Desktop/Internship/LLMOPS/cooking_manuals/gordon.pdf\n",
      "  warnings.warn(\n",
      "/Library/Frameworks/Python.framework/Versions/3.12/lib/python3.12/site-packages/langchain_community/document_loaders/parsers/pdf.py:299: UserWarning: Warning: Empty content on page 339 of document /Users/sanchabbarroso/Desktop/Internship/LLMOPS/cooking_manuals/gordon.pdf\n",
      "  warnings.warn(\n",
      "/Library/Frameworks/Python.framework/Versions/3.12/lib/python3.12/site-packages/langchain_community/document_loaders/parsers/pdf.py:299: UserWarning: Warning: Empty content on page 342 of document /Users/sanchabbarroso/Desktop/Internship/LLMOPS/cooking_manuals/gordon.pdf\n",
      "  warnings.warn(\n",
      "/Library/Frameworks/Python.framework/Versions/3.12/lib/python3.12/site-packages/langchain_community/document_loaders/parsers/pdf.py:299: UserWarning: Warning: Empty content on page 349 of document /Users/sanchabbarroso/Desktop/Internship/LLMOPS/cooking_manuals/gordon.pdf\n",
      "  warnings.warn(\n",
      "/Library/Frameworks/Python.framework/Versions/3.12/lib/python3.12/site-packages/langchain_community/document_loaders/parsers/pdf.py:299: UserWarning: Warning: Empty content on page 352 of document /Users/sanchabbarroso/Desktop/Internship/LLMOPS/cooking_manuals/gordon.pdf\n",
      "  warnings.warn(\n",
      "/Library/Frameworks/Python.framework/Versions/3.12/lib/python3.12/site-packages/langchain_community/document_loaders/parsers/pdf.py:299: UserWarning: Warning: Empty content on page 355 of document /Users/sanchabbarroso/Desktop/Internship/LLMOPS/cooking_manuals/gordon.pdf\n",
      "  warnings.warn(\n",
      "/Library/Frameworks/Python.framework/Versions/3.12/lib/python3.12/site-packages/langchain_community/document_loaders/parsers/pdf.py:299: UserWarning: Warning: Empty content on page 356 of document /Users/sanchabbarroso/Desktop/Internship/LLMOPS/cooking_manuals/gordon.pdf\n",
      "  warnings.warn(\n",
      "/Library/Frameworks/Python.framework/Versions/3.12/lib/python3.12/site-packages/langchain_community/document_loaders/parsers/pdf.py:299: UserWarning: Warning: Empty content on page 357 of document /Users/sanchabbarroso/Desktop/Internship/LLMOPS/cooking_manuals/gordon.pdf\n",
      "  warnings.warn(\n",
      "/Library/Frameworks/Python.framework/Versions/3.12/lib/python3.12/site-packages/langchain_community/document_loaders/parsers/pdf.py:299: UserWarning: Warning: Empty content on page 367 of document /Users/sanchabbarroso/Desktop/Internship/LLMOPS/cooking_manuals/gordon.pdf\n",
      "  warnings.warn(\n",
      "/Library/Frameworks/Python.framework/Versions/3.12/lib/python3.12/site-packages/langchain_community/document_loaders/parsers/pdf.py:299: UserWarning: Warning: Empty content on page 369 of document /Users/sanchabbarroso/Desktop/Internship/LLMOPS/cooking_manuals/gordon.pdf\n",
      "  warnings.warn(\n",
      "/Library/Frameworks/Python.framework/Versions/3.12/lib/python3.12/site-packages/langchain_community/document_loaders/parsers/pdf.py:299: UserWarning: Warning: Empty content on page 372 of document /Users/sanchabbarroso/Desktop/Internship/LLMOPS/cooking_manuals/gordon.pdf\n",
      "  warnings.warn(\n",
      "/Library/Frameworks/Python.framework/Versions/3.12/lib/python3.12/site-packages/langchain_community/document_loaders/parsers/pdf.py:299: UserWarning: Warning: Empty content on page 377 of document /Users/sanchabbarroso/Desktop/Internship/LLMOPS/cooking_manuals/gordon.pdf\n",
      "  warnings.warn(\n",
      "/Library/Frameworks/Python.framework/Versions/3.12/lib/python3.12/site-packages/langchain_community/document_loaders/parsers/pdf.py:299: UserWarning: Warning: Empty content on page 380 of document /Users/sanchabbarroso/Desktop/Internship/LLMOPS/cooking_manuals/gordon.pdf\n",
      "  warnings.warn(\n",
      "/Library/Frameworks/Python.framework/Versions/3.12/lib/python3.12/site-packages/langchain_community/document_loaders/parsers/pdf.py:299: UserWarning: Warning: Empty content on page 387 of document /Users/sanchabbarroso/Desktop/Internship/LLMOPS/cooking_manuals/gordon.pdf\n",
      "  warnings.warn(\n",
      "/Library/Frameworks/Python.framework/Versions/3.12/lib/python3.12/site-packages/langchain_community/document_loaders/parsers/pdf.py:299: UserWarning: Warning: Empty content on page 393 of document /Users/sanchabbarroso/Desktop/Internship/LLMOPS/cooking_manuals/gordon.pdf\n",
      "  warnings.warn(\n",
      "/Library/Frameworks/Python.framework/Versions/3.12/lib/python3.12/site-packages/langchain_community/document_loaders/parsers/pdf.py:299: UserWarning: Warning: Empty content on page 396 of document /Users/sanchabbarroso/Desktop/Internship/LLMOPS/cooking_manuals/gordon.pdf\n",
      "  warnings.warn(\n",
      "/Library/Frameworks/Python.framework/Versions/3.12/lib/python3.12/site-packages/langchain_community/document_loaders/parsers/pdf.py:299: UserWarning: Warning: Empty content on page 397 of document /Users/sanchabbarroso/Desktop/Internship/LLMOPS/cooking_manuals/gordon.pdf\n",
      "  warnings.warn(\n",
      "/Library/Frameworks/Python.framework/Versions/3.12/lib/python3.12/site-packages/langchain_community/document_loaders/parsers/pdf.py:299: UserWarning: Warning: Empty content on page 398 of document /Users/sanchabbarroso/Desktop/Internship/LLMOPS/cooking_manuals/gordon.pdf\n",
      "  warnings.warn(\n",
      "/Library/Frameworks/Python.framework/Versions/3.12/lib/python3.12/site-packages/langchain_community/document_loaders/parsers/pdf.py:299: UserWarning: Warning: Empty content on page 411 of document /Users/sanchabbarroso/Desktop/Internship/LLMOPS/cooking_manuals/gordon.pdf\n",
      "  warnings.warn(\n",
      "/Library/Frameworks/Python.framework/Versions/3.12/lib/python3.12/site-packages/langchain_community/document_loaders/parsers/pdf.py:299: UserWarning: Warning: Empty content on page 414 of document /Users/sanchabbarroso/Desktop/Internship/LLMOPS/cooking_manuals/gordon.pdf\n",
      "  warnings.warn(\n",
      "/Library/Frameworks/Python.framework/Versions/3.12/lib/python3.12/site-packages/langchain_community/document_loaders/parsers/pdf.py:299: UserWarning: Warning: Empty content on page 416 of document /Users/sanchabbarroso/Desktop/Internship/LLMOPS/cooking_manuals/gordon.pdf\n",
      "  warnings.warn(\n",
      "/Library/Frameworks/Python.framework/Versions/3.12/lib/python3.12/site-packages/langchain_community/document_loaders/parsers/pdf.py:299: UserWarning: Warning: Empty content on page 419 of document /Users/sanchabbarroso/Desktop/Internship/LLMOPS/cooking_manuals/gordon.pdf\n",
      "  warnings.warn(\n",
      "/Library/Frameworks/Python.framework/Versions/3.12/lib/python3.12/site-packages/langchain_community/document_loaders/parsers/pdf.py:299: UserWarning: Warning: Empty content on page 422 of document /Users/sanchabbarroso/Desktop/Internship/LLMOPS/cooking_manuals/gordon.pdf\n",
      "  warnings.warn(\n",
      "/Library/Frameworks/Python.framework/Versions/3.12/lib/python3.12/site-packages/langchain_community/document_loaders/parsers/pdf.py:299: UserWarning: Warning: Empty content on page 425 of document /Users/sanchabbarroso/Desktop/Internship/LLMOPS/cooking_manuals/gordon.pdf\n",
      "  warnings.warn(\n",
      "/Library/Frameworks/Python.framework/Versions/3.12/lib/python3.12/site-packages/langchain_community/document_loaders/parsers/pdf.py:299: UserWarning: Warning: Empty content on page 428 of document /Users/sanchabbarroso/Desktop/Internship/LLMOPS/cooking_manuals/gordon.pdf\n",
      "  warnings.warn(\n",
      "/Library/Frameworks/Python.framework/Versions/3.12/lib/python3.12/site-packages/langchain_community/document_loaders/parsers/pdf.py:299: UserWarning: Warning: Empty content on page 431 of document /Users/sanchabbarroso/Desktop/Internship/LLMOPS/cooking_manuals/gordon.pdf\n",
      "  warnings.warn(\n"
     ]
    }
   ],
   "source": [
    "# Creating chunks from the documents\n",
    "global_chunks = []\n",
    "for data_path in DATA_PATHS:\n",
    "    loader = PyMuPDFLoader(os.path.join(os.getcwd(), data_path))\n",
    "    docs = loader.load()\n",
    "    chunks = splitter.split_documents(docs)\n",
    "    global_chunks.append(chunks)"
   ]
  },
  {
   "cell_type": "markdown",
   "metadata": {
    "id": "pW2VHb3a3tKM"
   },
   "source": [
    "### Embedder"
   ]
  },
  {
   "cell_type": "code",
   "execution_count": 6,
   "metadata": {},
   "outputs": [
    {
     "name": "stderr",
     "output_type": "stream",
     "text": [
      "/var/folders/j4/5cdm72g53yq6frsslklccrq40000gn/T/ipykernel_8056/592713195.py:2: LangChainDeprecationWarning: The class `BedrockEmbeddings` was deprecated in LangChain 0.2.11 and will be removed in 1.0. An updated version of the class exists in the :class:`~langchain-aws package and should be used instead. To use it run `pip install -U :class:`~langchain-aws` and import as `from :class:`~langchain_aws import BedrockEmbeddings``.\n",
      "  embedder = BedrockEmbeddings(\n"
     ]
    }
   ],
   "source": [
    "# Creating the embedder\n",
    "embedder = BedrockEmbeddings(\n",
    "    model_id=EMBEDDER_MODEL_ID,\n",
    "    model_kwargs=EMBEDDER_MODEL_KWARGS,\n",
    "    region_name=REGION_NAME,\n",
    "    #credentials_profile_name=CREDENTIALS_PROFILE_NAME\n",
    ")"
   ]
  },
  {
   "cell_type": "markdown",
   "metadata": {
    "id": "pW2VHb3a3tKM"
   },
   "source": [
    "### Vector Store (Database)"
   ]
  },
  {
   "cell_type": "code",
   "execution_count": 7,
   "metadata": {},
   "outputs": [],
   "source": [
    "# Creating the vector store\n",
    "instruction_vector_store = FAISS.from_documents(documents=global_chunks[0], embedding=embedder)\n",
    "recipe_vector_store = FAISS.from_documents(documents=global_chunks[1], embedding=embedder)\n",
    "\n",
    "instruction_vector_store.save_local(INSTRUCTION_VECTOR_STORE_PATH)\n",
    "recipe_vector_store.save_local(RECIPE_VECTOR_STORE_PATH)"
   ]
  },
  {
   "cell_type": "markdown",
   "metadata": {
    "id": "pW2VHb3a3tKM"
   },
   "source": [
    "### LLM"
   ]
  },
  {
   "cell_type": "code",
   "execution_count": 8,
   "metadata": {},
   "outputs": [],
   "source": [
    "# Creating the LLM and Embedder models\n",
    "llm = ChatBedrock(\n",
    "    region_name=REGION_NAME,\n",
    "    model_id=LLM_MODEL_ID,\n",
    "    model_kwargs=LLM_MODEL_KWARGS)\n",
    "    #credentials_profile_name=CREDENTIALS_PROFILE_NAME,)"
   ]
  },
  {
   "cell_type": "markdown",
   "metadata": {
    "id": "pW2VHb3a3tKM"
   },
   "source": [
    "### MultiRetriever"
   ]
  },
  {
   "cell_type": "code",
   "execution_count": 9,
   "metadata": {},
   "outputs": [],
   "source": [
    "# Loading the vector store and creating retriever\n",
    "instruction_vector_store = FAISS.load_local(INSTRUCTION_VECTOR_STORE_PATH, embeddings=embedder, allow_dangerous_deserialization=True)\n",
    "recipe_vector_store = FAISS.load_local(RECIPE_VECTOR_STORE_PATH, embeddings=embedder, allow_dangerous_deserialization=True)\n",
    "\n",
    "instruction_retriever = instruction_vector_store.as_retriever(search_type=SEARCH_TYPE, **RETRIEVER_KWARGS)\n",
    "recipe_retriever = recipe_vector_store.as_retriever(search_type=SEARCH_TYPE, **RETRIEVER_KWARGS)\n",
    "\n",
    "retriever_infos = [\n",
    "    {\n",
    "        \"name\": \"instructions\", \n",
    "        \"description\": \"Good for answering questions about TM6's safety instructions, how to use, settings and cleaning maintenance.\", \n",
    "        \"retriever\": instruction_retriever,\n",
    "        \"prompt\": prompt,\n",
    "    },\n",
    "    {\n",
    "        \"name\": \"recipes\", \n",
    "        \"description\": \"Good for answering questions Gordon Ramsay's recipes and cooking advices.\",\n",
    "        \"retriever\": recipe_retriever,\n",
    "        \"prompt\": prompt,\n",
    "    },\n",
    "]"
   ]
  },
  {
   "cell_type": "markdown",
   "metadata": {
    "id": "pW2VHb3a3tKM"
   },
   "source": [
    "### Langfuse"
   ]
  },
  {
   "cell_type": "code",
   "execution_count": 10,
   "metadata": {},
   "outputs": [],
   "source": [
    "# Creating the callback handler\n",
    "langfuse_callback= CallbackHandler(\n",
    "        public_key=PUBLIC_KEY,\n",
    "        secret_key=SECRET_KEY,\n",
    "        host=HOST,\n",
    "    )"
   ]
  },
  {
   "cell_type": "markdown",
   "metadata": {
    "id": "pW2VHb3a3tKM"
   },
   "source": [
    "### MultiRetrievalQA chain"
   ]
  },
  {
   "cell_type": "code",
   "execution_count": 16,
   "metadata": {},
   "outputs": [
    {
     "name": "stdout",
     "output_type": "stream",
     "text": [
      "\n",
      "\n",
      "\u001b[1m> Entering new MultiRetrievalQAChain chain...\u001b[0m\n",
      "recipes: {'query': 'How can I make a Soufflé just like Gordon Ramsay?'}\n",
      "\u001b[1m> Finished chain.\u001b[0m\n"
     ]
    }
   ],
   "source": [
    "# Creating the Chain for usage\n",
    "multi_chain = MultiRetrievalQAChain.from_retrievers(\n",
    "            llm=llm,\n",
    "            retriever_infos=retriever_infos,\n",
    "            default_retriever=instruction_retriever,\n",
    "            verbose=True)\n",
    "\n",
    "response = multi_chain.invoke(\"How can I make a Soufflé just like Gordon Ramsay?\", config={\"callbacks\": [langfuse_callback]})"
   ]
  },
  {
   "cell_type": "code",
   "execution_count": 17,
   "metadata": {},
   "outputs": [
    {
     "name": "stdout",
     "output_type": "stream",
     "text": [
      "Here are some tips for making soufflés like Gordon Ramsay:\n",
      "\n",
      "1. Use a double layer of softened butter brushed in upward strokes inside the ramekins. This helps the soufflés rise evenly. Dust the butter with grated chocolate, flour, or other coatings suited to your flavor.\n",
      "\n",
      "2. Whip the egg whites until they hold stiff, glossy peaks. This incorporates maximum air for a good rise. Stabilize them with a few drops of lemon juice or cream of tartar.\n",
      "\n",
      "3. Fold the whipped egg whites into the base in two additions - first loosen the base by folding in 1/3 of the whites, then gently fold in the remaining whites with a light hand to keep the air incorporated.\n",
      "\n",
      "4. Fill the ramekins to the top and run your finger around the inside edge to help them rise up straight. \n",
      "\n",
      "5. Bake at a high temperature (around 400°F/200°C) so they puff up quickly before drying out.\n",
      "\n",
      "6. Have your oven preheated and ingredients at room temp so the soufflé batter doesn't lose volume before baking.\n",
      "\n",
      "7. Consider making the base ahead and folding in the egg whites just before baking for best rise.\n",
      "\n",
      "The key is gently incorporating maximum air while handling the batter delicately. With practice, you can achieve Ramsay's signature tall, dramatic soufflés.\n"
     ]
    }
   ],
   "source": [
    "print(response[\"result\"])"
   ]
  },
  {
   "cell_type": "code",
   "execution_count": 18,
   "metadata": {},
   "outputs": [
    {
     "data": {
      "text/plain": [
       "True"
      ]
     },
     "execution_count": 18,
     "metadata": {},
     "output_type": "execute_result"
    }
   ],
   "source": [
    "langfuse_callback.auth_check()"
   ]
  },
  {
   "cell_type": "code",
   "execution_count": 19,
   "metadata": {},
   "outputs": [
    {
     "name": "stdout",
     "output_type": "stream",
     "text": [
      "\n",
      "\n",
      "\u001b[1m> Entering new MultiRetrievalQAChain chain...\u001b[0m\n",
      "instructions: {'query': 'What components of the TM6 are used when making a soufflé?'}\n",
      "\u001b[1m> Finished chain.\u001b[0m\n",
      "When making a soufflé with the Thermomix TM6, the main components used would be:\n",
      "\n",
      "- The stainless steel mixing bowl - This is where you would prepare the soufflé batter by whipping the egg whites and folding in the other ingredients.\n",
      "\n",
      "- The butterfly whisk - This attachment is used for whipping egg whites to stiff peaks, which is crucial for getting the soufflé to rise properly.\n",
      "\n",
      "- The measuring cup - For measuring out ingredients precisely.\n",
      "\n",
      "- The spatula - Useful for scraping down the sides of the bowl and folding the whipped egg whites into the other ingredients gently.\n",
      "\n",
      "- The varoma steamer - Soufflés are typically baked in the oven, but the varoma could potentially be used to steam them if adapting a recipe.\n",
      "\n",
      "The mixing bowl, whisk, and spatula are the core components needed to prepare the light, airy soufflé batter properly in the Thermomix. The other accessories like the varoma may or may not be utilized depending on the specific recipe method.\n"
     ]
    }
   ],
   "source": [
    "response = multi_chain.invoke(\"What components of a TM6 work when making a soufflé?\", config={\"callbacks\": [langfuse_callback]})\n",
    "print(response[\"result\"])"
   ]
  },
  {
   "cell_type": "code",
   "execution_count": 20,
   "metadata": {},
   "outputs": [
    {
     "name": "stdout",
     "output_type": "stream",
     "text": [
      "\n",
      "\n",
      "\u001b[1m> Entering new MultiRetrievalQAChain chain...\u001b[0m\n",
      "recipes: {'query': 'What would be the easiest recipe to cook by hand?'}\n",
      "\u001b[1m> Finished chain.\u001b[0m\n",
      "Based on the context provided, which discusses making cooking simple and convenient for everyday meals, some of the easiest recipes to cook by hand would be:\n",
      "\n",
      "1. The bolognese sauce mentioned that will be ready before the pasta finishes boiling. Quick pasta sauces like this are great easy options.\n",
      "\n",
      "2. The fishcakes that can be assembled from tins and jars. Using pre-cooked or canned ingredients cuts down on preparation time.\n",
      "\n",
      "3. The chili hotdog described as being \"in another league\" compared to regular hotdogs. Dressing up simple items like hotdogs can make for an easy but tasty meal.\n",
      "\n",
      "4. Baked beans on toast, which is mentioned as the go-to quick meal even for professional chefs after a long day of cooking.\n",
      "\n",
      "5. Simple dishes like omelettes, pasta with tomato sauce, or risotto that can be easily customized with different add-ins as suggested in the context.\n",
      "\n",
      "The main principles highlighted are using some pre-prepped ingredients, keeping recipes simple with few steps, and customizing basic dishes you already know how to make. Recipes with minimal active cooking time seem to be recommended for convenient everyday cooking by hand.\n"
     ]
    }
   ],
   "source": [
    "response = multi_chain.invoke(\"What would be the easiest recipe to cook by hand?\", config={\"callbacks\": [langfuse_callback]})\n",
    "print(response[\"result\"])"
   ]
  },
  {
   "cell_type": "code",
   "execution_count": 21,
   "metadata": {},
   "outputs": [
    {
     "name": "stdout",
     "output_type": "stream",
     "text": [
      "\n",
      "\n",
      "\u001b[1m> Entering new MultiRetrievalQAChain chain...\u001b[0m\n",
      "recipes: {'query': 'What would be the easiest recipe to cook using a Thermomix TM6?'}\n",
      "\u001b[1m> Finished chain.\u001b[0m\n",
      "Based on the context provided, which focuses on quick and easy everyday cooking, a good recipe to try with the Thermomix TM6 would be something simple and fast like a soup or sauce.\n",
      "\n",
      "Some easy Thermomix TM6 recipe ideas that could work well:\n",
      "\n",
      "- Tomato Soup - Just add canned tomatoes, broth, and any desired seasonings/aromatics and blend until smooth.\n",
      "\n",
      "- Pesto - Blend basil, pine nuts, garlic, parmesan, and olive oil for a quick fresh pesto sauce.\n",
      "\n",
      "- Hummus - Cook chickpeas briefly then blend with tahini, lemon juice, garlic, and olive oil for smooth hummus.\n",
      "\n",
      "- Salsa - Roughly chop tomatoes, onions, garlic, cilantro and blend briefly for a chunky salsa.\n",
      "\n",
      "- Nut Butter - Blend roasted nuts until they release their oils and turn into a creamy nut butter.\n",
      "\n",
      "The Thermomix makes these types of blended soups, dips, sauces and spreads extremely easy with minimal prep time. The all-in-one blending and cooking capabilities are perfect for fast, fuss-free recipes when cooking for one or two people. Let me know if you need any specific Thermomix TM6 recipe recommendations!\n"
     ]
    }
   ],
   "source": [
    "response = multi_chain.invoke(\"What would be the easiest recipe to cook using a TM6?\", config={\"callbacks\": [langfuse_callback]})\n",
    "print(response[\"result\"])"
   ]
  },
  {
   "cell_type": "code",
   "execution_count": null,
   "metadata": {},
   "outputs": [],
   "source": []
  }
 ],
 "metadata": {
  "colab": {
   "provenance": []
  },
  "kernelspec": {
   "display_name": "Python 3 (ipykernel)",
   "language": "python",
   "name": "python3"
  },
  "language_info": {
   "codemirror_mode": {
    "name": "ipython",
    "version": 3
   },
   "file_extension": ".py",
   "mimetype": "text/x-python",
   "name": "python",
   "nbconvert_exporter": "python",
   "pygments_lexer": "ipython3",
   "version": "3.12.6"
  }
 },
 "nbformat": 4,
 "nbformat_minor": 4
}
