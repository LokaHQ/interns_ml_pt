{
 "cells": [
  {
   "cell_type": "markdown",
   "metadata": {
    "id": "6WhNDyQcnEiu"
   },
   "source": [
    "# Homework\n",
    "\n",
    "The idea of this homework is to play around with different prompt techniques, depending on the input data to the LLM.\n",
    "Some of the prompt techniques that are important to grasp are:\n",
    "- Code Generation\n",
    "- Question Answering\n",
    "- Text Summarization\n",
    "- Reasoning\n",
    "- Chain of Thoughts\n",
    "- Zero-shot prompting\n",
    "- Few-shot prompting\n",
    "\n",
    "Make multiple prompt examples for each of the techniques above. Try to use different models and model settings.\n"
   ]
  },
  {
   "cell_type": "code",
   "execution_count": 1,
   "metadata": {
    "id": "HLbtqFnXnEiw"
   },
   "outputs": [
    {
     "name": "stdout",
     "output_type": "stream",
     "text": [
      "Defaulting to user installation because normal site-packages is not writeable\n",
      "Requirement already satisfied: langchain in /Users/raquelcardoso/Library/Python/3.9/lib/python/site-packages (0.3.0)\n",
      "Requirement already satisfied: langchain_community in /Users/raquelcardoso/Library/Python/3.9/lib/python/site-packages (0.3.0)\n",
      "Requirement already satisfied: boto3 in /Users/raquelcardoso/Library/Python/3.9/lib/python/site-packages (1.34.162)\n",
      "Requirement already satisfied: PyYAML>=5.3 in /Users/raquelcardoso/Library/Python/3.9/lib/python/site-packages (from langchain) (6.0.2)\n",
      "Requirement already satisfied: SQLAlchemy<3,>=1.4 in /Users/raquelcardoso/Library/Python/3.9/lib/python/site-packages (from langchain) (2.0.35)\n",
      "Requirement already satisfied: aiohttp<4.0.0,>=3.8.3 in /Users/raquelcardoso/Library/Python/3.9/lib/python/site-packages (from langchain) (3.10.5)\n",
      "Requirement already satisfied: async-timeout<5.0.0,>=4.0.0 in /Users/raquelcardoso/Library/Python/3.9/lib/python/site-packages (from langchain) (4.0.3)\n",
      "Requirement already satisfied: langchain-core<0.4.0,>=0.3.0 in /Users/raquelcardoso/Library/Python/3.9/lib/python/site-packages (from langchain) (0.3.1)\n",
      "Requirement already satisfied: langchain-text-splitters<0.4.0,>=0.3.0 in /Users/raquelcardoso/Library/Python/3.9/lib/python/site-packages (from langchain) (0.3.0)\n",
      "Requirement already satisfied: langsmith<0.2.0,>=0.1.17 in /Users/raquelcardoso/Library/Python/3.9/lib/python/site-packages (from langchain) (0.1.121)\n",
      "Requirement already satisfied: numpy<2,>=1 in /Users/raquelcardoso/Library/Python/3.9/lib/python/site-packages (from langchain) (1.26.4)\n",
      "Requirement already satisfied: pydantic<3.0.0,>=2.7.4 in /Users/raquelcardoso/Library/Python/3.9/lib/python/site-packages (from langchain) (2.9.2)\n",
      "Requirement already satisfied: requests<3,>=2 in /Users/raquelcardoso/Library/Python/3.9/lib/python/site-packages (from langchain) (2.32.3)\n",
      "Requirement already satisfied: tenacity!=8.4.0,<9.0.0,>=8.1.0 in /Users/raquelcardoso/Library/Python/3.9/lib/python/site-packages (from langchain) (8.5.0)\n",
      "Requirement already satisfied: dataclasses-json<0.7,>=0.5.7 in /Users/raquelcardoso/Library/Python/3.9/lib/python/site-packages (from langchain_community) (0.6.7)\n",
      "Requirement already satisfied: pydantic-settings<3.0.0,>=2.4.0 in /Users/raquelcardoso/Library/Python/3.9/lib/python/site-packages (from langchain_community) (2.5.2)\n",
      "Requirement already satisfied: botocore<1.35.0,>=1.34.162 in /Users/raquelcardoso/Library/Python/3.9/lib/python/site-packages (from boto3) (1.34.162)\n",
      "Requirement already satisfied: jmespath<2.0.0,>=0.7.1 in /Users/raquelcardoso/Library/Python/3.9/lib/python/site-packages (from boto3) (1.0.1)\n",
      "Requirement already satisfied: s3transfer<0.11.0,>=0.10.0 in /Users/raquelcardoso/Library/Python/3.9/lib/python/site-packages (from boto3) (0.10.2)\n",
      "Requirement already satisfied: aiohappyeyeballs>=2.3.0 in /Users/raquelcardoso/Library/Python/3.9/lib/python/site-packages (from aiohttp<4.0.0,>=3.8.3->langchain) (2.4.0)\n",
      "Requirement already satisfied: aiosignal>=1.1.2 in /Users/raquelcardoso/Library/Python/3.9/lib/python/site-packages (from aiohttp<4.0.0,>=3.8.3->langchain) (1.3.1)\n",
      "Requirement already satisfied: attrs>=17.3.0 in /Users/raquelcardoso/Library/Python/3.9/lib/python/site-packages (from aiohttp<4.0.0,>=3.8.3->langchain) (24.2.0)\n",
      "Requirement already satisfied: frozenlist>=1.1.1 in /Users/raquelcardoso/Library/Python/3.9/lib/python/site-packages (from aiohttp<4.0.0,>=3.8.3->langchain) (1.4.1)\n",
      "Requirement already satisfied: multidict<7.0,>=4.5 in /Users/raquelcardoso/Library/Python/3.9/lib/python/site-packages (from aiohttp<4.0.0,>=3.8.3->langchain) (6.1.0)\n",
      "Requirement already satisfied: yarl<2.0,>=1.0 in /Users/raquelcardoso/Library/Python/3.9/lib/python/site-packages (from aiohttp<4.0.0,>=3.8.3->langchain) (1.11.1)\n",
      "Requirement already satisfied: python-dateutil<3.0.0,>=2.1 in /Users/raquelcardoso/Library/Python/3.9/lib/python/site-packages (from botocore<1.35.0,>=1.34.162->boto3) (2.9.0.post0)\n",
      "Requirement already satisfied: urllib3<1.27,>=1.25.4 in /Users/raquelcardoso/Library/Python/3.9/lib/python/site-packages (from botocore<1.35.0,>=1.34.162->boto3) (1.26.20)\n",
      "Requirement already satisfied: marshmallow<4.0.0,>=3.18.0 in /Users/raquelcardoso/Library/Python/3.9/lib/python/site-packages (from dataclasses-json<0.7,>=0.5.7->langchain_community) (3.22.0)\n",
      "Requirement already satisfied: typing-inspect<1,>=0.4.0 in /Users/raquelcardoso/Library/Python/3.9/lib/python/site-packages (from dataclasses-json<0.7,>=0.5.7->langchain_community) (0.9.0)\n",
      "Requirement already satisfied: jsonpatch<2.0,>=1.33 in /Users/raquelcardoso/Library/Python/3.9/lib/python/site-packages (from langchain-core<0.4.0,>=0.3.0->langchain) (1.33)\n",
      "Requirement already satisfied: packaging<25,>=23.2 in /Users/raquelcardoso/Library/Python/3.9/lib/python/site-packages (from langchain-core<0.4.0,>=0.3.0->langchain) (24.1)\n",
      "Requirement already satisfied: typing-extensions>=4.7 in /Users/raquelcardoso/Library/Python/3.9/lib/python/site-packages (from langchain-core<0.4.0,>=0.3.0->langchain) (4.12.2)\n",
      "Requirement already satisfied: httpx<1,>=0.23.0 in /Users/raquelcardoso/Library/Python/3.9/lib/python/site-packages (from langsmith<0.2.0,>=0.1.17->langchain) (0.27.2)\n",
      "Requirement already satisfied: orjson<4.0.0,>=3.9.14 in /Users/raquelcardoso/Library/Python/3.9/lib/python/site-packages (from langsmith<0.2.0,>=0.1.17->langchain) (3.10.7)\n",
      "Requirement already satisfied: annotated-types>=0.6.0 in /Users/raquelcardoso/Library/Python/3.9/lib/python/site-packages (from pydantic<3.0.0,>=2.7.4->langchain) (0.7.0)\n",
      "Requirement already satisfied: pydantic-core==2.23.4 in /Users/raquelcardoso/Library/Python/3.9/lib/python/site-packages (from pydantic<3.0.0,>=2.7.4->langchain) (2.23.4)\n",
      "Requirement already satisfied: python-dotenv>=0.21.0 in /Users/raquelcardoso/Library/Python/3.9/lib/python/site-packages (from pydantic-settings<3.0.0,>=2.4.0->langchain_community) (1.0.1)\n",
      "Requirement already satisfied: charset-normalizer<4,>=2 in /Users/raquelcardoso/Library/Python/3.9/lib/python/site-packages (from requests<3,>=2->langchain) (3.3.2)\n",
      "Requirement already satisfied: idna<4,>=2.5 in /Users/raquelcardoso/Library/Python/3.9/lib/python/site-packages (from requests<3,>=2->langchain) (3.10)\n",
      "Requirement already satisfied: certifi>=2017.4.17 in /Users/raquelcardoso/Library/Python/3.9/lib/python/site-packages (from requests<3,>=2->langchain) (2024.8.30)\n",
      "Requirement already satisfied: anyio in /Users/raquelcardoso/Library/Python/3.9/lib/python/site-packages (from httpx<1,>=0.23.0->langsmith<0.2.0,>=0.1.17->langchain) (4.4.0)\n",
      "Requirement already satisfied: httpcore==1.* in /Users/raquelcardoso/Library/Python/3.9/lib/python/site-packages (from httpx<1,>=0.23.0->langsmith<0.2.0,>=0.1.17->langchain) (1.0.5)\n",
      "Requirement already satisfied: sniffio in /Users/raquelcardoso/Library/Python/3.9/lib/python/site-packages (from httpx<1,>=0.23.0->langsmith<0.2.0,>=0.1.17->langchain) (1.3.1)\n",
      "Requirement already satisfied: h11<0.15,>=0.13 in /Users/raquelcardoso/Library/Python/3.9/lib/python/site-packages (from httpcore==1.*->httpx<1,>=0.23.0->langsmith<0.2.0,>=0.1.17->langchain) (0.14.0)\n",
      "Requirement already satisfied: jsonpointer>=1.9 in /Users/raquelcardoso/Library/Python/3.9/lib/python/site-packages (from jsonpatch<2.0,>=1.33->langchain-core<0.4.0,>=0.3.0->langchain) (3.0.0)\n",
      "Requirement already satisfied: six>=1.5 in /Library/Developer/CommandLineTools/Library/Frameworks/Python3.framework/Versions/3.9/lib/python3.9/site-packages (from python-dateutil<3.0.0,>=2.1->botocore<1.35.0,>=1.34.162->boto3) (1.15.0)\n",
      "Requirement already satisfied: mypy-extensions>=0.3.0 in /Users/raquelcardoso/Library/Python/3.9/lib/python/site-packages (from typing-inspect<1,>=0.4.0->dataclasses-json<0.7,>=0.5.7->langchain_community) (1.0.0)\n",
      "Requirement already satisfied: exceptiongroup>=1.0.2 in /Users/raquelcardoso/Library/Python/3.9/lib/python/site-packages (from anyio->httpx<1,>=0.23.0->langsmith<0.2.0,>=0.1.17->langchain) (1.2.2)\n"
     ]
    }
   ],
   "source": [
    "# Installing the required packages\n",
    "!pip3 install langchain langchain_community boto3"
   ]
  },
  {
   "cell_type": "code",
   "execution_count": 2,
   "metadata": {
    "id": "KtmRYA3EnEix"
   },
   "outputs": [
    {
     "name": "stderr",
     "output_type": "stream",
     "text": [
      "/Users/raquelcardoso/Library/Python/3.9/lib/python/site-packages/pydantic/_internal/_fields.py:132: UserWarning: Field \"model_id\" in BedrockBase has conflict with protected namespace \"model_\".\n",
      "\n",
      "You may be able to resolve this warning by setting `model_config['protected_namespaces'] = ()`.\n",
      "  warnings.warn(\n",
      "/Users/raquelcardoso/Library/Python/3.9/lib/python/site-packages/pydantic/_internal/_fields.py:132: UserWarning: Field \"model_kwargs\" in BedrockBase has conflict with protected namespace \"model_\".\n",
      "\n",
      "You may be able to resolve this warning by setting `model_config['protected_namespaces'] = ()`.\n",
      "  warnings.warn(\n"
     ]
    }
   ],
   "source": [
    "# Importing the required packages\n",
    "import boto3\n",
    "import botocore\n",
    "import json\n",
    "from langchain_community.chat_models import BedrockChat"
   ]
  },
  {
   "cell_type": "markdown",
   "metadata": {
    "id": "12VjcynJ4FkK"
   },
   "source": [
    "If you prefer, you can also use bedrock native functions from the bedrock_setup notebook"
   ]
  },
  {
   "cell_type": "code",
   "execution_count": 3,
   "metadata": {},
   "outputs": [],
   "source": [
    "bedrock_client = boto3.client(\"bedrock-runtime\", \"us-east-1\")  # region has to be this"
   ]
  },
  {
   "cell_type": "code",
   "execution_count": 4,
   "metadata": {},
   "outputs": [
    {
     "data": {
      "text/plain": [
       "bedrock-runtime(https://bedrock-runtime.us-east-1.amazonaws.com)"
      ]
     },
     "execution_count": 4,
     "metadata": {},
     "output_type": "execute_result"
    }
   ],
   "source": [
    "bedrock_client._endpoint"
   ]
  },
  {
   "cell_type": "code",
   "execution_count": 5,
   "metadata": {},
   "outputs": [
    {
     "data": {
      "text/plain": [
       "<botocore.client.BedrockRuntime at 0x120f93430>"
      ]
     },
     "execution_count": 5,
     "metadata": {},
     "output_type": "execute_result"
    }
   ],
   "source": [
    "bedrock_client"
   ]
  },
  {
   "cell_type": "code",
   "execution_count": 6,
   "metadata": {},
   "outputs": [],
   "source": [
    "def call_model(prompt_data, model):\n",
    "    body = json.dumps({\"prompt\": prompt_data, \"max_tokens_to_sample\": 500})\n",
    "    modelId = model  # change this to use a different version from the model provider\n",
    "    accept = \"application/json\"\n",
    "    contentType = \"application/json\"\n",
    "\n",
    "    try:\n",
    "        response = bedrock_client.invoke_model(\n",
    "            body=body, modelId=modelId, accept=accept, contentType=contentType\n",
    "        )\n",
    "        response_body = json.loads(response.get(\"body\").read())\n",
    "\n",
    "        print(response_body.get(\"completion\"))\n",
    "\n",
    "    except botocore.exceptions.ClientError as error:\n",
    "        if error.response[\"Error\"][\"Code\"] == \"AccessDeniedException\":\n",
    "            print(\n",
    "                f\"\\x1b[41m{error.response['Error']['Message']}\\\n",
    "                    \\nTo troubeshoot this issue please refer to the following resources.\\\n",
    "                    \\nhttps://docs.aws.amazon.com/IAM/latest/UserGuide/troubleshoot_access-denied.html\\\n",
    "                    \\nhttps://docs.aws.amazon.com/bedrock/latest/userguide/security-iam.html\\x1b[0m\\n\"\n",
    "            )\n",
    "\n",
    "        else:\n",
    "            raise error"
   ]
  },
  {
   "cell_type": "code",
   "execution_count": 7,
   "metadata": {},
   "outputs": [],
   "source": [
    "claude = \"anthropic.claude-v2\"\n",
    "titan = \"amazon.titan-embed-text-v1\""
   ]
  },
  {
   "cell_type": "markdown",
   "metadata": {},
   "source": [
    "# Code Generation"
   ]
  },
  {
   "cell_type": "code",
   "execution_count": 8,
   "metadata": {},
   "outputs": [
    {
     "name": "stdout",
     "output_type": "stream",
     "text": [
      " Here is a MySQL query to get all students in the Computer Science department:\n",
      "\n",
      "```sql\n",
      "SELECT s.StudentId, s.StudentName \n",
      "FROM students s\n",
      "INNER JOIN departments d ON s.DepartmentId = d.DepartmentId\n",
      "WHERE d.DepartmentName = 'Computer Science';\n",
      "```\n",
      "\n",
      "This performs an inner join between the students and departments tables, matching on the DepartmentId column. It then selects the StudentId and StudentName columns from the students table, and filters the results to only include rows where the DepartmentName is 'Computer Science'.\n",
      "\n",
      "The inner join connects the two tables so we can filter based on the department name from the departments table, while selecting the student information from the students table.\n"
     ]
    }
   ],
   "source": [
    "# If you'd like to try your own prompt, edit this parameter!\n",
    "prompt_data =\"\"\"Human:\\\"\\\"\\\"\\nTable departments, columns = [DepartmentId, DepartmentName]\\nTable students, columns = [DepartmentId, StudentId, StudentName]\\nCreate a MySQL query for all students in the Computer Science Department\\n\\\"\\\"\\\"\n",
    "\n",
    "Assistant:\n",
    "\"\"\"\n",
    "call_model(prompt_data=prompt_data, model=claude)"
   ]
  },
  {
   "cell_type": "code",
   "execution_count": 9,
   "metadata": {},
   "outputs": [
    {
     "name": "stdout",
     "output_type": "stream",
     "text": [
      " Here is the Python script to filter a CSV file based on a column value and save the result to a new CSV file:\n",
      "\n",
      "```python\n",
      "import pandas as pd\n",
      "\n",
      "# Load CSV file into a DataFrame\n",
      "df = pd.read_csv('input.csv') \n",
      "\n",
      "# Filter rows where Status is Active\n",
      "filtered_df = df[df['Status'] == 'Active']\n",
      "\n",
      "# Save filtered DataFrame to new CSV file\n",
      "filtered_df.to_csv('filtered_output.csv', index=False)\n",
      "```\n",
      "\n",
      "To use it:\n",
      "\n",
      "- Place the input CSV file in the same directory and name it `input.csv`\n",
      "- The filtered output will be saved as `filtered_output.csv` \n",
      "- Update the column name if needed - the filter is on the `'Status'` column\n",
      "- Set the filter value to match the desired rows - it's filtering for `'Active'` rows.\n",
      "\n",
      "This will load the CSV, filter for rows where Status is 'Active', and save those filtered rows to a new CSV file.\n"
     ]
    }
   ],
   "source": [
    "# If you'd like to try your own prompt, edit this parameter!\n",
    "prompt_data =\"\"\"Human:Generate a Python script that reads a CSV file, filters the rows based on a specific column's value, and saves the filtered result into a new CSV file. The script should:\n",
    "1. Use pandas library for reading and writing CSV files.\n",
    "2. Filter rows where the value in the 'Status' column is 'Active'.\n",
    "3. Save the filtered rows into a file named 'filtered_output.csv'.\n",
    "\n",
    "Assistant:\n",
    "\"\"\"\n",
    "call_model(prompt_data=prompt_data, model=claude)"
   ]
  },
  {
   "cell_type": "markdown",
   "metadata": {},
   "source": [
    "# Question Answering"
   ]
  },
  {
   "cell_type": "code",
   "execution_count": 10,
   "metadata": {},
   "outputs": [
    {
     "name": "stdout",
     "output_type": "stream",
     "text": [
      " Based on the context, OKT3 was originally sourced from mice.\n"
     ]
    }
   ],
   "source": [
    "prompt_data = \"\"\"System: Answer the question based on the context below. Keep the answer short and concise. Respond \"Unsure about answer\" if not sure about the answer.\n",
    "\n",
    "Human: This is the question:\n",
    "\n",
    "<question>\n",
    "What was OKT3 originally sourced from?\n",
    "</question>\n",
    "\n",
    "This is the context:\n",
    "\n",
    "<context> \n",
    "Teplizumab traces its roots to a New Jersey drug company called Ortho Pharmaceutical. There, scientists generated an early version of the antibody, dubbed OKT3. Originally sourced from mice, the molecule was able to bind to the surface of T cells and limit their cell-killing potential. In 1986, it was approved to help prevent organ rejection after kidney transplants, making it the first therapeutic antibody allowed for human use. \n",
    "</context>\n",
    "\n",
    "Assistant:\n",
    "\"\"\"\n",
    "call_model(prompt_data=prompt_data, model=claude)"
   ]
  },
  {
   "cell_type": "code",
   "execution_count": 11,
   "metadata": {},
   "outputs": [
    {
     "name": "stdout",
     "output_type": "stream",
     "text": [
      " Based on the provided context, the original source of penicillin was a mold called Penicillium notatum, which was first discovered by Alexander Fleming in 1928.\n"
     ]
    }
   ],
   "source": [
    "prompt_data = \"\"\"System: Answer the following question based on the context provided. If the answer is unclear, respond with \"Unsure about answer.\" Keep your response short and to the point.\n",
    "\n",
    "Human: This is the question:\n",
    "\n",
    "<question>\n",
    "What was the original source of penicillin?\n",
    "</question>\n",
    "\n",
    "This is the context:\n",
    "\n",
    "<context>\n",
    "Penicillin, the world's first antibiotic, was originally discovered by Scottish bacteriologist Alexander Fleming in 1928. He noticed that a mold called *Penicillium notatum* was secreting a substance that killed bacteria. This breakthrough revolutionized medicine, as penicillin became the most effective treatment against bacterial infections during World War II.\n",
    "</context>\n",
    "\n",
    "Assistant:\n",
    "\"\"\"\n",
    "call_model(prompt_data=prompt_data, model=claude)"
   ]
  },
  {
   "cell_type": "markdown",
   "metadata": {},
   "source": [
    "# Text Summarization"
   ]
  },
  {
   "cell_type": "code",
   "execution_count": 13,
   "metadata": {},
   "outputs": [
    {
     "name": "stdout",
     "output_type": "stream",
     "text": [
      " Antibiotics are medications that kill or stop the growth of bacteria, allowing the body's immune system to eliminate the infection, but they are ineffective against viruses and improper use can lead to resistant bacteria.\n"
     ]
    }
   ],
   "source": [
    "prompt_data = \"\"\"Human: Antibiotics are a type of medication used to treat bacterial infections. They work by either killing the bacteria or preventing them from reproducing, allowing the body's immune system to fight off the infection. Antibiotics are usually taken orally in the form of pills, capsules, or liquid solutions, or sometimes administered intravenously. They are not effective against viral infections, and using them inappropriately can lead to antibiotic resistance. \n",
    "\n",
    "Explain the above in one sentence:\n",
    "\n",
    "Assistant:\n",
    "\"\"\"\n",
    "call_model(prompt_data=prompt_data, model=claude)"
   ]
  },
  {
   "cell_type": "code",
   "execution_count": 12,
   "metadata": {},
   "outputs": [
    {
     "name": "stdout",
     "output_type": "stream",
     "text": [
      " The Great Barrier Reef off Australia's Queensland coast is the world's largest coral reef system spanning over 2,300 kilometers with 2,900 reefs and 900 islands, supporting diverse marine life but facing threats from climate change, pollution, and bleaching.\n"
     ]
    }
   ],
   "source": [
    "prompt_data = \"\"\"Human: The Great Barrier Reef, located off the coast of Queensland, Australia, is the world's largest coral reef system. Comprising over 2,900 individual reefs and 900 islands, it spans over 2,300 kilometers. The reef supports a wide diversity of marine life and is a crucial ecosystem for the planet. However, in recent years, the reef has faced significant threats due to climate change, pollution, and coral bleaching. Conservation efforts are underway, but the future of the reef remains uncertain.\n",
    "\n",
    "Explain the above in one sentence:\n",
    "\n",
    "Assistant:\n",
    "\"\"\"\n",
    "call_model(prompt_data=prompt_data, model=claude)"
   ]
  },
  {
   "cell_type": "code",
   "execution_count": 14,
   "metadata": {},
   "outputs": [
    {
     "name": "stdout",
     "output_type": "stream",
     "text": [
      " Here is an explanation of antibiotics for a 5 year old:\n",
      "\n",
      "There are tiny living things called bacteria that can sometimes make us sick. When bacteria get inside our bodies where they don't belong, they can cause infections. Antibiotics are special medicines that help fight the bacteria and make us feel better.\n",
      "\n",
      "Antibiotics work like little soldiers that attack the invading bacteria. Some antibiotics defeat the bacteria by poking holes in them until they die. Other antibiotics cover up the bacteria so they can't grow or make more bacteria. This allows the body's own defenses, called the immune system, to come in and get rid of the infection. \n",
      "\n",
      "Doctors prescribe antibiotics to treat illnesses caused by certain types of bacteria. We take the antibiotics by swallowing pills or liquid medicine. The medicine then goes inside our bodies and hunts down the bad bacteria. Antibiotics don't work on viruses - they only attack bacteria. It's important to take antibiotics exactly as the doctor instructs, or the bacteria can learn to hide from the medicine. Then we would have to find new medicines that can outsmart the sneaky bacteria!\n"
     ]
    }
   ],
   "source": [
    "prompt_data = \"\"\"Human: Antibiotics are a type of medication used to treat bacterial infections. They work by either killing the bacteria or preventing them from reproducing, allowing the body's immune system to fight off the infection. Antibiotics are usually taken orally in the form of pills, capsules, or liquid solutions, or sometimes administered intravenously. They are not effective against viral infections, and using them inappropriately can lead to antibiotic resistance. \n",
    "\n",
    "Explain the above like I'm 5 years old:\n",
    "\n",
    "Assistant:\n",
    "\"\"\"\n",
    "call_model(prompt_data=prompt_data, model=claude)"
   ]
  },
  {
   "cell_type": "markdown",
   "metadata": {},
   "source": [
    "# Reasoning"
   ]
  },
  {
   "cell_type": "code",
   "execution_count": 15,
   "metadata": {},
   "outputs": [
    {
     "name": "stdout",
     "output_type": "stream",
     "text": [
      " Okay, let's break this down step-by-step:\n",
      "\n",
      "1) Identify the odd numbers in the group: 15, 5, 13, 7, 1\n",
      "\n",
      "2) Add the odd numbers: \n",
      "15 + 5 + 13 + 7 + 1 = 41\n",
      "\n",
      "3) The result, 41, is an odd number.\n",
      "\n",
      "So the statement is false - the odd numbers in the group do not add up to an even number. The sum of the odd numbers is 41, which is an odd number.\n"
     ]
    }
   ],
   "source": [
    "prompt_data = \"\"\"Human: The odd numbers in this group add up to an even number: 15, 32, 5, 13, 82, 7, 1. \n",
    "\n",
    "Solve by breaking the problem into steps. First, identify the odd numbers, add them, and indicate whether the result is odd or even.\n",
    "\n",
    "Assistant:\n",
    "\"\"\"\n",
    "call_model(prompt_data=prompt_data, model=claude)"
   ]
  },
  {
   "cell_type": "code",
   "execution_count": 16,
   "metadata": {},
   "outputs": [
    {
     "name": "stdout",
     "output_type": "stream",
     "text": [
      " Okay, here are the steps to solve this problem:\n",
      "\n",
      "1) There are 30 students total in the class\n",
      "2) 18 of the students are girls\n",
      "3) So there must be 30 - 18 = 12 boys in the class\n",
      "4) To calculate the percentage of girls:\n",
      "- There are 18 girls \n",
      "- Out of a total of 30 students\n",
      "- So the percentage of girls is (18/30) x 100% = 60%\n",
      "\n",
      "Therefore, the number of boys is 12 and the percentage of girls is 60%.\n"
     ]
    }
   ],
   "source": [
    "prompt_data = \"\"\"Human: In a class of 30 students, 18 are girls and the rest are boys. \n",
    "\n",
    "Solve by breaking the problem into steps. First, determine how many boys are in the class. Then, calculate the percentage of girls in the class.\n",
    "\n",
    "Assistant:\n",
    "\"\"\"\n",
    "call_model(prompt_data=prompt_data, model=claude)"
   ]
  },
  {
   "cell_type": "markdown",
   "metadata": {},
   "source": [
    "# Chain of Thoughts"
   ]
  },
  {
   "cell_type": "code",
   "execution_count": 17,
   "metadata": {},
   "outputs": [
    {
     "name": "stdout",
     "output_type": "stream",
     "text": [
      " Okay, let's go through the steps:\n",
      "1) Identify the odd numbers in the group: 15, 5, 13, 7, 1\n",
      "2) Add the odd numbers: 15 + 5 + 13 + 7 + 1 = 41\n",
      "3) 41 is an odd number\n",
      "\n",
      "Therefore, the statement \"The odd numbers in this group add up to an even number\" is false for this group of numbers.\n"
     ]
    }
   ],
   "source": [
    "prompt_data = \"\"\"Human: The odd numbers in this group add up to an even number: 4, 8, 9, 15, 12, 2, 1.\n",
    "Assistant: Adding all the odd numbers (9, 15, 1) gives 25. The answer is False.\n",
    "\n",
    "Human: The odd numbers in this group add up to an even number: 15, 32, 5, 13, 82, 7, 1.\n",
    "Assistant:\n",
    "\"\"\"\n",
    "call_model(prompt_data=prompt_data, model=claude)"
   ]
  },
  {
   "cell_type": "code",
   "execution_count": 18,
   "metadata": {},
   "outputs": [
    {
     "name": "stdout",
     "output_type": "stream",
     "text": [
      " Okay, let's analyze this new statement:\n",
      "\n",
      "The odd numbers in the group are:\n",
      "1, 3, 5, 7\n",
      "\n",
      "Adding them up: \n",
      "1 + 3 + 5 + 7 = 16\n",
      "\n",
      "16 is an even number. \n",
      "\n",
      "Therefore, the statement is true - the odd numbers in this group (1, 3, 5, 7) do add up to an even number (16).\n"
     ]
    }
   ],
   "source": [
    "prompt_data = \"\"\"Human: The odd numbers in this group add up to an even number: 2, 4, 6, 7, 10, 11, 13.\n",
    "Assistant: First, identify the odd numbers: 7, 11, 13. \n",
    "Now, add them: 7 + 11 + 13 = 31. \n",
    "Since 31 is odd, the statement is False.\n",
    "\n",
    "Human: The odd numbers in this group add up to an even number: 1, 3, 5, 7, 8, 10, 12.\n",
    "Assistant:\n",
    "\"\"\"\n",
    "call_model(prompt_data=prompt_data, model=claude)"
   ]
  },
  {
   "cell_type": "markdown",
   "metadata": {},
   "source": [
    "# Zero-shot prompting"
   ]
  },
  {
   "cell_type": "code",
   "execution_count": 19,
   "metadata": {},
   "outputs": [
    {
     "name": "stdout",
     "output_type": "stream",
     "text": [
      " Okay, here are the steps:\n",
      "\n",
      "1) I originally bought 10 apples\n",
      "2) I gave 2 apples to the neighbor \n",
      "3) I gave 2 apples to the repairman\n",
      "4) So now I have 10 - 2 - 2 = 6 apples\n",
      "5) I bought 5 more apples, so now I have 6 + 5 = 11 apples \n",
      "6) I ate 1 apple\n",
      "7) So now I have 11 - 1 = 10 apples remaining\n",
      "\n",
      "Therefore, the number of apples I remain with is 10.\n"
     ]
    }
   ],
   "source": [
    "prompt_data = \"\"\"Human: I went to the market and bought 10 apples. I gave 2 apples to the neighbor and 2 to the repairman. I then went and bought 5 more apples and ate 1. How many apples did I remain with?\n",
    "\n",
    "Let's think step by step.\n",
    "Assistant:\n",
    "\"\"\"\n",
    "call_model(prompt_data=prompt_data, model=claude)\n"
   ]
  },
  {
   "cell_type": "code",
   "execution_count": 20,
   "metadata": {},
   "outputs": [
    {
     "name": "stdout",
     "output_type": "stream",
     "text": [
      " Okay, let's analyze this:\n",
      "\n",
      "The review \"The movie was very good\" expresses a positive sentiment. Words like \"very good\" indicate the reviewer enjoyed the movie and had a positive experience. So I would classify this as a positive review.\n"
     ]
    }
   ],
   "source": [
    "prompt_data = \"\"\"Human: Classify this review: 'The movie was very good.' Sentiment:\n",
    "Assistant:\n",
    "\"\"\"\n",
    "call_model(prompt_data=prompt_data, model=claude)\n"
   ]
  },
  {
   "cell_type": "markdown",
   "metadata": {},
   "source": [
    "# Few-shot prompting"
   ]
  },
  {
   "cell_type": "code",
   "execution_count": 22,
   "metadata": {},
   "outputs": [
    {
     "name": "stdout",
     "output_type": "stream",
     "text": [
      " Let's analyze this:\n",
      "The odd numbers in the group are:\n",
      "15\n",
      "5\n",
      "13\n",
      "7\n",
      "1\n",
      "\n",
      "Adding them up:\n",
      "15 + 5 + 13 + 7 + 1 = 41\n",
      "\n",
      "41 is an odd number.\n",
      "\n",
      "Therefore, the statement \"The odd numbers in this group add up to an even number\" is False.\n",
      "\n",
      "So the answer is False.\n"
     ]
    }
   ],
   "source": [
    "prompt_data = \"\"\"Human: The odd numbers in this group add up to an even number: 4, 8, 9, 15, 12, 2, 1.\n",
    "Assistant: The answer is False.\n",
    "\n",
    "Human: The odd numbers in this group add up to an even number: 17,  10, 19, 4, 8, 12, 24.\n",
    "Assistant: The answer is True.\n",
    "\n",
    "Human: The odd numbers in this group add up to an even number: 16,  11, 14, 4, 8, 13, 24.\n",
    "Assistant: The answer is True.\n",
    "\n",
    "Human: The odd numbers in this group add up to an even number: 17,  9, 10, 12, 13, 4, 2.\n",
    "Assistant: The answer is False.\n",
    "\n",
    "Human: The odd numbers in this group add up to an even number: 15, 32, 5, 13, 82, 7, 1.\n",
    "Assistant:\"\"\"\n",
    "call_model(prompt_data=prompt_data, model=claude)"
   ]
  },
  {
   "cell_type": "code",
   "execution_count": 21,
   "metadata": {},
   "outputs": [
    {
     "name": "stdout",
     "output_type": "stream",
     "text": [
      " This review expresses both positive and negative sentiments. The positive sentiment is that it is useful. The negative sentiment is that it is expensive. Overall I would classify this as a mixed sentiment review.\n"
     ]
    }
   ],
   "source": [
    "prompt_data = \"\"\"Human: Classify this review: 'The movie was very good.' Sentiment:\n",
    "Assistant: Positive.\n",
    "\n",
    "Human: Classify this review: 'It's just a waste of money.' Sentiment:\n",
    "Assistant: Negative.\n",
    "\n",
    "Human: Classify this review: 'Can't believe I wasted my time with this.' Sentiment:\n",
    "Assistant: Negative.\n",
    "\n",
    "Human: Classify this review: 'I would do it again.' Sentiment:\n",
    "Assistant: Positive.\n",
    "\n",
    "Human: Classify this review: 'It's useful but expensive.' Sentiment:\n",
    "Assistant:\"\"\"\n",
    "call_model(prompt_data=prompt_data, model=claude)"
   ]
  }
 ],
 "metadata": {
  "colab": {
   "provenance": []
  },
  "kernelspec": {
   "display_name": "Python 3 (ipykernel)",
   "language": "python",
   "name": "python3"
  },
  "language_info": {
   "codemirror_mode": {
    "name": "ipython",
    "version": 3
   },
   "file_extension": ".py",
   "mimetype": "text/x-python",
   "name": "python",
   "nbconvert_exporter": "python",
   "pygments_lexer": "ipython3",
   "version": "3.9.6"
  }
 },
 "nbformat": 4,
 "nbformat_minor": 4
}
