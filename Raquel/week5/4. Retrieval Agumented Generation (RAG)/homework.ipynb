{
 "cells": [
  {
   "cell_type": "markdown",
   "metadata": {},
   "source": [
    "# Homework\n",
    "\n",
    "The idea of this homework is to create a whole RAG system(ingestion and inference pipeline) for specific data and task. \n",
    "Important parts that need to be implemented are:\n",
    "- Loader and chunker for the data\n",
    "- Embedder for the data\n",
    "- LLM for the RAG\n",
    "- Vector Store(Database) for the data\n",
    "- Retriever for the data\n",
    "- Prompt Template for the RAG\n",
    "- RetrieverQA chain for the RAG\n",
    "\n",
    "Play around and try different things, the goal is to have fun and learn something new.\n"
   ]
  },
  {
   "cell_type": "code",
   "execution_count": 2,
   "metadata": {},
   "outputs": [
    {
     "name": "stdout",
     "output_type": "stream",
     "text": [
      "--2024-10-02 14:08:46--  https://www.researchgate.net/profile/Juan-Barrios-22/publication/374840957_Detecting_Psychological_Disorders_with_Stylometry_the_Case_of_ADHD_in_Adolescent_Autobiographical_Narratives/links/653153c95d51a8012b54b53c/Detecting-Psychological-Disorders-with-Stylometry-the-Case-of-ADHD-in-Adolescent-Autobiographical-Narratives.pdf\n",
      "Resolving www.researchgate.net (www.researchgate.net)... 2606:4700::6811:2169, 2606:4700::6811:2069, 104.17.32.105, ...\n",
      "Connecting to www.researchgate.net (www.researchgate.net)|2606:4700::6811:2169|:443... connected.\n",
      "HTTP request sent, awaiting response... 403 Forbidden\n",
      "2024-10-02 14:08:46 ERROR 403: Forbidden.\n",
      "\n"
     ]
    }
   ],
   "source": [
    "!wget https://www.researchgate.net/profile/Juan-Barrios-22/publication/374840957_Detecting_Psychological_Disorders_with_Stylometry_the_Case_of_ADHD_in_Adolescent_Autobiographical_Narratives/links/653153c95d51a8012b54b53c/Detecting-Psychological-Disorders-with-Stylometry-the-Case-of-ADHD-in-Adolescent-Autobiographical-Narratives.pdf -O stylometry.pdf"
   ]
  },
  {
   "cell_type": "code",
   "execution_count": 3,
   "metadata": {},
   "outputs": [
    {
     "name": "stdout",
     "output_type": "stream",
     "text": [
      "--2024-10-02 14:08:51--  https://www.researchgate.net/profile/Adibeh-Rahmani-2/publication/370155471_The_global_prevalence_of_ADHD_in_children_and_adolescents_a_systematic_review_and_meta-analysis/links/6475eac36fb1d1682b1c4275/The-global-prevalence-of-ADHD-in-children-and-adolescents-a-systematic-review-and-meta-analysis.pdf\n",
      "Resolving www.researchgate.net (www.researchgate.net)... 2606:4700::6811:2169, 2606:4700::6811:2069, 104.17.32.105, ...\n",
      "Connecting to www.researchgate.net (www.researchgate.net)|2606:4700::6811:2169|:443... connected.\n",
      "HTTP request sent, awaiting response... 403 Forbidden\n",
      "2024-10-02 14:08:51 ERROR 403: Forbidden.\n",
      "\n"
     ]
    }
   ],
   "source": [
    "!wget https://www.researchgate.net/profile/Adibeh-Rahmani-2/publication/370155471_The_global_prevalence_of_ADHD_in_children_and_adolescents_a_systematic_review_and_meta-analysis/links/6475eac36fb1d1682b1c4275/The-global-prevalence-of-ADHD-in-children-and-adolescents-a-systematic-review-and-meta-analysis.pdf -O adhd_prevalence.pdf"
   ]
  },
  {
   "cell_type": "code",
   "execution_count": 4,
   "metadata": {},
   "outputs": [
    {
     "name": "stdout",
     "output_type": "stream",
     "text": [
      "--2024-10-02 14:08:52--  https://www.researchgate.net/journal/Frontiers-in-Psychiatry-1664-0640/publication/363550227_Natural_language_processing_in_clinical_neuroscience_and_psychiatry_A_review/links/664818cbbc86444c72e8062c/Natural-language-processing-in-clinical-neuroscience-and-psychiatry-A-review.pdf\n",
      "Resolving www.researchgate.net (www.researchgate.net)... 2606:4700::6811:2169, 2606:4700::6811:2069, 104.17.32.105, ...\n",
      "Connecting to www.researchgate.net (www.researchgate.net)|2606:4700::6811:2169|:443... connected.\n",
      "HTTP request sent, awaiting response... 403 Forbidden\n",
      "2024-10-02 14:08:52 ERROR 403: Forbidden.\n",
      "\n"
     ]
    }
   ],
   "source": [
    "!wget https://www.researchgate.net/journal/Frontiers-in-Psychiatry-1664-0640/publication/363550227_Natural_language_processing_in_clinical_neuroscience_and_psychiatry_A_review/links/664818cbbc86444c72e8062c/Natural-language-processing-in-clinical-neuroscience-and-psychiatry-A-review.pdf -O nlp_clinical_neuroscience_review.pdf"
   ]
  },
  {
   "cell_type": "code",
   "execution_count": 5,
   "metadata": {},
   "outputs": [
    {
     "name": "stdout",
     "output_type": "stream",
     "text": [
      "--2024-10-02 14:08:53--  https://www.researchgate.net/publication/351583505_Natural_language_processing_methods_are_sensitive_to_sub-clinical_linguistic_differences_in_schizophrenia_spectrum_disorders/fulltext/60a44514a6fdccb2cc20c7d3/Natural-language-processing-methods-are-sensitive-to-sub-clinical-linguistic-differences-in-schizophrenia-spectrum-disorders.pdf\n",
      "Resolving www.researchgate.net (www.researchgate.net)... 2606:4700::6811:2169, 2606:4700::6811:2069, 104.17.32.105, ...\n",
      "Connecting to www.researchgate.net (www.researchgate.net)|2606:4700::6811:2169|:443... connected.\n",
      "HTTP request sent, awaiting response... 403 Forbidden\n",
      "2024-10-02 14:08:53 ERROR 403: Forbidden.\n",
      "\n"
     ]
    }
   ],
   "source": [
    "!wget https://www.researchgate.net/publication/351583505_Natural_language_processing_methods_are_sensitive_to_sub-clinical_linguistic_differences_in_schizophrenia_spectrum_disorders/fulltext/60a44514a6fdccb2cc20c7d3/Natural-language-processing-methods-are-sensitive-to-sub-clinical-linguistic-differences-in-schizophrenia-spectrum-disorders.pdf -O schizophrenia.pdf"
   ]
  },
  {
   "cell_type": "code",
   "execution_count": 6,
   "metadata": {},
   "outputs": [
    {
     "name": "stdout",
     "output_type": "stream",
     "text": [
      "--2024-10-02 14:08:54--  https://www.researchgate.net/profile/Patrick-Juola/publication/269849152_Psychological_profiling_through_textual_analysis/links/5e3b0fb792851c7f7f1fe4cb/Psychological-profiling-through-textual-analysis.pdf\n",
      "Resolving www.researchgate.net (www.researchgate.net)... 2606:4700::6811:2169, 2606:4700::6811:2069, 104.17.32.105, ...\n",
      "Connecting to www.researchgate.net (www.researchgate.net)|2606:4700::6811:2169|:443... connected.\n",
      "HTTP request sent, awaiting response... 403 Forbidden\n",
      "2024-10-02 14:08:54 ERROR 403: Forbidden.\n",
      "\n"
     ]
    }
   ],
   "source": [
    "!wget https://www.researchgate.net/profile/Patrick-Juola/publication/269849152_Psychological_profiling_through_textual_analysis/links/5e3b0fb792851c7f7f1fe4cb/Psychological-profiling-through-textual-analysis.pdf -O psychological_profiling.pdf"
   ]
  },
  {
   "cell_type": "code",
   "execution_count": 7,
   "metadata": {},
   "outputs": [
    {
     "name": "stdout",
     "output_type": "stream",
     "text": [
      "--2024-10-02 14:08:55--  https://www.researchgate.net/publication/384411176_Development_and_Enlightenment_of_Artificial_Intelligence_Writing_to_Linguistics_--A_Case_Study_of_ChatGPT/fulltext/66f7b16ef599e0392fa93a9e/Development-and-Enlightenment-of-Artificial-Intelligence-Writing-to-Linguistics--A-Case-Study-of-ChatGPT.pdf\n",
      "Resolving www.researchgate.net (www.researchgate.net)... 2606:4700::6811:2169, 2606:4700::6811:2069, 104.17.32.105, ...\n",
      "Connecting to www.researchgate.net (www.researchgate.net)|2606:4700::6811:2169|:443... connected.\n",
      "HTTP request sent, awaiting response... 403 Forbidden\n",
      "2024-10-02 14:08:55 ERROR 403: Forbidden.\n",
      "\n"
     ]
    }
   ],
   "source": [
    "!wget https://www.researchgate.net/publication/384411176_Development_and_Enlightenment_of_Artificial_Intelligence_Writing_to_Linguistics_--A_Case_Study_of_ChatGPT/fulltext/66f7b16ef599e0392fa93a9e/Development-and-Enlightenment-of-Artificial-Intelligence-Writing-to-Linguistics--A-Case-Study-of-ChatGPT.pdf -O linguistic_genAI.pdf"
   ]
  },
  {
   "cell_type": "code",
   "execution_count": 9,
   "metadata": {},
   "outputs": [
    {
     "name": "stdout",
     "output_type": "stream",
     "text": [
      "Requirement already satisfied: langchain in /Users/raquelcardoso/myenv/lib/python3.12/site-packages (0.3.1)\n",
      "Requirement already satisfied: langchain_community in /Users/raquelcardoso/myenv/lib/python3.12/site-packages (0.3.1)\n",
      "Requirement already satisfied: boto3 in /Users/raquelcardoso/myenv/lib/python3.12/site-packages (1.35.31)\n",
      "Requirement already satisfied: PyYAML>=5.3 in /Users/raquelcardoso/myenv/lib/python3.12/site-packages (from langchain) (6.0.2)\n",
      "Requirement already satisfied: SQLAlchemy<3,>=1.4 in /Users/raquelcardoso/myenv/lib/python3.12/site-packages (from langchain) (2.0.35)\n",
      "Requirement already satisfied: aiohttp<4.0.0,>=3.8.3 in /Users/raquelcardoso/myenv/lib/python3.12/site-packages (from langchain) (3.10.8)\n",
      "Requirement already satisfied: langchain-core<0.4.0,>=0.3.6 in /Users/raquelcardoso/myenv/lib/python3.12/site-packages (from langchain) (0.3.7)\n",
      "Requirement already satisfied: langchain-text-splitters<0.4.0,>=0.3.0 in /Users/raquelcardoso/myenv/lib/python3.12/site-packages (from langchain) (0.3.0)\n",
      "Requirement already satisfied: langsmith<0.2.0,>=0.1.17 in /Users/raquelcardoso/myenv/lib/python3.12/site-packages (from langchain) (0.1.129)\n",
      "Requirement already satisfied: numpy<2.0.0,>=1.26.0 in /Users/raquelcardoso/myenv/lib/python3.12/site-packages (from langchain) (1.26.4)\n",
      "Requirement already satisfied: pydantic<3.0.0,>=2.7.4 in /Users/raquelcardoso/myenv/lib/python3.12/site-packages (from langchain) (2.9.2)\n",
      "Requirement already satisfied: requests<3,>=2 in /Users/raquelcardoso/myenv/lib/python3.12/site-packages (from langchain) (2.32.3)\n",
      "Requirement already satisfied: tenacity!=8.4.0,<9.0.0,>=8.1.0 in /Users/raquelcardoso/myenv/lib/python3.12/site-packages (from langchain) (8.5.0)\n",
      "Requirement already satisfied: dataclasses-json<0.7,>=0.5.7 in /Users/raquelcardoso/myenv/lib/python3.12/site-packages (from langchain_community) (0.6.7)\n",
      "Requirement already satisfied: pydantic-settings<3.0.0,>=2.4.0 in /Users/raquelcardoso/myenv/lib/python3.12/site-packages (from langchain_community) (2.5.2)\n",
      "Requirement already satisfied: botocore<1.36.0,>=1.35.31 in /Users/raquelcardoso/myenv/lib/python3.12/site-packages (from boto3) (1.35.31)\n",
      "Requirement already satisfied: jmespath<2.0.0,>=0.7.1 in /Users/raquelcardoso/myenv/lib/python3.12/site-packages (from boto3) (1.0.1)\n",
      "Requirement already satisfied: s3transfer<0.11.0,>=0.10.0 in /Users/raquelcardoso/myenv/lib/python3.12/site-packages (from boto3) (0.10.2)\n",
      "Requirement already satisfied: aiohappyeyeballs>=2.3.0 in /Users/raquelcardoso/myenv/lib/python3.12/site-packages (from aiohttp<4.0.0,>=3.8.3->langchain) (2.4.3)\n",
      "Requirement already satisfied: aiosignal>=1.1.2 in /Users/raquelcardoso/myenv/lib/python3.12/site-packages (from aiohttp<4.0.0,>=3.8.3->langchain) (1.3.1)\n",
      "Requirement already satisfied: attrs>=17.3.0 in /Users/raquelcardoso/myenv/lib/python3.12/site-packages (from aiohttp<4.0.0,>=3.8.3->langchain) (24.2.0)\n",
      "Requirement already satisfied: frozenlist>=1.1.1 in /Users/raquelcardoso/myenv/lib/python3.12/site-packages (from aiohttp<4.0.0,>=3.8.3->langchain) (1.4.1)\n",
      "Requirement already satisfied: multidict<7.0,>=4.5 in /Users/raquelcardoso/myenv/lib/python3.12/site-packages (from aiohttp<4.0.0,>=3.8.3->langchain) (6.1.0)\n",
      "Requirement already satisfied: yarl<2.0,>=1.12.0 in /Users/raquelcardoso/myenv/lib/python3.12/site-packages (from aiohttp<4.0.0,>=3.8.3->langchain) (1.13.1)\n",
      "Requirement already satisfied: python-dateutil<3.0.0,>=2.1 in /Users/raquelcardoso/myenv/lib/python3.12/site-packages (from botocore<1.36.0,>=1.35.31->boto3) (2.9.0.post0)\n",
      "Requirement already satisfied: urllib3!=2.2.0,<3,>=1.25.4 in /Users/raquelcardoso/myenv/lib/python3.12/site-packages (from botocore<1.36.0,>=1.35.31->boto3) (2.2.3)\n",
      "Requirement already satisfied: marshmallow<4.0.0,>=3.18.0 in /Users/raquelcardoso/myenv/lib/python3.12/site-packages (from dataclasses-json<0.7,>=0.5.7->langchain_community) (3.22.0)\n",
      "Requirement already satisfied: typing-inspect<1,>=0.4.0 in /Users/raquelcardoso/myenv/lib/python3.12/site-packages (from dataclasses-json<0.7,>=0.5.7->langchain_community) (0.9.0)\n",
      "Requirement already satisfied: jsonpatch<2.0,>=1.33 in /Users/raquelcardoso/myenv/lib/python3.12/site-packages (from langchain-core<0.4.0,>=0.3.6->langchain) (1.33)\n",
      "Requirement already satisfied: packaging<25,>=23.2 in /Users/raquelcardoso/myenv/lib/python3.12/site-packages (from langchain-core<0.4.0,>=0.3.6->langchain) (24.1)\n",
      "Requirement already satisfied: typing-extensions>=4.7 in /Users/raquelcardoso/myenv/lib/python3.12/site-packages (from langchain-core<0.4.0,>=0.3.6->langchain) (4.12.2)\n",
      "Requirement already satisfied: httpx<1,>=0.23.0 in /Users/raquelcardoso/myenv/lib/python3.12/site-packages (from langsmith<0.2.0,>=0.1.17->langchain) (0.27.2)\n",
      "Requirement already satisfied: orjson<4.0.0,>=3.9.14 in /Users/raquelcardoso/myenv/lib/python3.12/site-packages (from langsmith<0.2.0,>=0.1.17->langchain) (3.10.7)\n",
      "Requirement already satisfied: annotated-types>=0.6.0 in /Users/raquelcardoso/myenv/lib/python3.12/site-packages (from pydantic<3.0.0,>=2.7.4->langchain) (0.7.0)\n",
      "Requirement already satisfied: pydantic-core==2.23.4 in /Users/raquelcardoso/myenv/lib/python3.12/site-packages (from pydantic<3.0.0,>=2.7.4->langchain) (2.23.4)\n",
      "Requirement already satisfied: python-dotenv>=0.21.0 in /Users/raquelcardoso/myenv/lib/python3.12/site-packages (from pydantic-settings<3.0.0,>=2.4.0->langchain_community) (1.0.1)\n",
      "Requirement already satisfied: charset-normalizer<4,>=2 in /Users/raquelcardoso/myenv/lib/python3.12/site-packages (from requests<3,>=2->langchain) (3.3.2)\n",
      "Requirement already satisfied: idna<4,>=2.5 in /Users/raquelcardoso/myenv/lib/python3.12/site-packages (from requests<3,>=2->langchain) (3.10)\n",
      "Requirement already satisfied: certifi>=2017.4.17 in /Users/raquelcardoso/myenv/lib/python3.12/site-packages (from requests<3,>=2->langchain) (2024.8.30)\n",
      "Requirement already satisfied: anyio in /Users/raquelcardoso/myenv/lib/python3.12/site-packages (from httpx<1,>=0.23.0->langsmith<0.2.0,>=0.1.17->langchain) (4.6.0)\n",
      "Requirement already satisfied: httpcore==1.* in /Users/raquelcardoso/myenv/lib/python3.12/site-packages (from httpx<1,>=0.23.0->langsmith<0.2.0,>=0.1.17->langchain) (1.0.6)\n",
      "Requirement already satisfied: sniffio in /Users/raquelcardoso/myenv/lib/python3.12/site-packages (from httpx<1,>=0.23.0->langsmith<0.2.0,>=0.1.17->langchain) (1.3.1)\n",
      "Requirement already satisfied: h11<0.15,>=0.13 in /Users/raquelcardoso/myenv/lib/python3.12/site-packages (from httpcore==1.*->httpx<1,>=0.23.0->langsmith<0.2.0,>=0.1.17->langchain) (0.14.0)\n",
      "Requirement already satisfied: jsonpointer>=1.9 in /Users/raquelcardoso/myenv/lib/python3.12/site-packages (from jsonpatch<2.0,>=1.33->langchain-core<0.4.0,>=0.3.6->langchain) (3.0.0)\n",
      "Requirement already satisfied: six>=1.5 in /Users/raquelcardoso/myenv/lib/python3.12/site-packages (from python-dateutil<3.0.0,>=2.1->botocore<1.36.0,>=1.35.31->boto3) (1.16.0)\n",
      "Requirement already satisfied: mypy-extensions>=0.3.0 in /Users/raquelcardoso/myenv/lib/python3.12/site-packages (from typing-inspect<1,>=0.4.0->dataclasses-json<0.7,>=0.5.7->langchain_community) (1.0.0)\n"
     ]
    }
   ],
   "source": [
    "# Installing the required packages\n",
    "!pip install langchain langchain_community boto3"
   ]
  },
  {
   "cell_type": "markdown",
   "metadata": {},
   "source": [
    "### Imports"
   ]
  },
  {
   "cell_type": "code",
   "execution_count": 11,
   "metadata": {},
   "outputs": [],
   "source": [
    "# Importing the required packages\n",
    "from langchain.chains import RetrievalQA\n",
    "from langchain.document_loaders import PyMuPDFLoader\n",
    "from langchain.memory import ConversationBufferWindowMemory\n",
    "from langchain.prompts import PromptTemplate\n",
    "from langchain.text_splitter import RecursiveCharacterTextSplitter\n",
    "#from langchain_community.chat_models import BedrockChat\n",
    "#from langchain_community.embeddings import BedrockEmbeddings\n",
    "from langchain_aws import ChatBedrock\n",
    "from langchain_aws import BedrockEmbeddings\n",
    "from langchain_community.vectorstores import FAISS\n",
    "import os"
   ]
  },
  {
   "cell_type": "markdown",
   "metadata": {},
   "source": [
    "### Configuration"
   ]
  },
  {
   "cell_type": "code",
   "execution_count": 12,
   "metadata": {},
   "outputs": [],
   "source": [
    "# Defining the configuration\n",
    "REGION_NAME = \"us-west-2\"\n",
    "#CREDENTIALS_PROFILE_NAME = \"ML\"\n",
    "EMBEDDER_MODEL_ID = \"amazon.titan-embed-text-v2:0\"\n",
    "EMBEDDER_MODEL_KWARGS = {\n",
    "    \"dimensions\": 512,\n",
    "    \"normalize\": True\n",
    "}\n",
    "\n",
    "LLM_MODEL_ID = \"anthropic.claude-3-sonnet-20240229-v1:0\" # anthropic.claude-3-haiku-20240307-v1:0 or anthropic.claude-3-sonnet-20240229-v1:0 or anthropic.claude-v2:1\n",
    "LLM_MODEL_KWARGS = {\n",
    "    \"max_tokens\": 4096,\n",
    "    \"temperature\": 0.1,\n",
    "    \"top_p\": 1,\n",
    "    \"top_k\": 250,\n",
    "    \"stop_sequences\": [\"\\n\\nHuman\"]\n",
    "}\n",
    "\n",
    "CHUNK_SIZE = 2000\n",
    "CHUNK_OVERLAP = 100\n",
    "\n",
    "DATA_PATHS = [\n",
    "    \"adhd_prevalence.pdf\",\n",
    "    \"linguistic_genAI.pdf\",\n",
    "    \"nlp_clinical_neuroscience_review.pdf\",\n",
    "    \"psychological_profiling.pdf\",\n",
    "    \"schizophrenia.pdf\",\n",
    "    \"stylometry.pdf\"\n",
    "]\n",
    "\n",
    "SEARCH_TYPE = \"similarity\"\n",
    "RETRIEVER_KWARGS = {\n",
    "    \"k\": 5\n",
    "}\n",
    "\n",
    "VECTOR_STORE_PATH = \"./vector_database/\""
   ]
  },
  {
   "cell_type": "markdown",
   "metadata": {},
   "source": [
    "### Chunker"
   ]
  },
  {
   "cell_type": "code",
   "execution_count": 13,
   "metadata": {},
   "outputs": [],
   "source": [
    "# Defining the chunker\n",
    "splitter = RecursiveCharacterTextSplitter(\n",
    "chunk_size=CHUNK_SIZE,\n",
    "chunk_overlap=CHUNK_OVERLAP\n",
    ")"
   ]
  },
  {
   "cell_type": "code",
   "execution_count": 14,
   "metadata": {},
   "outputs": [],
   "source": [
    "# Creating chunks from the documents\n",
    "global_chunks = []\n",
    "for data_path in DATA_PATHS:\n",
    "    loader = PyMuPDFLoader(os.path.join(os.getcwd(), data_path)) # load desired files (.pdf)\n",
    "    docs = loader.load()\n",
    "    chunks = splitter.split_documents(docs)\n",
    "    global_chunks.extend(chunks)"
   ]
  },
  {
   "cell_type": "markdown",
   "metadata": {},
   "source": [
    "### Embeddings"
   ]
  },
  {
   "cell_type": "code",
   "execution_count": 15,
   "metadata": {},
   "outputs": [],
   "source": [
    "# Creating the embedder\n",
    "embedder = BedrockEmbeddings(\n",
    "    model_id=EMBEDDER_MODEL_ID,\n",
    "    model_kwargs=EMBEDDER_MODEL_KWARGS,\n",
    "    region_name=REGION_NAME,\n",
    "    #credentials_profile_name=CREDENTIALS_PROFILE_NAME\n",
    ")"
   ]
  },
  {
   "cell_type": "markdown",
   "metadata": {},
   "source": [
    "### Saving in Vector Store"
   ]
  },
  {
   "cell_type": "code",
   "execution_count": 16,
   "metadata": {},
   "outputs": [],
   "source": [
    "# Creating the vector store\n",
    "vector_store = FAISS.from_documents(documents=chunks, embedding=embedder)\n",
    "vector_store.save_local(VECTOR_STORE_PATH)"
   ]
  },
  {
   "cell_type": "markdown",
   "metadata": {},
   "source": [
    "### Prompt Template"
   ]
  },
  {
   "cell_type": "code",
   "execution_count": 17,
   "metadata": {},
   "outputs": [],
   "source": [
    "INPUT_KEY = \"question\"\n",
    "MEMORY_KEY = \"history\"\n",
    "INPUT_VARIABLES = [\"context\", \"history\", \"question\"]\n",
    "\n",
    "# Inside in the prompt template, you can play with the system's persona, the context, the history, and the question.\n",
    "PROMPT_TEMPLATE = \"\"\"\n",
    "System: You are a helpful, respectful and honest assistant knowledgeable in Academical Papers about ADHD, AI, Linguistics and Mental Health.\n",
    "You are here to provide information and guidance to the user in a friendly and professional manner.\n",
    "The user wants to know more about the Academical Papers you are knowledgeable about.\n",
    "Always answer as helpfully as possible, while being safe.\n",
    "Please ensure that your responses are socially unbiased and positive in nature.\n",
    "When addressing the user, always base your responses on the context provided and the previous chat history if its available.\n",
    "If you are unsure about the answer, please let the user know.\n",
    "If the user asks something that is not related to Academical Papers, please let the user know.\n",
    "Human:\n",
    "----------\n",
    "<context>\n",
    "{context}\n",
    "</context>\n",
    "----------\n",
    "<history>\n",
    "{history}\n",
    "</history>\n",
    "----------\n",
    "<question>\n",
    "{question}\n",
    "</question>\n",
    "----------\n",
    "Assistant:\n",
    "\"\"\""
   ]
  },
  {
   "cell_type": "markdown",
   "metadata": {},
   "source": [
    "### LLM Model"
   ]
  },
  {
   "cell_type": "code",
   "execution_count": 18,
   "metadata": {},
   "outputs": [],
   "source": [
    "llm = ChatBedrock(\n",
    "    region_name=REGION_NAME,\n",
    "    model_id=LLM_MODEL_ID,\n",
    "    model_kwargs=LLM_MODEL_KWARGS\n",
    ")"
   ]
  },
  {
   "cell_type": "markdown",
   "metadata": {},
   "source": [
    "### Load Vector Store"
   ]
  },
  {
   "cell_type": "code",
   "execution_count": 19,
   "metadata": {},
   "outputs": [],
   "source": [
    "# Loading the vector store and creating retriever\n",
    "vector_store = FAISS.load_local(VECTOR_STORE_PATH, embeddings=embedder, allow_dangerous_deserialization=True)\n",
    "retriever = vector_store.as_retriever(search_type=SEARCH_TYPE, **RETRIEVER_KWARGS)"
   ]
  },
  {
   "cell_type": "markdown",
   "metadata": {},
   "source": [
    "### Conversational Memory Buffer"
   ]
  },
  {
   "cell_type": "code",
   "execution_count": 20,
   "metadata": {},
   "outputs": [
    {
     "name": "stderr",
     "output_type": "stream",
     "text": [
      "/var/folders/w0/r0k6chkn2nzd_g1c2pdl2pf40000gn/T/ipykernel_5537/3752146924.py:2: LangChainDeprecationWarning: Please see the migration guide at: https://python.langchain.com/docs/versions/migrating_memory/\n",
      "  memory = ConversationBufferWindowMemory(memory_key=MEMORY_KEY, input_key=INPUT_KEY, k=3, ai_prefix=\"Assistant\")\n"
     ]
    }
   ],
   "source": [
    "# Creating the memory and the prompt template\n",
    "memory = ConversationBufferWindowMemory(memory_key=MEMORY_KEY, input_key=INPUT_KEY, k=3, ai_prefix=\"Assistant\")\n",
    "prompt = PromptTemplate(template=PROMPT_TEMPLATE, input_variables=INPUT_VARIABLES)"
   ]
  },
  {
   "cell_type": "markdown",
   "metadata": {},
   "source": [
    "### LLM Chat"
   ]
  },
  {
   "cell_type": "code",
   "execution_count": 21,
   "metadata": {},
   "outputs": [],
   "source": [
    "# Creating the Chain for usage\n",
    "chain = RetrievalQA.from_chain_type(\n",
    "            llm=llm,\n",
    "            retriever=retriever,\n",
    "            verbose=True,\n",
    "            return_source_documents=True,\n",
    "            chain_type_kwargs={\n",
    "                \"prompt\": prompt,\n",
    "                \"memory\": memory\n",
    "            }\n",
    ")"
   ]
  },
  {
   "cell_type": "code",
   "execution_count": 22,
   "metadata": {},
   "outputs": [
    {
     "name": "stdout",
     "output_type": "stream",
     "text": [
      "\n",
      "\n",
      "\u001b[1m> Entering new RetrievalQA chain...\u001b[0m\n",
      "\n",
      "\u001b[1m> Finished chain.\u001b[0m\n",
      "Based on the context provided, this paper appears to be exploring the use of stylometric methods (analysis of linguistic style) for automatically detecting and potentially understanding Attention-Deficit/Hyperactivity Disorder (ADHD) in individuals.\n",
      "\n",
      "The key points are:\n",
      "\n",
      "1. The authors hypothesize that people with ADHD may exhibit a distinct linguistic style compared to neurotypical controls.\n",
      "\n",
      "2. They propose using stylometric features like function words and character n-grams, which have been successfully used for authorship analysis, to try to automatically classify ADHD vs. control groups.\n",
      "\n",
      "3. Specifically, they plan to use supervised machine learning methods like Support Vector Machines on these stylometric features to build a classification model.\n",
      "\n",
      "4. The motivation is that stylometry could provide an efficient and reliable way to assist practitioners in detecting ADHD, which poses significant risks if undiagnosed.\n",
      "\n",
      "5. Most prior work on applying NLP to psychological disorders has focused on English, so this study on a French corpus would be novel.\n",
      "\n",
      "6. Ultimately, if a distinct \"ADHD style\" exists, stylometry could help identify it and aid in ADHD diagnosis and understanding the disorder's manifestations in language.\n",
      "\n",
      "In summary, it is an exploratory study applying stylometric analysis and machine learning to try to automatically detect linguistic patterns associated with ADHD from written texts.\n"
     ]
    }
   ],
   "source": [
    "response = chain.invoke(\"What is the stylometry paper about?\")\n",
    "print(response[\"result\"])"
   ]
  },
  {
   "cell_type": "code",
   "execution_count": 23,
   "metadata": {},
   "outputs": [
    {
     "name": "stdout",
     "output_type": "stream",
     "text": [
      "[Document(metadata={'source': '/Users/raquelcardoso/Documents/interns_ml_pt/Raquel/week5/4. Retrieval Agumented Generation (RAG)/stylometry.pdf', 'file_path': '/Users/raquelcardoso/Documents/interns_ml_pt/Raquel/week5/4. Retrieval Agumented Generation (RAG)/stylometry.pdf', 'page': 4, 'total_pages': 15, 'format': 'PDF 1.4', 'title': 'Detecting Psychological Disorders with Stylometry: the Case of ADHD in Adolescent Autobiographical Narratives', 'author': '', 'subject': 'CEUR Workshop Proceedings (CEUR-WS.org)', 'keywords': '', 'creator': 'LaTeX with hyperref', 'producer': 'macOS Version 13.4 (Build 22F66) Quartz PDFContext, AppendMode 1.1', 'creationDate': \"D:20231019154552Z00'00'\", 'modDate': \"D:20231019154710Z00'00'\", 'trapped': ''}, page_content='deception [40, 41], status [42], sex [43] and age [44]. We think that the use of FW differs\\nbetween our two working groups (ADHD vs control) and that it is therefore possible to auto-\\nmatically classify one and the other group on the basis of FW. For years now, stylometry has\\nbeen used to classify all types of documents [45], and seems to be the most suitable method for\\nthis task.\\nIn addition to FW, we also propose to use another traditional feature of stylometric research:\\ncharacters 3-grams [46], which can capture lexical, and even grammatical preferences. Such\\na feature has already shown its relevance for French texts in previous studies on authorship\\nattribution [47], and has also proven its capacity to capture more than the authorial signal [48].\\n3.2. Set up\\nSupport Vector Machine (SVM)\\nOften used in stylometry, unsupervised approaches [49,\\n50, 51, 47, 52] seemed less adapted than supervised techniques for this profiling task. A recent\\nsurvey [53] has shown that classical machine learning methods still perform better for profiling'), Document(metadata={'source': '/Users/raquelcardoso/Documents/interns_ml_pt/Raquel/week5/4. Retrieval Agumented Generation (RAG)/stylometry.pdf', 'file_path': '/Users/raquelcardoso/Documents/interns_ml_pt/Raquel/week5/4. Retrieval Agumented Generation (RAG)/stylometry.pdf', 'page': 14, 'total_pages': 15, 'format': 'PDF 1.4', 'title': 'Detecting Psychological Disorders with Stylometry: the Case of ADHD in Adolescent Autobiographical Narratives', 'author': '', 'subject': 'CEUR Workshop Proceedings (CEUR-WS.org)', 'keywords': '', 'creator': 'LaTeX with hyperref', 'producer': 'macOS Version 13.4 (Build 22F66) Quartz PDFContext, AppendMode 1.1', 'creationDate': \"D:20231019154552Z00'00'\", 'modDate': \"D:20231019154710Z00'00'\", 'trapped': ''}, page_content='16090970.pdf.\\n[56] J. K. Ward, F. Cafiero, R. Fretigny, J. Colgrove, V. Seror, France’s citizen consultation on\\nvaccination and the challenges of participatory democracy in health, Social Science &\\nMedicine 220 (2019) 73–80. doi:10.1016/j.socscimed.2018.10.032.\\n[57] M. Eder, Rolling stylometry, Digital Scholarship in the Humanities 31 (2015) 457–469.\\ndoi:10.1093/llc/fqv010.\\n[58] F. Cafiero, J.-B. Camps, ’Psyché’ as a Rosetta stone? assessing collaborative authorship\\nin the french 17th century theatre, in: Proceedings of the Conference on Computational\\nHumanities Research 2021, CEUR Workshop Proceedings, 2021, pp. 377–391. URL: https:\\n//ceur-ws.org/Vol-2989/long_paper51.pdf.\\n[59] J.-B. Camps, SUPERvised STYLometry (SuperStyl), 2021. URL: https://github.com/\\nSupervisedStylometry/SuperStyl.\\n[60] F. Cafiero, J.-B. Camps, Who could be behind QAnon? authorship attribution with su-\\npervised machine-learning, Digital Scholarship in the Humanities (2023). doi:10.48550/\\narXiv.2303.02078.\\n[61] F. Pedregosa, G. Varoquaux, A. Gramfort, V. Michel, B. Thirion, O. Grisel, M. Blon-\\ndel, P. Prettenhofer, R. Weiss, V. Dubourg, J. Vanderplas, A. Passos, D. Cournapeau,\\nM. Brucher, M. Perrot, E. Duchesnay, Scikit-learn: Machine learning in Python, Jour-\\nnal of Machine Learning Research 12 (2011) 2825–2830. URL: https://jmlr.org/papers/v12/\\npedregosa11a.html.\\n[62] V. Johansson,\\nLexical diversity and lexical density in speech and writing,\\nWorking\\npapers / Lund University, Department of Linguistics and Phonetics 53 (2008). URL:\\nhttps://journals.lub.lu.se/LWPL/article/view/2273.\\n[63] M. A. K. Halliday, Spoken and written language, Oxford University Press [Oxford], 1990.\\n[64] S. M. Redmond,\\nConversational profiles of children with ADHD, SLI and typi-\\ncal development,\\nClinical Linguistics & Phonetics 18 (2004) 107–125. doi:10.1080/\\n02699200310001611612.\\n[65] A. R. Sutin, R. W. Robins, When the “I” looks at the “Me”: Autobiographical memory,'), Document(metadata={'source': '/Users/raquelcardoso/Documents/interns_ml_pt/Raquel/week5/4. Retrieval Agumented Generation (RAG)/stylometry.pdf', 'file_path': '/Users/raquelcardoso/Documents/interns_ml_pt/Raquel/week5/4. Retrieval Agumented Generation (RAG)/stylometry.pdf', 'page': 1, 'total_pages': 15, 'format': 'PDF 1.4', 'title': 'Detecting Psychological Disorders with Stylometry: the Case of ADHD in Adolescent Autobiographical Narratives', 'author': '', 'subject': 'CEUR Workshop Proceedings (CEUR-WS.org)', 'keywords': '', 'creator': 'LaTeX with hyperref', 'producer': 'macOS Version 13.4 (Build 22F66) Quartz PDFContext, AppendMode 1.1', 'creationDate': \"D:20231019154552Z00'00'\", 'modDate': \"D:20231019154710Z00'00'\", 'trapped': ''}, page_content='of ADHD diagnosis with stylometric methods.\\nKeywords\\nStylometry, NLP, Psychology, Psychological disorder, ADHD, Self-Defining Memories\\n1. Introduction\\nThe assumptions that the “words we use in natural language […] reveal a tremendous amount of\\ninformation about our social interactions and personality” and that Natural Language Process-\\nCHR 2023: Computational Humanities Research Conference, December 6 – 8, 2023, Paris, France\\n∗Corresponding author.\\n£ juan.barrios@unige.ch (J. Barrios); simon.gabay@unige.ch (S. Gabay); florian.cafiero@chartes.psl.eu\\n(F. Cafiero); martin.debbane@unige.ch (M. Debbané)\\nç https://www.unige.ch/fapse/psychoclinique/unites/upcd/membres/juan-barrios-rudloff (J. Barrios);\\nhttps://www.unige.ch/lettres/humanites-numeriques/equipe/collaborateurs/dr-simon-gabay (S. Gabay);\\nhttps://sites.google.com/view/florian-cafiero (F. Cafiero);\\nhttps://www.unige.ch/fapse/psychoclinique/unites/upcd/membres/debbane (M. Debbané)\\nȈ 0000-0003-0709-8306 (J. Barrios); 0000-0001-9094-4475 (S. Gabay); 0000-0002-1951-6942 (F. Cafiero);\\n0000-0002-4677-8753 (M. Debbané)\\n© 2023 Copyright for this paper by its authors. Use permitted under Creative Commons License Attribution 4.0 International (CC BY 4.0).\\nCEUR\\nWorkshop\\nProceedings\\nhttp://ceur-ws.org\\nISSN 1613-0073\\nCEUR Workshop Proceedings (CEUR-WS.org)'), Document(metadata={'source': '/Users/raquelcardoso/Documents/interns_ml_pt/Raquel/week5/4. Retrieval Agumented Generation (RAG)/stylometry.pdf', 'file_path': '/Users/raquelcardoso/Documents/interns_ml_pt/Raquel/week5/4. Retrieval Agumented Generation (RAG)/stylometry.pdf', 'page': 2, 'total_pages': 15, 'format': 'PDF 1.4', 'title': 'Detecting Psychological Disorders with Stylometry: the Case of ADHD in Adolescent Autobiographical Narratives', 'author': '', 'subject': 'CEUR Workshop Proceedings (CEUR-WS.org)', 'keywords': '', 'creator': 'LaTeX with hyperref', 'producer': 'macOS Version 13.4 (Build 22F66) Quartz PDFContext, AppendMode 1.1', 'creationDate': \"D:20231019154552Z00'00'\", 'modDate': \"D:20231019154710Z00'00'\", 'trapped': ''}, page_content='ing (NLP) can help us access to this information is now widely shared by linguists, philologists\\nor psychologists [3]. With regard for psychological disorders, such a “revelation” is not enough:\\nbecause ADHD poses significant risks [4], we need to efficiently assist practitioners to detect\\nsuch disorders as automatically and as reliably as possible. This paper proposes therefore a\\ncase study to evaluate the use of a NLP technique, stylometry, for the detection and possibly\\nthe understanding of Attention-deficit/hyperactivity disorder (ADHD).\\nResearch crossing NLP and psychology is mainly conducted on English native speakers, but\\nsome papers exist on romance languages (such as Spanish [5]) or Asian languages (such as\\nKorean [6, 7]). It is precisely on Korean that the rare studies on ADHD concluding with a\\nspecific style for people prone to this disorder have been carried out. If a specific style exists,\\nstylometry should make it possible to identify it, and therefore presents itself as a promising\\nmethod for diagnosing ADHD, and thus preventing the risks associated with it.\\n1.1. Attention-deficit/hyperactivity disorder (ADHD)\\nADHD is a neurodevelopmental disorder that affects 5.6% in teenagers aged 12 to 18 years\\n[1]. Its causes are multifactorial: several genetic and environmental risk factors act together\\nto increase both susceptibility to the disorder and the extent of psychiatric comorbidities [2].\\nRegarding its diagnosis, it is reliable and valid when evaluated with standard criteria for psychi-\\natric disorders, but the expression of symptoms varies as a function of patient developmental\\nstage in both the social and the academic contexts [2]. All this makes ADHD diagnoses a time\\nconsuming task (up to one working day) requiring a high level of expertise.\\nFurthermore, during adolescence, young people with ADHD are especially prone to expe-\\nrience difficulties in interpersonal relationships, characterised by conflicts within the family')]\n"
     ]
    }
   ],
   "source": [
    "# Getting the documents used as context\n",
    "print(response[\"source_documents\"])"
   ]
  },
  {
   "cell_type": "code",
   "execution_count": 24,
   "metadata": {},
   "outputs": [
    {
     "name": "stdout",
     "output_type": "stream",
     "text": [
      "\n",
      "\n",
      "\u001b[1m> Entering new RetrievalQA chain...\u001b[0m\n",
      "\n",
      "\u001b[1m> Finished chain.\u001b[0m\n",
      "According to the context provided, the paper cites a systematic review and meta-analysis study [1] that reports on the global prevalence of ADHD in children and adolescents:\n",
      "\n",
      "\"The global prevalence of ADHD in children and adolescents: a systematic review and meta-analysis, Italian Journal of Pediatrics 49 (2023-04-20) 48.\"\n",
      "\n",
      "While the exact prevalence rate is not mentioned, this reference suggests the paper discusses and cites up-to-date estimates on how common ADHD is among the pediatric/adolescent population worldwide based on a comprehensive review of studies on the topic.\n",
      "\n",
      "Providing accurate prevalence rates for ADHD, especially across different age groups, geographic regions, etc. is important context for a study looking at linguistic markers of the disorder. It helps establish the scale and relevance of the research problem the authors are trying to address through their stylometric analysis methods.\n"
     ]
    }
   ],
   "source": [
    "# Asking a new question and printing the answer\n",
    "response = chain.invoke(\"What is the prevalence of ADHD in children and adolescents?\")\n",
    "print(response[\"result\"])"
   ]
  },
  {
   "cell_type": "code",
   "execution_count": 25,
   "metadata": {},
   "outputs": [
    {
     "name": "stdout",
     "output_type": "stream",
     "text": [
      "[Document(metadata={'source': '/Users/raquelcardoso/Documents/interns_ml_pt/Raquel/week5/4. Retrieval Agumented Generation (RAG)/stylometry.pdf', 'file_path': '/Users/raquelcardoso/Documents/interns_ml_pt/Raquel/week5/4. Retrieval Agumented Generation (RAG)/stylometry.pdf', 'page': 6, 'total_pages': 15, 'format': 'PDF 1.4', 'title': 'Detecting Psychological Disorders with Stylometry: the Case of ADHD in Adolescent Autobiographical Narratives', 'author': '', 'subject': 'CEUR Workshop Proceedings (CEUR-WS.org)', 'keywords': '', 'creator': 'LaTeX with hyperref', 'producer': 'macOS Version 13.4 (Build 22F66) Quartz PDFContext, AppendMode 1.1', 'creationDate': \"D:20231019154552Z00'00'\", 'modDate': \"D:20231019154710Z00'00'\", 'trapped': ''}, page_content='32\\n24\\nGirls\\n34\\n24\\n<=15 years old\\n21\\n20\\n>15 years old\\n45\\n28\\nADHD\\n25\\n24\\nControl\\n41\\n24\\nTotal\\n66\\n48\\n1We do not use gender, but biological sex as a category, as many other studies do. Our objective here is not to study\\nthe difference between these two groups (male vs. female) but to obtain two samples as comparable as possible\\n(ADHD vs. control). The question of gender could, however, be of interest in future studies, especially because\\nADHD is possibly because ADHD is generally more likely to be diagnosed and treated for boys.'), Document(metadata={'source': '/Users/raquelcardoso/Documents/interns_ml_pt/Raquel/week5/4. Retrieval Agumented Generation (RAG)/stylometry.pdf', 'file_path': '/Users/raquelcardoso/Documents/interns_ml_pt/Raquel/week5/4. Retrieval Agumented Generation (RAG)/stylometry.pdf', 'page': 10, 'total_pages': 15, 'format': 'PDF 1.4', 'title': 'Detecting Psychological Disorders with Stylometry: the Case of ADHD in Adolescent Autobiographical Narratives', 'author': '', 'subject': 'CEUR Workshop Proceedings (CEUR-WS.org)', 'keywords': '', 'creator': 'LaTeX with hyperref', 'producer': 'macOS Version 13.4 (Build 22F66) Quartz PDFContext, AppendMode 1.1', 'creationDate': \"D:20231019154552Z00'00'\", 'modDate': \"D:20231019154710Z00'00'\", 'trapped': ''}, page_content='refining the precision of the detection in order to identify the different modalities of ADHD\\n(predominantly inattentive, hyperactive or combined) is another relevant challenge to con-\\nsider for future studies. Third, self-reported affect reported by participants in the Task of\\nSDMs should be considered in order to evaluate to what extend this metadata could improve\\nthe detection of the signal of ADHD in the adolescent’s autobiographical narratives. Finally,\\nconsidering the potential challenge for young adolescents to write a memoir, another interest-\\ning aspect would be to modify the task to make it a verbal task and, eventually, also modify\\nthe instruction to make it simpler and eventually more stimulating for the target population.\\nAcknowledgements\\nJB was funded by the Chilean National Agency for Research and Development (ANID Chile)\\nthrough the PhD Abroad Scholarship, 2018 award. The PI (Prof. Martin Debbané) was funded\\nby the Swiss National Science foundation (Grant number 100014_179033), as well as the Ma-\\nrina Picasso Prize from AEMD Foundation 2018.\\nReferences\\n[1] N. Salari, H. Ghasemi, N. Abdoli, A. Rahmani, M. H. Shiri, A. H. Hashemian, H. Ak-\\nbari, M. Mohammadi, The global prevalence of ADHD in children and adolescents: a\\nsystematic review and meta-analysis, Italian Journal of Pediatrics 49 (2023-04-20) 48.\\ndoi:10.1186/s13052-023-01456-1.\\n[2] S. V. Faraone, P. Asherson, T. Banaschewski, J. Biederman, J. K. Buitelaar, J. A. Ramos-\\nQuiroga, L. A. Rohde, E. J. S. Sonuga-Barke, R. Tannock, B. Franke,\\nAttention-\\ndeficit/hyperactivity disorder, Nature Reviews. Disease Primers 1 (2015) 15020. doi:10.\\n1038/nrdp.2015.20.\\n[3] C. Chung, J. W. Pennebaker, The psychological functions of function words, Social com-\\nmunication (2007).\\n[4] J. Jogia, A. H. Sharif, F. A. Nawaz, A. R. Khan, R. H. Alawami, M. A. Aljanahi, M. A.\\nSultan, Comorbidities associated with attention-deficit/hyperactivity disorder in chil-'), Document(metadata={'source': '/Users/raquelcardoso/Documents/interns_ml_pt/Raquel/week5/4. Retrieval Agumented Generation (RAG)/stylometry.pdf', 'file_path': '/Users/raquelcardoso/Documents/interns_ml_pt/Raquel/week5/4. Retrieval Agumented Generation (RAG)/stylometry.pdf', 'page': 7, 'total_pages': 15, 'format': 'PDF 1.4', 'title': 'Detecting Psychological Disorders with Stylometry: the Case of ADHD in Adolescent Autobiographical Narratives', 'author': '', 'subject': 'CEUR Workshop Proceedings (CEUR-WS.org)', 'keywords': '', 'creator': 'LaTeX with hyperref', 'producer': 'macOS Version 13.4 (Build 22F66) Quartz PDFContext, AppendMode 1.1', 'creationDate': \"D:20231019154552Z00'00'\", 'modDate': \"D:20231019154710Z00'00'\", 'trapped': ''}, page_content='We matched the two samples using the cardinality matching method to find the largest\\nmatched set (in this case by age and sex) with the additional constraint that the ratio between\\nthe number of adolescents in both groups had to be equal to 1. This method allowed us to\\navoid differences between groups by sex or age with minimal loss of ADHD cases selecting\\nthe best-fitting control cases in function of the ADHD group.\\nFinal samples\\nIn both groups the final sample meeting and pairwise inclusion criteria con-\\nsisted of 24 adolescents (12 females and 12 males) in both groups (cf. tab. 2). The age mean\\nweight in ADHD group was 15.14 (𝜎= 1.83) and 15.21 (𝜎= 1.44) for the control group. A Stu-\\ndent two-samples t-test showed that the difference was statistically not significant (t(43.65) =\\n-0.16, p = 0.87). Finally, as a result of this pairwise matching, the total number of SDMs per\\ngroup has been reduced to 72 SDMs (24 participants × 3 SDMs) per group.\\n4.3. Results\\nFigure 1: Number of tokens per SDM in ADHD group\\nvs control group.\\nLexical diversity (TTR = 𝑉\\n𝑁) is higher for\\nthe control group (209, 𝜎= 63,9), indicat-\\ning its members use significantly more\\ndifferent words to describe their mem-\\nories than the ADHD group (153, 𝜎=\\n54,5, p < 0.001), contradicting the re-\\nsults of Redmond [64]. This fact could\\nbe explained by the significant differ-\\nence in size between the SDMs of the\\ntwo groups (cf. fig. 1), those of the con-\\ntrol group being generally longer ( ̄𝑥>100\\ntoken) than those of the ADHD group\\n( ̄𝑥≈60):\\nas the length of the text in-\\ncreases, there is a greater statistical like-\\nlihood of finding a new word.\\nOn the contrary lexical density (𝐿𝑑=\\n𝑁𝑙𝑒𝑥\\n𝑁\\n∗100) is not significantly different\\nbetween the control group (0.027, 𝜎=\\n0.008) and the ADHD group (0.029, 𝜎=\\n0.01), which invalidates our hypothesis\\nbased on Yoder [27].\\n4.4. Functors as markers\\nAnalyzing which features allowed our SVM to distinguish between our two groups can help'), Document(metadata={'source': '/Users/raquelcardoso/Documents/interns_ml_pt/Raquel/week5/4. Retrieval Agumented Generation (RAG)/stylometry.pdf', 'file_path': '/Users/raquelcardoso/Documents/interns_ml_pt/Raquel/week5/4. Retrieval Agumented Generation (RAG)/stylometry.pdf', 'page': 10, 'total_pages': 15, 'format': 'PDF 1.4', 'title': 'Detecting Psychological Disorders with Stylometry: the Case of ADHD in Adolescent Autobiographical Narratives', 'author': '', 'subject': 'CEUR Workshop Proceedings (CEUR-WS.org)', 'keywords': '', 'creator': 'LaTeX with hyperref', 'producer': 'macOS Version 13.4 (Build 22F66) Quartz PDFContext, AppendMode 1.1', 'creationDate': \"D:20231019154552Z00'00'\", 'modDate': \"D:20231019154710Z00'00'\", 'trapped': ''}, page_content='Sultan, Comorbidities associated with attention-deficit/hyperactivity disorder in chil-\\ndren and adolescents at a tertiary care setting, Global Pediatric Health 9 (2022-02-20)\\n2333794X221076607. doi:10.1177/2333794X221076607.\\n[5] A. Leis, F. Ronzano, M. M. A., L. I. Furlong, F. Sanz, Detecting signs of depression in tweets\\nin spanish: Behavioral and linguistic analysis, Journal of Medical Internet Research 21\\n(2019) e14199. doi:10.2196/14199.\\n[6] K. Kim, S. Lee, C. Lee, College students with ADHD traits and their language styles,\\nJournal of Attention Disorders 19 (2015) 687–693. doi:10.1177/1087054713484512.\\n[7] K. Kim, C. H. Lee, Distinctive linguistic styles in children with ADHD, Psychological\\nReports 105 (2009) 365–371. doi:10.2466/PR0.105.2.365-371.\\n[8] C. L. Bagwell, B. S. Molina, W. E. Pelham, B. Hoza, Attention-deficit hyperactivity dis-\\norder and problems in peer relations: Predictions from childhood to adolescence, Jour-\\nnal of the American Academy of Child & Adolescent Psychiatry 40 (2001) 1285–1292.\\ndoi:10.1097/00004583-200111000-00008.')]\n"
     ]
    }
   ],
   "source": [
    "# Getting the documents used as context\n",
    "print(response[\"source_documents\"])"
   ]
  },
  {
   "cell_type": "code",
   "execution_count": 26,
   "metadata": {},
   "outputs": [
    {
     "name": "stdout",
     "output_type": "stream",
     "text": [
      "\n",
      "\n",
      "\u001b[1m> Entering new RetrievalQA chain...\u001b[0m\n",
      "\n",
      "\u001b[1m> Finished chain.\u001b[0m\n",
      "Stylometry refers to the study and computational analysis of linguistic style. It involves quantifying and measuring stylistic features in written texts to characterize an author's style or identify patterns associated with different groups or traits.\n",
      "\n",
      "Here's a brief overview of how stylometry works:\n",
      "\n",
      "1. Text preprocessing: The text data is cleaned and prepared, which may involve tokenization, removing stopwords, stemming/lemmatization, etc.\n",
      "\n",
      "2. Feature extraction: A variety of stylistic features are extracted from the texts, such as:\n",
      "    - Lexical features (word lengths, vocabulary richness)\n",
      "    - Syntactic features (sentence lengths, use of parts-of-speech)\n",
      "    - Character-level features (character n-grams)\n",
      "    - Function word usage\n",
      "    - Readability metrics\n",
      "    - Structural features (paragraph lengths, dialogue patterns)\n",
      "\n",
      "3. Feature representation: The extracted features are converted into numeric vectors to represent each text/author sample.\n",
      "\n",
      "4. Analysis techniques: Various statistical and machine learning methods are applied on these numeric feature vectors, such as:\n",
      "    - Clustering to group similar styles together\n",
      "    - Classification to predict class labels (e.g. author, genre, demographics)\n",
      "    - Regression to model stylistic variables against other traits\n",
      "    - Dimensionality reduction to visualize and interpret style dimensions\n",
      "\n",
      "5. Interpretation: The patterns discovered by these analyses are interpreted to characterize the styles, identify discriminative features, or understand relationships between style and other variables of interest.\n",
      "\n",
      "Stylometry has been widely used in areas like authorship attribution, genre detection, personality profiling from text, and forensic linguistics. The core idea is that an author's choices in wording, phrasing, syntax leave quantifiable \"stylistic fingerprints\" that can be systematically analyzed.\n",
      "\n",
      "In the context of this paper, the authors are applying stylometric analysis to try to capture potential distinct stylistic markers of ADHD versus neurotypical individuals from their written texts. If such markers exist, stylometry could aid in automatically detecting and understanding this neurodevelopmental disorder.\n"
     ]
    }
   ],
   "source": [
    "# Asking a new question and printing the answer\n",
    "response = chain.invoke(\"How does stylometry work and what is it?\")\n",
    "print(response[\"result\"])"
   ]
  },
  {
   "cell_type": "code",
   "execution_count": 27,
   "metadata": {},
   "outputs": [
    {
     "name": "stdout",
     "output_type": "stream",
     "text": [
      "[Document(metadata={'source': '/Users/raquelcardoso/Documents/interns_ml_pt/Raquel/week5/4. Retrieval Agumented Generation (RAG)/stylometry.pdf', 'file_path': '/Users/raquelcardoso/Documents/interns_ml_pt/Raquel/week5/4. Retrieval Agumented Generation (RAG)/stylometry.pdf', 'page': 4, 'total_pages': 15, 'format': 'PDF 1.4', 'title': 'Detecting Psychological Disorders with Stylometry: the Case of ADHD in Adolescent Autobiographical Narratives', 'author': '', 'subject': 'CEUR Workshop Proceedings (CEUR-WS.org)', 'keywords': '', 'creator': 'LaTeX with hyperref', 'producer': 'macOS Version 13.4 (Build 22F66) Quartz PDFContext, AppendMode 1.1', 'creationDate': \"D:20231019154552Z00'00'\", 'modDate': \"D:20231019154710Z00'00'\", 'trapped': ''}, page_content='deception [40, 41], status [42], sex [43] and age [44]. We think that the use of FW differs\\nbetween our two working groups (ADHD vs control) and that it is therefore possible to auto-\\nmatically classify one and the other group on the basis of FW. For years now, stylometry has\\nbeen used to classify all types of documents [45], and seems to be the most suitable method for\\nthis task.\\nIn addition to FW, we also propose to use another traditional feature of stylometric research:\\ncharacters 3-grams [46], which can capture lexical, and even grammatical preferences. Such\\na feature has already shown its relevance for French texts in previous studies on authorship\\nattribution [47], and has also proven its capacity to capture more than the authorial signal [48].\\n3.2. Set up\\nSupport Vector Machine (SVM)\\nOften used in stylometry, unsupervised approaches [49,\\n50, 51, 47, 52] seemed less adapted than supervised techniques for this profiling task. A recent\\nsurvey [53] has shown that classical machine learning methods still perform better for profiling'), Document(metadata={'source': '/Users/raquelcardoso/Documents/interns_ml_pt/Raquel/week5/4. Retrieval Agumented Generation (RAG)/stylometry.pdf', 'file_path': '/Users/raquelcardoso/Documents/interns_ml_pt/Raquel/week5/4. Retrieval Agumented Generation (RAG)/stylometry.pdf', 'page': 1, 'total_pages': 15, 'format': 'PDF 1.4', 'title': 'Detecting Psychological Disorders with Stylometry: the Case of ADHD in Adolescent Autobiographical Narratives', 'author': '', 'subject': 'CEUR Workshop Proceedings (CEUR-WS.org)', 'keywords': '', 'creator': 'LaTeX with hyperref', 'producer': 'macOS Version 13.4 (Build 22F66) Quartz PDFContext, AppendMode 1.1', 'creationDate': \"D:20231019154552Z00'00'\", 'modDate': \"D:20231019154710Z00'00'\", 'trapped': ''}, page_content='of ADHD diagnosis with stylometric methods.\\nKeywords\\nStylometry, NLP, Psychology, Psychological disorder, ADHD, Self-Defining Memories\\n1. Introduction\\nThe assumptions that the “words we use in natural language […] reveal a tremendous amount of\\ninformation about our social interactions and personality” and that Natural Language Process-\\nCHR 2023: Computational Humanities Research Conference, December 6 – 8, 2023, Paris, France\\n∗Corresponding author.\\n£ juan.barrios@unige.ch (J. Barrios); simon.gabay@unige.ch (S. Gabay); florian.cafiero@chartes.psl.eu\\n(F. Cafiero); martin.debbane@unige.ch (M. Debbané)\\nç https://www.unige.ch/fapse/psychoclinique/unites/upcd/membres/juan-barrios-rudloff (J. Barrios);\\nhttps://www.unige.ch/lettres/humanites-numeriques/equipe/collaborateurs/dr-simon-gabay (S. Gabay);\\nhttps://sites.google.com/view/florian-cafiero (F. Cafiero);\\nhttps://www.unige.ch/fapse/psychoclinique/unites/upcd/membres/debbane (M. Debbané)\\nȈ 0000-0003-0709-8306 (J. Barrios); 0000-0001-9094-4475 (S. Gabay); 0000-0002-1951-6942 (F. Cafiero);\\n0000-0002-4677-8753 (M. Debbané)\\n© 2023 Copyright for this paper by its authors. Use permitted under Creative Commons License Attribution 4.0 International (CC BY 4.0).\\nCEUR\\nWorkshop\\nProceedings\\nhttp://ceur-ws.org\\nISSN 1613-0073\\nCEUR Workshop Proceedings (CEUR-WS.org)'), Document(metadata={'source': '/Users/raquelcardoso/Documents/interns_ml_pt/Raquel/week5/4. Retrieval Agumented Generation (RAG)/stylometry.pdf', 'file_path': '/Users/raquelcardoso/Documents/interns_ml_pt/Raquel/week5/4. Retrieval Agumented Generation (RAG)/stylometry.pdf', 'page': 2, 'total_pages': 15, 'format': 'PDF 1.4', 'title': 'Detecting Psychological Disorders with Stylometry: the Case of ADHD in Adolescent Autobiographical Narratives', 'author': '', 'subject': 'CEUR Workshop Proceedings (CEUR-WS.org)', 'keywords': '', 'creator': 'LaTeX with hyperref', 'producer': 'macOS Version 13.4 (Build 22F66) Quartz PDFContext, AppendMode 1.1', 'creationDate': \"D:20231019154552Z00'00'\", 'modDate': \"D:20231019154710Z00'00'\", 'trapped': ''}, page_content='ing (NLP) can help us access to this information is now widely shared by linguists, philologists\\nor psychologists [3]. With regard for psychological disorders, such a “revelation” is not enough:\\nbecause ADHD poses significant risks [4], we need to efficiently assist practitioners to detect\\nsuch disorders as automatically and as reliably as possible. This paper proposes therefore a\\ncase study to evaluate the use of a NLP technique, stylometry, for the detection and possibly\\nthe understanding of Attention-deficit/hyperactivity disorder (ADHD).\\nResearch crossing NLP and psychology is mainly conducted on English native speakers, but\\nsome papers exist on romance languages (such as Spanish [5]) or Asian languages (such as\\nKorean [6, 7]). It is precisely on Korean that the rare studies on ADHD concluding with a\\nspecific style for people prone to this disorder have been carried out. If a specific style exists,\\nstylometry should make it possible to identify it, and therefore presents itself as a promising\\nmethod for diagnosing ADHD, and thus preventing the risks associated with it.\\n1.1. Attention-deficit/hyperactivity disorder (ADHD)\\nADHD is a neurodevelopmental disorder that affects 5.6% in teenagers aged 12 to 18 years\\n[1]. Its causes are multifactorial: several genetic and environmental risk factors act together\\nto increase both susceptibility to the disorder and the extent of psychiatric comorbidities [2].\\nRegarding its diagnosis, it is reliable and valid when evaluated with standard criteria for psychi-\\natric disorders, but the expression of symptoms varies as a function of patient developmental\\nstage in both the social and the academic contexts [2]. All this makes ADHD diagnoses a time\\nconsuming task (up to one working day) requiring a high level of expertise.\\nFurthermore, during adolescence, young people with ADHD are especially prone to expe-\\nrience difficulties in interpersonal relationships, characterised by conflicts within the family'), Document(metadata={'source': '/Users/raquelcardoso/Documents/interns_ml_pt/Raquel/week5/4. Retrieval Agumented Generation (RAG)/stylometry.pdf', 'file_path': '/Users/raquelcardoso/Documents/interns_ml_pt/Raquel/week5/4. Retrieval Agumented Generation (RAG)/stylometry.pdf', 'page': 5, 'total_pages': 15, 'format': 'PDF 1.4', 'title': 'Detecting Psychological Disorders with Stylometry: the Case of ADHD in Adolescent Autobiographical Narratives', 'author': '', 'subject': 'CEUR Workshop Proceedings (CEUR-WS.org)', 'keywords': '', 'creator': 'LaTeX with hyperref', 'producer': 'macOS Version 13.4 (Build 22F66) Quartz PDFContext, AppendMode 1.1', 'creationDate': \"D:20231019154552Z00'00'\", 'modDate': \"D:20231019154710Z00'00'\", 'trapped': ''}, page_content='in similar settings (short texts, boolean or few categories) than deep learning. We turned to\\nSupport Vector Machines (SVMs) rather than random forest [54] or logistic regression [55, 56],\\nas it allows for easy interpretation and have established themselves as a standard method in\\nstylometry [57, 58].\\nSuperStyl\\nIn this study, all analyses were implemented with the Python SuperStyl package\\n[59]. This package has been used to build stylistic profiles with very good results [60]. SuperStyl\\nuse internally the SVM and pipeline facilities from scikit-learn [61].\\nData\\nAll participants’ SDMs are collected in a single file, with the exception of those written\\nby two people from the control group and two from the ADHD group for a final blind test.\\nSeveral word sample sizes are tested (1’000, 1’250, 1’500 and 2’000).\\nParameters\\nWe tried to use two types of features: FW and character 3-grams for the reasons\\npreviously exposed. Because the length of SDMs varies a lot and we have more SDMs in the\\ncontrol group than in the ADHD groups (cf. section 4.3), we have tested different sampling\\nmethods (no sampling, downsampling, upsampling, Tomek links) and the use of class weights.\\nAll tests are conducted with a linear kernel and a 10-fold validation, on data normalised by using\\nz-scores for variables and applied Euclidean vector-length normalisation (L2 normalisation).\\n3.3. Results\\nScores\\nBest results are achieved with 1’500 words samples, 10-fold validation, class weights\\nand Tomek Links (for FW) / downsampling (for 3-grams). Accuracy is slightly lower with FW\\n(0.85) than with 3-grams (0.92), which appears here as a promising indicator for research in\\npsycholinguistics. However, the results remain surprisingly good in both cases. The recall\\nfor the ADHD group deserves special attention: for obvious reasons, a maximum number of\\npeople with ADHD must be identified and a minimum must be misclassified. With 0.75, results\\nare not satisfactory yet, but promising.\\nTable 1')]\n"
     ]
    }
   ],
   "source": [
    "# Getting the documents used as context\n",
    "print(response[\"source_documents\"])"
   ]
  },
  {
   "cell_type": "code",
   "execution_count": 28,
   "metadata": {},
   "outputs": [
    {
     "name": "stdout",
     "output_type": "stream",
     "text": [
      "\n",
      "\n",
      "\u001b[1m> Entering new RetrievalQA chain...\u001b[0m\n",
      "\n",
      "\u001b[1m> Finished chain.\u001b[0m\n",
      "The paper does not provide definitive results on using stylometry to diagnose ADHD. It seems to be presenting an exploratory case study and proposed methodology, rather than final results.\n",
      "\n",
      "However, some preliminary findings are mentioned:\n",
      "\n",
      "1. The authors extracted stylometric features like function words and character n-grams from autobiographical narratives written by adolescents with and without ADHD diagnoses.\n",
      "\n",
      "2. They used these features to train a machine learning classifier (Support Vector Machine) to try to distinguish the ADHD group from the control group based on their writing styles.\n",
      "\n",
      "3. Figure 2 shows the most important function words that the classifier found discriminative between the two groups. Words like \"the\", \"to\", \"and\" were more prominent in the ADHD group's writing.\n",
      "\n",
      "4. However, the paper notes that their results on lexical density features were not consistent with prior findings of differences between ADHD and non-ADHD groups.\n",
      "\n",
      "5. They attribute this lack of replication potentially to the small sample size of ADHD narratives in their data.\n",
      "\n",
      "Overall, while they could detect some stylistic differences using function words, the authors acknowledge that further work is needed to increase accuracy and fine-grained detection of ADHD through stylometry. They outline some future directions:\n",
      "\n",
      "- Accounting for potential gender differences in language markers\n",
      "- Increasing the dataset size \n",
      "- Exploring other stylometric features beyond those used\n",
      "- Combining stylometry with other modalities like eye-tracking\n",
      "\n",
      "So in summary, while promising stylistic patterns were found, the study did not conclusively validate stylometry as a diagnostic tool for ADHD yet. But it provides a basis for further research into using computational linguistics and stylometry to automatically detect and understand this neurodevelopmental disorder through written language analysis.\n"
     ]
    }
   ],
   "source": [
    "# Asking a new question and printing the answer\n",
    "response = chain.invoke(\"What are the results of the research using Stlometry to diagnose ADHD?\")\n",
    "print(response[\"result\"])"
   ]
  },
  {
   "cell_type": "code",
   "execution_count": 29,
   "metadata": {},
   "outputs": [
    {
     "name": "stdout",
     "output_type": "stream",
     "text": [
      "[Document(metadata={'source': '/Users/raquelcardoso/Documents/interns_ml_pt/Raquel/week5/4. Retrieval Agumented Generation (RAG)/stylometry.pdf', 'file_path': '/Users/raquelcardoso/Documents/interns_ml_pt/Raquel/week5/4. Retrieval Agumented Generation (RAG)/stylometry.pdf', 'page': 1, 'total_pages': 15, 'format': 'PDF 1.4', 'title': 'Detecting Psychological Disorders with Stylometry: the Case of ADHD in Adolescent Autobiographical Narratives', 'author': '', 'subject': 'CEUR Workshop Proceedings (CEUR-WS.org)', 'keywords': '', 'creator': 'LaTeX with hyperref', 'producer': 'macOS Version 13.4 (Build 22F66) Quartz PDFContext, AppendMode 1.1', 'creationDate': \"D:20231019154552Z00'00'\", 'modDate': \"D:20231019154710Z00'00'\", 'trapped': ''}, page_content='of ADHD diagnosis with stylometric methods.\\nKeywords\\nStylometry, NLP, Psychology, Psychological disorder, ADHD, Self-Defining Memories\\n1. Introduction\\nThe assumptions that the “words we use in natural language […] reveal a tremendous amount of\\ninformation about our social interactions and personality” and that Natural Language Process-\\nCHR 2023: Computational Humanities Research Conference, December 6 – 8, 2023, Paris, France\\n∗Corresponding author.\\n£ juan.barrios@unige.ch (J. Barrios); simon.gabay@unige.ch (S. Gabay); florian.cafiero@chartes.psl.eu\\n(F. Cafiero); martin.debbane@unige.ch (M. Debbané)\\nç https://www.unige.ch/fapse/psychoclinique/unites/upcd/membres/juan-barrios-rudloff (J. Barrios);\\nhttps://www.unige.ch/lettres/humanites-numeriques/equipe/collaborateurs/dr-simon-gabay (S. Gabay);\\nhttps://sites.google.com/view/florian-cafiero (F. Cafiero);\\nhttps://www.unige.ch/fapse/psychoclinique/unites/upcd/membres/debbane (M. Debbané)\\nȈ 0000-0003-0709-8306 (J. Barrios); 0000-0001-9094-4475 (S. Gabay); 0000-0002-1951-6942 (F. Cafiero);\\n0000-0002-4677-8753 (M. Debbané)\\n© 2023 Copyright for this paper by its authors. Use permitted under Creative Commons License Attribution 4.0 International (CC BY 4.0).\\nCEUR\\nWorkshop\\nProceedings\\nhttp://ceur-ws.org\\nISSN 1613-0073\\nCEUR Workshop Proceedings (CEUR-WS.org)'), Document(metadata={'source': '/Users/raquelcardoso/Documents/interns_ml_pt/Raquel/week5/4. Retrieval Agumented Generation (RAG)/stylometry.pdf', 'file_path': '/Users/raquelcardoso/Documents/interns_ml_pt/Raquel/week5/4. Retrieval Agumented Generation (RAG)/stylometry.pdf', 'page': 2, 'total_pages': 15, 'format': 'PDF 1.4', 'title': 'Detecting Psychological Disorders with Stylometry: the Case of ADHD in Adolescent Autobiographical Narratives', 'author': '', 'subject': 'CEUR Workshop Proceedings (CEUR-WS.org)', 'keywords': '', 'creator': 'LaTeX with hyperref', 'producer': 'macOS Version 13.4 (Build 22F66) Quartz PDFContext, AppendMode 1.1', 'creationDate': \"D:20231019154552Z00'00'\", 'modDate': \"D:20231019154710Z00'00'\", 'trapped': ''}, page_content='ing (NLP) can help us access to this information is now widely shared by linguists, philologists\\nor psychologists [3]. With regard for psychological disorders, such a “revelation” is not enough:\\nbecause ADHD poses significant risks [4], we need to efficiently assist practitioners to detect\\nsuch disorders as automatically and as reliably as possible. This paper proposes therefore a\\ncase study to evaluate the use of a NLP technique, stylometry, for the detection and possibly\\nthe understanding of Attention-deficit/hyperactivity disorder (ADHD).\\nResearch crossing NLP and psychology is mainly conducted on English native speakers, but\\nsome papers exist on romance languages (such as Spanish [5]) or Asian languages (such as\\nKorean [6, 7]). It is precisely on Korean that the rare studies on ADHD concluding with a\\nspecific style for people prone to this disorder have been carried out. If a specific style exists,\\nstylometry should make it possible to identify it, and therefore presents itself as a promising\\nmethod for diagnosing ADHD, and thus preventing the risks associated with it.\\n1.1. Attention-deficit/hyperactivity disorder (ADHD)\\nADHD is a neurodevelopmental disorder that affects 5.6% in teenagers aged 12 to 18 years\\n[1]. Its causes are multifactorial: several genetic and environmental risk factors act together\\nto increase both susceptibility to the disorder and the extent of psychiatric comorbidities [2].\\nRegarding its diagnosis, it is reliable and valid when evaluated with standard criteria for psychi-\\natric disorders, but the expression of symptoms varies as a function of patient developmental\\nstage in both the social and the academic contexts [2]. All this makes ADHD diagnoses a time\\nconsuming task (up to one working day) requiring a high level of expertise.\\nFurthermore, during adolescence, young people with ADHD are especially prone to expe-\\nrience difficulties in interpersonal relationships, characterised by conflicts within the family'), Document(metadata={'source': '/Users/raquelcardoso/Documents/interns_ml_pt/Raquel/week5/4. Retrieval Agumented Generation (RAG)/stylometry.pdf', 'file_path': '/Users/raquelcardoso/Documents/interns_ml_pt/Raquel/week5/4. Retrieval Agumented Generation (RAG)/stylometry.pdf', 'page': 9, 'total_pages': 15, 'format': 'PDF 1.4', 'title': 'Detecting Psychological Disorders with Stylometry: the Case of ADHD in Adolescent Autobiographical Narratives', 'author': '', 'subject': 'CEUR Workshop Proceedings (CEUR-WS.org)', 'keywords': '', 'creator': 'LaTeX with hyperref', 'producer': 'macOS Version 13.4 (Build 22F66) Quartz PDFContext, AppendMode 1.1', 'creationDate': \"D:20231019154552Z00'00'\", 'modDate': \"D:20231019154710Z00'00'\", 'trapped': ''}, page_content='Figure 2: Most important FW for stylometric classification. In red the control group, in blue the ADHD\\ngroup.\\nWith respect to lexical density, our results are not consistent with previous finding and does\\nnot confirm differences between groups based on the presence or absence of ADHD. However,\\nthis could be due to the small size of the ADHD group narratives.\\n6. Further work\\nFuture studies are needed to increase the accuracy and fine grain detection of ADHD. First\\nthe potential differences by sex or gender in language markers should be addressed. Second,'), Document(metadata={'source': '/Users/raquelcardoso/Documents/interns_ml_pt/Raquel/week5/4. Retrieval Agumented Generation (RAG)/stylometry.pdf', 'file_path': '/Users/raquelcardoso/Documents/interns_ml_pt/Raquel/week5/4. Retrieval Agumented Generation (RAG)/stylometry.pdf', 'page': 0, 'total_pages': 15, 'format': 'PDF 1.4', 'title': 'Detecting Psychological Disorders with Stylometry: the Case of ADHD in Adolescent Autobiographical Narratives', 'author': '', 'subject': 'CEUR Workshop Proceedings (CEUR-WS.org)', 'keywords': '', 'creator': 'LaTeX with hyperref', 'producer': 'macOS Version 13.4 (Build 22F66) Quartz PDFContext, AppendMode 1.1', 'creationDate': \"D:20231019154552Z00'00'\", 'modDate': \"D:20231019154710Z00'00'\", 'trapped': ''}, page_content='See discussions, stats, and author profiles for this publication at: https://www.researchgate.net/publication/374840957\\nDetecting Psychological Disorders with Stylometry: the Case of ADHD in\\nAdolescent Autobiographical Narratives\\nPreprint · October 2023\\nDOI: 10.31234/osf.io/s5cm3\\nCITATIONS\\n0\\nREADS\\n250\\n4 authors, including:\\nJuan Barrios\\nUniversity of Geneva\\n3 PUBLICATIONS\\xa0\\xa0\\xa01 CITATION\\xa0\\xa0\\xa0\\nSEE PROFILE\\nFlorian Cafiero\\nParis Sciences and Letters (PSL) University\\n26 PUBLICATIONS\\xa0\\xa0\\xa0182 CITATIONS\\xa0\\xa0\\xa0\\nSEE PROFILE\\nMartin Debbané\\nUniversity of Geneva\\n265 PUBLICATIONS\\xa0\\xa0\\xa06,735 CITATIONS\\xa0\\xa0\\xa0\\nSEE PROFILE\\nAll content following this page was uploaded by Juan Barrios on 19 October 2023.\\nThe user has requested enhancement of the downloaded file.')]\n"
     ]
    }
   ],
   "source": [
    "# Getting the documents used as context\n",
    "print(response[\"source_documents\"])"
   ]
  },
  {
   "cell_type": "code",
   "execution_count": 30,
   "metadata": {},
   "outputs": [
    {
     "name": "stdout",
     "output_type": "stream",
     "text": [
      "\n",
      "\n",
      "\u001b[1m> Entering new RetrievalQA chain...\u001b[0m\n",
      "\n",
      "\u001b[1m> Finished chain.\u001b[0m\n",
      "Natural Language Processing (NLP) techniques can potentially help in recognizing and detecting Adhd by analyzing linguistic patterns and stylistic markers present in an individual's written or spoken language. Here are some ways NLP can contribute to ADHD recognition:\n",
      "\n",
      "1. Stylometric analysis: As discussed in this paper, stylometry involves quantifying stylistic features like lexical, syntactic, structural elements in text. Machine learning models can then be trained on these stylistic representations to try to discriminate between ADHD and non-ADHD individuals based on their linguistic styles.\n",
      "\n",
      "2. Semantic/Discourse analysis: NLP methods like topic modeling, coherence analysis, sentiment analysis etc. can provide insights into the semantic content, discourse structure and pragmatic deficits that may be associated with ADHD language. For example, difficulties in sustaining coherent narratives.\n",
      "\n",
      "3. Psycholinguistic feature analysis: Extracting and analyzing specific psycholinguistic features like dysfluencies, fillers, pronoun usage, repetitions etc. from transcripts can help capture patterns related to impulsivity, inattention and other ADHD characteristics reflected in language.\n",
      "\n",
      "4. Automated speech/language assessment: NLP components like automatic speech recognition, language modeling etc. can be integrated into tools that automatically elicit and evaluate spoken responses to assess language abilities impacted by ADHD.\n",
      "\n",
      "5. Multimodal analysis: Combining NLP with other modalities like eye-tracking, facial expressions, etc. during language tasks can provide a more comprehensive profile of the neurocognitive factors underlying ADHD linguistic deficits.\n",
      "\n",
      "The core premise is that ADHD likely impacts multiple aspects of language production and comprehension, leaving detectable patterns in the lexical, syntactic, semantic, pragmatic and discourse features of an individual's verbal and written output. NLP provides data-driven methods to systematically quantify and model these linguistic markers from naturalistic data, which can complement traditional psychological testing methods.\n",
      "\n",
      "However, as the paper notes, robust ADHD detection using NLP would require large datasets, careful feature engineering, and potentially combining multiple modalities beyond just text analysis. But NLP opens up opportunities for low-cost, scalable screening and supplementing clinical ADHD assessments.\n"
     ]
    }
   ],
   "source": [
    "# Asking a new question and printing the answer\n",
    "response = chain.invoke(\"How does NLP help in recognizing ADHD?\")\n",
    "print(response[\"result\"])"
   ]
  },
  {
   "cell_type": "code",
   "execution_count": 31,
   "metadata": {},
   "outputs": [
    {
     "name": "stdout",
     "output_type": "stream",
     "text": [
      "[Document(metadata={'source': '/Users/raquelcardoso/Documents/interns_ml_pt/Raquel/week5/4. Retrieval Agumented Generation (RAG)/stylometry.pdf', 'file_path': '/Users/raquelcardoso/Documents/interns_ml_pt/Raquel/week5/4. Retrieval Agumented Generation (RAG)/stylometry.pdf', 'page': 2, 'total_pages': 15, 'format': 'PDF 1.4', 'title': 'Detecting Psychological Disorders with Stylometry: the Case of ADHD in Adolescent Autobiographical Narratives', 'author': '', 'subject': 'CEUR Workshop Proceedings (CEUR-WS.org)', 'keywords': '', 'creator': 'LaTeX with hyperref', 'producer': 'macOS Version 13.4 (Build 22F66) Quartz PDFContext, AppendMode 1.1', 'creationDate': \"D:20231019154552Z00'00'\", 'modDate': \"D:20231019154710Z00'00'\", 'trapped': ''}, page_content='rience difficulties in interpersonal relationships, characterised by conflicts within the family\\nor at school. In the latter case, conflicts with classmates may in turn lead to peer rejection,\\nsocial isolation or school failure [8, 9, 10]. Besides these relational problems, adolescents with\\nADHD are also exposed to higher risks of neurocognitive dysfunction, substance abuse, low\\nself-esteem and social disability [2]. In summary, this leads to a situation in which a complex\\ndiagnosis with extremely serious health and social implications for patients must be made, in-\\nvolving time and resources that are not always available and in a context of high prevalence.\\n1.2. Psychology and Natural Language Processing (NLP)\\nFor more than ten years now, the use of NLP has established itself as a valid method for different\\ntypes of clinical applications in neuroscience and psychiatry [11], which explains an upward\\ntrend for this approach and a growing need to develop new detection methods [12]. Clini-\\ncal applications include psychological profiling [13, 6], or the detection of depression [14, 15]\\nand psychological distress [16] with different methods: word embeddings, sentiment analysis\\nor stylometry. The latest research makes it possible not only to identify mental health risks\\n(like patients who exhibit suicidal risk behaviour [17]), but also to predict depression [14] or\\nschizophrenia in first-episode of psychosis [18, 19, 20] on a linguistic basis.'), Document(metadata={'source': '/Users/raquelcardoso/Documents/interns_ml_pt/Raquel/week5/4. Retrieval Agumented Generation (RAG)/stylometry.pdf', 'file_path': '/Users/raquelcardoso/Documents/interns_ml_pt/Raquel/week5/4. Retrieval Agumented Generation (RAG)/stylometry.pdf', 'page': 2, 'total_pages': 15, 'format': 'PDF 1.4', 'title': 'Detecting Psychological Disorders with Stylometry: the Case of ADHD in Adolescent Autobiographical Narratives', 'author': '', 'subject': 'CEUR Workshop Proceedings (CEUR-WS.org)', 'keywords': '', 'creator': 'LaTeX with hyperref', 'producer': 'macOS Version 13.4 (Build 22F66) Quartz PDFContext, AppendMode 1.1', 'creationDate': \"D:20231019154552Z00'00'\", 'modDate': \"D:20231019154710Z00'00'\", 'trapped': ''}, page_content='ing (NLP) can help us access to this information is now widely shared by linguists, philologists\\nor psychologists [3]. With regard for psychological disorders, such a “revelation” is not enough:\\nbecause ADHD poses significant risks [4], we need to efficiently assist practitioners to detect\\nsuch disorders as automatically and as reliably as possible. This paper proposes therefore a\\ncase study to evaluate the use of a NLP technique, stylometry, for the detection and possibly\\nthe understanding of Attention-deficit/hyperactivity disorder (ADHD).\\nResearch crossing NLP and psychology is mainly conducted on English native speakers, but\\nsome papers exist on romance languages (such as Spanish [5]) or Asian languages (such as\\nKorean [6, 7]). It is precisely on Korean that the rare studies on ADHD concluding with a\\nspecific style for people prone to this disorder have been carried out. If a specific style exists,\\nstylometry should make it possible to identify it, and therefore presents itself as a promising\\nmethod for diagnosing ADHD, and thus preventing the risks associated with it.\\n1.1. Attention-deficit/hyperactivity disorder (ADHD)\\nADHD is a neurodevelopmental disorder that affects 5.6% in teenagers aged 12 to 18 years\\n[1]. Its causes are multifactorial: several genetic and environmental risk factors act together\\nto increase both susceptibility to the disorder and the extent of psychiatric comorbidities [2].\\nRegarding its diagnosis, it is reliable and valid when evaluated with standard criteria for psychi-\\natric disorders, but the expression of symptoms varies as a function of patient developmental\\nstage in both the social and the academic contexts [2]. All this makes ADHD diagnoses a time\\nconsuming task (up to one working day) requiring a high level of expertise.\\nFurthermore, during adolescence, young people with ADHD are especially prone to expe-\\nrience difficulties in interpersonal relationships, characterised by conflicts within the family'), Document(metadata={'source': '/Users/raquelcardoso/Documents/interns_ml_pt/Raquel/week5/4. Retrieval Agumented Generation (RAG)/stylometry.pdf', 'file_path': '/Users/raquelcardoso/Documents/interns_ml_pt/Raquel/week5/4. Retrieval Agumented Generation (RAG)/stylometry.pdf', 'page': 1, 'total_pages': 15, 'format': 'PDF 1.4', 'title': 'Detecting Psychological Disorders with Stylometry: the Case of ADHD in Adolescent Autobiographical Narratives', 'author': '', 'subject': 'CEUR Workshop Proceedings (CEUR-WS.org)', 'keywords': '', 'creator': 'LaTeX with hyperref', 'producer': 'macOS Version 13.4 (Build 22F66) Quartz PDFContext, AppendMode 1.1', 'creationDate': \"D:20231019154552Z00'00'\", 'modDate': \"D:20231019154710Z00'00'\", 'trapped': ''}, page_content='of ADHD diagnosis with stylometric methods.\\nKeywords\\nStylometry, NLP, Psychology, Psychological disorder, ADHD, Self-Defining Memories\\n1. Introduction\\nThe assumptions that the “words we use in natural language […] reveal a tremendous amount of\\ninformation about our social interactions and personality” and that Natural Language Process-\\nCHR 2023: Computational Humanities Research Conference, December 6 – 8, 2023, Paris, France\\n∗Corresponding author.\\n£ juan.barrios@unige.ch (J. Barrios); simon.gabay@unige.ch (S. Gabay); florian.cafiero@chartes.psl.eu\\n(F. Cafiero); martin.debbane@unige.ch (M. Debbané)\\nç https://www.unige.ch/fapse/psychoclinique/unites/upcd/membres/juan-barrios-rudloff (J. Barrios);\\nhttps://www.unige.ch/lettres/humanites-numeriques/equipe/collaborateurs/dr-simon-gabay (S. Gabay);\\nhttps://sites.google.com/view/florian-cafiero (F. Cafiero);\\nhttps://www.unige.ch/fapse/psychoclinique/unites/upcd/membres/debbane (M. Debbané)\\nȈ 0000-0003-0709-8306 (J. Barrios); 0000-0001-9094-4475 (S. Gabay); 0000-0002-1951-6942 (F. Cafiero);\\n0000-0002-4677-8753 (M. Debbané)\\n© 2023 Copyright for this paper by its authors. Use permitted under Creative Commons License Attribution 4.0 International (CC BY 4.0).\\nCEUR\\nWorkshop\\nProceedings\\nhttp://ceur-ws.org\\nISSN 1613-0073\\nCEUR Workshop Proceedings (CEUR-WS.org)'), Document(metadata={'source': '/Users/raquelcardoso/Documents/interns_ml_pt/Raquel/week5/4. Retrieval Agumented Generation (RAG)/stylometry.pdf', 'file_path': '/Users/raquelcardoso/Documents/interns_ml_pt/Raquel/week5/4. Retrieval Agumented Generation (RAG)/stylometry.pdf', 'page': 1, 'total_pages': 15, 'format': 'PDF 1.4', 'title': 'Detecting Psychological Disorders with Stylometry: the Case of ADHD in Adolescent Autobiographical Narratives', 'author': '', 'subject': 'CEUR Workshop Proceedings (CEUR-WS.org)', 'keywords': '', 'creator': 'LaTeX with hyperref', 'producer': 'macOS Version 13.4 (Build 22F66) Quartz PDFContext, AppendMode 1.1', 'creationDate': \"D:20231019154552Z00'00'\", 'modDate': \"D:20231019154710Z00'00'\", 'trapped': ''}, page_content='Detecting Psychological Disorders with Stylometry:\\nthe Case of ADHD in Adolescent Autobiographical\\nNarratives\\nJuan Barrios1,∗, Simon Gabay2, Florian Cafiero3 and Martin Debbané1\\n1Unité de psychologie clinique développementale, Université de Genève, Switzerland\\n2Unité d’humanités numériques, Université de Genève, Switzerland\\n3École nationale des chartes - PSL, Centre Jean Mabillon, France\\nAbstract\\nAttention-deficit/hyperactivity disorder (ADHD) is one of the most common psychological neurodevel-\\nopmental disorder among children and adolescents, with a prevalence of 5.6% in teenagers aged 12 to\\n18 years [1]. Its diagnosis is reliable and valid when evaluated with standard criteria for psychiatric\\ndisorders [2], but it is time consuming and requires a high level of expertise to arrive at a correct differ-\\nential diagnosis. The development of low-cost, fast and efficient tools supporting the ADHD diagnosis\\nprocess would therefore be important for practitioners, because it should help identify and prevent risks\\nin different populations.\\nIn this paper, we study the possibility of detecting ADHD with Natural Language Processing (NLP),\\nbased on the analysis of a specific type of adolescent’s autobiographical narratives called Self-Defining\\nMemories (SDMs). (1) We train a Support Vector Machine (SVM) to predict ADHD diagnosis, (2) we\\nattempt to explain its results by exploring lexical information (3) and unfolding the results of the SVM\\nto identify and analyse the linguistic markers associated with each groups.\\nWith an accuracy of 92%, the SVM manages to classify texts from both group (ADHD vs Control),\\nrevealing a signal specific to autobiographical texts narratives written by people with ADHD. The qual-\\nity of the detection is confirmed by the interpretative yield of the main markers identified. However,\\nseveral methodological improvements remain necessary to improve the accuracy and the automation\\nof ADHD diagnosis with stylometric methods.\\nKeywords')]\n"
     ]
    }
   ],
   "source": [
    "# Getting the documents used as context\n",
    "print(response[\"source_documents\"])"
   ]
  },
  {
   "cell_type": "code",
   "execution_count": 32,
   "metadata": {},
   "outputs": [
    {
     "name": "stdout",
     "output_type": "stream",
     "text": [
      "\n",
      "\n",
      "\u001b[1m> Entering new RetrievalQA chain...\u001b[0m\n",
      "\n",
      "\u001b[1m> Finished chain.\u001b[0m\n",
      "Yes, the paper suggests that gender may influence the linguistic patterns associated with ADHD. Specifically, it mentions the following regarding gender differences:\n",
      "\n",
      "1. The authors note that they used biological sex (male/female) rather than gender as a category in their study, following the approach of many other studies. However, they acknowledge that examining potential differences by gender could be of interest for future studies.\n",
      "\n",
      "2. One of the areas they highlight for further work is to \"address the potential differences by sex or gender in language markers\" related to ADHD.\n",
      "\n",
      "3. They state: \"First the potential differences by sex or gender in language markers should be addressed.\"\n",
      "\n",
      "So while their current study did not explicitly analyze gender differences, the authors recognize that gender is a relevant factor that may impact the linguistic patterns and stylometric markers of ADHD. There is an indication that gender-based variations in language use could exist for individuals with ADHD.\n",
      "\n",
      "The rationale provided is that ADHD is generally more likely to be diagnosed and treated in boys compared to girls. Therefore, potential gender-linked differences in how the disorder manifests in linguistic behavior need to be accounted for in future NLP/stylometric studies of ADHD.\n",
      "\n",
      "By highlighting gender as an important area for further investigation, the paper implies that linguistic cues and patterns indicative of ADHD may not be uniform across gender identities. Analyzing gender-based variations could lead to more accurate and inclusive language marker models for ADHD detection and understanding.\n"
     ]
    }
   ],
   "source": [
    "# Asking a new question and printing the answer\n",
    "response = chain.invoke(\"Does gender influence the linguistic patterns of ADHD?\")\n",
    "print(response[\"result\"])"
   ]
  },
  {
   "cell_type": "code",
   "execution_count": 33,
   "metadata": {},
   "outputs": [
    {
     "name": "stdout",
     "output_type": "stream",
     "text": [
      "[Document(metadata={'source': '/Users/raquelcardoso/Documents/interns_ml_pt/Raquel/week5/4. Retrieval Agumented Generation (RAG)/stylometry.pdf', 'file_path': '/Users/raquelcardoso/Documents/interns_ml_pt/Raquel/week5/4. Retrieval Agumented Generation (RAG)/stylometry.pdf', 'page': 6, 'total_pages': 15, 'format': 'PDF 1.4', 'title': 'Detecting Psychological Disorders with Stylometry: the Case of ADHD in Adolescent Autobiographical Narratives', 'author': '', 'subject': 'CEUR Workshop Proceedings (CEUR-WS.org)', 'keywords': '', 'creator': 'LaTeX with hyperref', 'producer': 'macOS Version 13.4 (Build 22F66) Quartz PDFContext, AppendMode 1.1', 'creationDate': \"D:20231019154552Z00'00'\", 'modDate': \"D:20231019154710Z00'00'\", 'trapped': ''}, page_content='32\\n24\\nGirls\\n34\\n24\\n<=15 years old\\n21\\n20\\n>15 years old\\n45\\n28\\nADHD\\n25\\n24\\nControl\\n41\\n24\\nTotal\\n66\\n48\\n1We do not use gender, but biological sex as a category, as many other studies do. Our objective here is not to study\\nthe difference between these two groups (male vs. female) but to obtain two samples as comparable as possible\\n(ADHD vs. control). The question of gender could, however, be of interest in future studies, especially because\\nADHD is possibly because ADHD is generally more likely to be diagnosed and treated for boys.'), Document(metadata={'source': '/Users/raquelcardoso/Documents/interns_ml_pt/Raquel/week5/4. Retrieval Agumented Generation (RAG)/stylometry.pdf', 'file_path': '/Users/raquelcardoso/Documents/interns_ml_pt/Raquel/week5/4. Retrieval Agumented Generation (RAG)/stylometry.pdf', 'page': 7, 'total_pages': 15, 'format': 'PDF 1.4', 'title': 'Detecting Psychological Disorders with Stylometry: the Case of ADHD in Adolescent Autobiographical Narratives', 'author': '', 'subject': 'CEUR Workshop Proceedings (CEUR-WS.org)', 'keywords': '', 'creator': 'LaTeX with hyperref', 'producer': 'macOS Version 13.4 (Build 22F66) Quartz PDFContext, AppendMode 1.1', 'creationDate': \"D:20231019154552Z00'00'\", 'modDate': \"D:20231019154710Z00'00'\", 'trapped': ''}, page_content='We matched the two samples using the cardinality matching method to find the largest\\nmatched set (in this case by age and sex) with the additional constraint that the ratio between\\nthe number of adolescents in both groups had to be equal to 1. This method allowed us to\\navoid differences between groups by sex or age with minimal loss of ADHD cases selecting\\nthe best-fitting control cases in function of the ADHD group.\\nFinal samples\\nIn both groups the final sample meeting and pairwise inclusion criteria con-\\nsisted of 24 adolescents (12 females and 12 males) in both groups (cf. tab. 2). The age mean\\nweight in ADHD group was 15.14 (𝜎= 1.83) and 15.21 (𝜎= 1.44) for the control group. A Stu-\\ndent two-samples t-test showed that the difference was statistically not significant (t(43.65) =\\n-0.16, p = 0.87). Finally, as a result of this pairwise matching, the total number of SDMs per\\ngroup has been reduced to 72 SDMs (24 participants × 3 SDMs) per group.\\n4.3. Results\\nFigure 1: Number of tokens per SDM in ADHD group\\nvs control group.\\nLexical diversity (TTR = 𝑉\\n𝑁) is higher for\\nthe control group (209, 𝜎= 63,9), indicat-\\ning its members use significantly more\\ndifferent words to describe their mem-\\nories than the ADHD group (153, 𝜎=\\n54,5, p < 0.001), contradicting the re-\\nsults of Redmond [64]. This fact could\\nbe explained by the significant differ-\\nence in size between the SDMs of the\\ntwo groups (cf. fig. 1), those of the con-\\ntrol group being generally longer ( ̄𝑥>100\\ntoken) than those of the ADHD group\\n( ̄𝑥≈60):\\nas the length of the text in-\\ncreases, there is a greater statistical like-\\nlihood of finding a new word.\\nOn the contrary lexical density (𝐿𝑑=\\n𝑁𝑙𝑒𝑥\\n𝑁\\n∗100) is not significantly different\\nbetween the control group (0.027, 𝜎=\\n0.008) and the ADHD group (0.029, 𝜎=\\n0.01), which invalidates our hypothesis\\nbased on Yoder [27].\\n4.4. Functors as markers\\nAnalyzing which features allowed our SVM to distinguish between our two groups can help'), Document(metadata={'source': '/Users/raquelcardoso/Documents/interns_ml_pt/Raquel/week5/4. Retrieval Agumented Generation (RAG)/stylometry.pdf', 'file_path': '/Users/raquelcardoso/Documents/interns_ml_pt/Raquel/week5/4. Retrieval Agumented Generation (RAG)/stylometry.pdf', 'page': 9, 'total_pages': 15, 'format': 'PDF 1.4', 'title': 'Detecting Psychological Disorders with Stylometry: the Case of ADHD in Adolescent Autobiographical Narratives', 'author': '', 'subject': 'CEUR Workshop Proceedings (CEUR-WS.org)', 'keywords': '', 'creator': 'LaTeX with hyperref', 'producer': 'macOS Version 13.4 (Build 22F66) Quartz PDFContext, AppendMode 1.1', 'creationDate': \"D:20231019154552Z00'00'\", 'modDate': \"D:20231019154710Z00'00'\", 'trapped': ''}, page_content='Figure 2: Most important FW for stylometric classification. In red the control group, in blue the ADHD\\ngroup.\\nWith respect to lexical density, our results are not consistent with previous finding and does\\nnot confirm differences between groups based on the presence or absence of ADHD. However,\\nthis could be due to the small size of the ADHD group narratives.\\n6. Further work\\nFuture studies are needed to increase the accuracy and fine grain detection of ADHD. First\\nthe potential differences by sex or gender in language markers should be addressed. Second,'), Document(metadata={'source': '/Users/raquelcardoso/Documents/interns_ml_pt/Raquel/week5/4. Retrieval Agumented Generation (RAG)/stylometry.pdf', 'file_path': '/Users/raquelcardoso/Documents/interns_ml_pt/Raquel/week5/4. Retrieval Agumented Generation (RAG)/stylometry.pdf', 'page': 6, 'total_pages': 15, 'format': 'PDF 1.4', 'title': 'Detecting Psychological Disorders with Stylometry: the Case of ADHD in Adolescent Autobiographical Narratives', 'author': '', 'subject': 'CEUR Workshop Proceedings (CEUR-WS.org)', 'keywords': '', 'creator': 'LaTeX with hyperref', 'producer': 'macOS Version 13.4 (Build 22F66) Quartz PDFContext, AppendMode 1.1', 'creationDate': \"D:20231019154552Z00'00'\", 'modDate': \"D:20231019154710Z00'00'\", 'trapped': ''}, page_content='prediction, but also to confirm several hypotheses.\\n4.1. Hypotheses\\nTwo standard measures have been used to explore the lexical information in the corpus:\\n1. Lexical Density measures the structure and complexity of a text. It provides a mea-\\nsure of the proportion of lexical items (types) in relation to the total number of tokens\\nin the text [62], and thus helps evaluating the amount of information in a given doc-\\nument [63]. Diversity evolves during human lifespan and it is influenced by different\\nfactors like education or the communication style of the family. Other studies in the\\nfield of psychology have found a relationship between neurodevelopmental disorders\\nand lexical density, where children with autism spectrum disorders tend to have a lower\\ndensity than the average population [27]. To the best to our knowledge, no study has yet\\nexplored lexical density in the linguistic production of adolescent with ADHD. Consider-\\ning the fact that ADHD is a neurodeveloppmental disorder, measures of lexical density\\ncould differentiate adolescents with ADHD from those with a typical development.\\n2. Lexical Diversity measures how many types are used in each adolescent’s narrative.\\nSDMs that are lexically diverse use a wide range of vocabulary, of synonyms and a\\nprecise language to describe their memories. Previous studies have shown that measures\\nof lexical diversity do not differentiate adolescents with ADHD from those with a typical\\ndevelopment [64], we should therefore expect a similar result.\\n4.2. Set up\\nPairwise matching\\nis used to create samples balancing the ADHD and the control groups\\nwith respect to the means of participants’ sex1 and age in order to make them comparable.\\nTable 2\\nEffect of pairwise matching on\\nthe distribution of participants (×\\n3 SDMs).\\nType\\nRaw\\nPairwised\\nBoys\\n32\\n24\\nGirls\\n34\\n24\\n<=15 years old\\n21\\n20\\n>15 years old\\n45\\n28\\nADHD\\n25\\n24\\nControl\\n41\\n24\\nTotal\\n66\\n48')]\n"
     ]
    }
   ],
   "source": [
    "# Getting the documents used as context\n",
    "print(response[\"source_documents\"])"
   ]
  },
  {
   "cell_type": "code",
   "execution_count": 34,
   "metadata": {},
   "outputs": [
    {
     "name": "stdout",
     "output_type": "stream",
     "text": [
      "\n",
      "\n",
      "\u001b[1m> Entering new RetrievalQA chain...\u001b[0m\n",
      "\n",
      "\u001b[1m> Finished chain.\u001b[0m\n",
      "The paper does not provide any specific findings or conclusions about whether women are more likely to be classified as having ADHD when linguistic patterns are considered. It simply acknowledges that potential gender/sex differences in language markers associated with ADHD need to be examined in future research.\n",
      "\n",
      "The authors do not make any claims about which gender might exhibit stronger or more pronounced linguistic cues related to ADHD based on their current analysis. Their study used biological sex (male/female) as a control variable when matching the ADHD and non-ADHD groups, but did not delve into analyzing gender-based linguistic variations.\n",
      "\n",
      "The motivation to study gender differences stems from the observation that ADHD is generally more likely to be diagnosed in boys compared to girls. However, this does not directly imply that either gender would be more prone to being classified as ADHD based on their linguistic patterns alone.\n",
      "\n",
      "The need to investigate gender differences is highlighted because:\n",
      "\n",
      "1) Linguistic manifestations of ADHD may differ across gender identities.\n",
      "\n",
      "2) Not accounting for these differences could lead to inaccurate or biased ADHD detection models based on language use.\n",
      "\n",
      "So in summary, while the paper flags gender as an important factor to examine in relation to ADHD linguistics, it does not make any specific claims or provide evidence about whether women would be more or less likely to be classified as having ADHD when linguistic markers are considered. More research is needed to understand the role of gender in this context according to the authors.\n"
     ]
    }
   ],
   "source": [
    "# Asking a new question and printing the answer\n",
    "response = chain.invoke(\"Are women more likely to be classified as having ADHD when linguistics are considered?\")\n",
    "print(response[\"result\"])"
   ]
  },
  {
   "cell_type": "code",
   "execution_count": 35,
   "metadata": {},
   "outputs": [
    {
     "name": "stdout",
     "output_type": "stream",
     "text": [
      "\n",
      "\n",
      "\u001b[1m> Entering new RetrievalQA chain...\u001b[0m\n",
      "\n",
      "\u001b[1m> Finished chain.\u001b[0m\n",
      "Psychological profiling through textual analysis refers to the process of inferring psychological traits, characteristics or states of an individual based on an analysis of their written text or speech transcripts.\n",
      "\n",
      "As mentioned in the paper [13], this involves applying natural language processing and computational linguistics techniques to quantify linguistic cues and patterns that may be indicative of certain psychological attributes.\n",
      "\n",
      "Some examples of what can be profiled through textual analysis include:\n",
      "\n",
      "- Personality traits (e.g. extroversion, neuroticism)\n",
      "- Emotional states (e.g. depression, anxiety)\n",
      "- Cognitive impairments (e.g. ADHD, dementia) \n",
      "- Mental illnesses (e.g. schizophrenia, bipolar disorder)\n",
      "- Deceptive behavior\n",
      "- Age, gender, native language etc.\n",
      "\n",
      "The underlying premise is that an individual's psychological make-up influences how they use language in terms of word choices, writing style, topics, coherence, sentiment etc. By modeling these textual markers using techniques like stylometry, sentiment analysis, topic modeling etc., it becomes possible to build predictive models that can profile psychological characteristics.\n",
      "\n",
      "Some key steps involved in psychological profiling from text include:\n",
      "\n",
      "1) Obtaining a corpus of written texts/transcripts \n",
      "2) Extracting relevant linguistic features (lexical, syntactic, semantic etc.)\n",
      "3) Training machine learning models on these features using labeled data\n",
      "4) Applying the models to new text samples to predict psychological attributes\n",
      "\n",
      "While still an emerging field, psychological profiling through textual analysis has applications in mental health screening, deception detection, forensic analysis, and providing data-driven insights to complement traditional psychological assessments and surveys.\n"
     ]
    }
   ],
   "source": [
    "# Asking a new question and printing the answer\n",
    "response = chain.invoke(\"What is psychological profiling through textual analysis?\")\n",
    "print(response[\"result\"])"
   ]
  },
  {
   "cell_type": "code",
   "execution_count": 36,
   "metadata": {},
   "outputs": [
    {
     "name": "stdout",
     "output_type": "stream",
     "text": [
      "\n",
      "\n",
      "\u001b[1m> Entering new RetrievalQA chain...\u001b[0m\n",
      "\n",
      "\u001b[1m> Finished chain.\u001b[0m\n",
      "Psychological profiling through textual analysis typically involves the following key steps:\n",
      "\n",
      "1. Data Collection: Obtaining a corpus of written texts or speech transcripts from individuals. This could be essays, social media posts, emails, interviews etc. The texts need to be labeled with the psychological traits/states of interest based on clinical assessments or self-reports.\n",
      "\n",
      "2. Text Preprocessing: Cleaning and preparing the text data by removing noise, normalizing formats, handling encoding issues etc. This ensures the texts are in a suitable form for linguistic analysis.\n",
      "\n",
      "3. Feature Extraction: Extracting relevant linguistic features from the texts that may serve as potential markers for the psychological attributes being studied. Common features include:\n",
      "\n",
      "- Lexical features (word frequencies, psycholinguistic categories)\n",
      "- Syntactic features (part-of-speech, parse trees)\n",
      "- Semantic features (topics, sentiment, emotion)\n",
      "- Style features (readability, complexity metrics) \n",
      "- Structural features (text length, formatting)\n",
      "\n",
      "4. Feature Selection: Identifying the most informative and discriminative features from the extracted set using techniques like correlation analysis, chi-squared tests, recursive feature elimination etc.\n",
      "\n",
      "5. Model Training: Using supervised machine learning algorithms like support vector machines, random forests, neural networks etc. to train predictive models that can map the linguistic features to the psychological labels.\n",
      "\n",
      "6. Model Evaluation: Assessing the trained models on held-out test sets using relevant evaluation metrics like accuracy, F1-score, area under the ROC curve etc.\n",
      "\n",
      "7. Model Application: Applying the best performing models to new unlabeled text data to predict the underlying psychological characteristics based on the linguistic patterns.\n",
      "\n",
      "Some other common practices include:\n",
      "\n",
      "- Using ensemble models that combine multiple algorithms\n",
      "- Incorporating domain knowledge through feature engineering\n",
      "- Handling data imbalance through over/undersampling\n",
      "- Interpreting model predictions using techniques like SHAP values\n",
      "\n",
      "The exact approach depends on the psychological attributes targeted, the text genres used, the size of the dataset, and the intended application. Validating the models with human experts is crucial before real-world deployment.\n"
     ]
    }
   ],
   "source": [
    "# Asking a new question and printing the answer\n",
    "response = chain.invoke(\"How is psychological profiling performed when using textual analysis?\")\n",
    "print(response[\"result\"])"
   ]
  },
  {
   "cell_type": "code",
   "execution_count": 37,
   "metadata": {},
   "outputs": [
    {
     "name": "stdout",
     "output_type": "stream",
     "text": [
      "\n",
      "\n",
      "\u001b[1m> Entering new RetrievalQA chain...\u001b[0m\n",
      "\n",
      "\u001b[1m> Finished chain.\u001b[0m\n",
      "According to the paper, the use of natural language processing (NLP) techniques shows promise for aiding in the diagnosis of attention-deficit/hyperactivity disorder (ADHD). Here's a summary of the key points regarding NLP's influence on ADHD diagnosis:\n",
      "\n",
      "1. NLP enables quantitative analysis of linguistic data, which can reveal patterns and markers associated with psychological disorders like ADHD. The underlying idea is that the way people use language is influenced by their cognitive and psychological states.\n",
      "\n",
      "2. Specific NLP methods mentioned are:\n",
      "    - Stylometry: Analyzing writing style markers like vocabulary richness, sentence complexity etc. \n",
      "    - Word embeddings: Capturing semantic relationships between words used.\n",
      "    - Sentiment analysis: Detecting emotional tone and polarity in text.\n",
      "\n",
      "3. The paper presents a case study applying stylometry on self-defining memory narratives written by Korean adolescents with and without ADHD. The results, though preliminary, suggest stylometric features can discriminate the two groups with reasonable accuracy.\n",
      "\n",
      "4. Previous research has used NLP to detect depression, psychological distress, suicidal risk, and even predict disorders like schizophrenia based on linguistic patterns in patient language data.\n",
      "\n",
      "5. NLP-based methods have the potential to assist clinicians by automating parts of the screening and diagnostic process for ADHD, which is currently time and resource-intensive. Linguistic markers could complement other clinical assessments.\n",
      "\n",
      "6. However, the authors note that more research is needed, especially examining potential gender differences in how ADHD manifests in language, and providing interpretable linguistic explanations for model predictions.\n",
      "\n",
      "In summary, while still an emerging approach, NLP techniques show promise in aiding the objective identification and understanding of ADHD by deriving quantitative linguistic indicators from patient language data. This could make the diagnostic process more efficient and data-driven when combined with clinical expertise.\n"
     ]
    }
   ],
   "source": [
    "# Asking a new question and printing the answer\n",
    "response = chain.invoke(\"Can you summarize your knowledge on NLP's influence on ADHD diagnosis?\")\n",
    "print(response[\"result\"])"
   ]
  },
  {
   "cell_type": "code",
   "execution_count": 38,
   "metadata": {},
   "outputs": [
    {
     "name": "stdout",
     "output_type": "stream",
     "text": [
      "\n",
      "\n",
      "\u001b[1m> Entering new RetrievalQA chain...\u001b[0m\n",
      "\n",
      "\u001b[1m> Finished chain.\u001b[0m\n",
      "Unfortunately, the paper does not provide any specific findings related to performing sentiment analysis on text data for detecting ADHD. The main NLP technique discussed in the paper is stylometry, which analyzes quantitative stylistic features of writing like vocabulary richness, sentence complexity, use of function words etc.\n",
      "\n",
      "The paper mentions sentiment analysis briefly as one of the NLP methods that has been applied in the broader context of psychological profiling and mental health applications. However, it does not present any results or insights specifically about using sentiment analysis for ADHD diagnosis or characterization.\n",
      "\n",
      "Some potential ways sentiment analysis could be relevant for ADHD include:\n",
      "\n",
      "1) Analyzing the emotional tone and polarity in writing samples of individuals with ADHD to see if there are distinct patterns compared to neurotypical controls.\n",
      "\n",
      "2) Examining if the degree of emotional expressiveness or variability in sentiment correlates with ADHD symptoms or subtypes.\n",
      "\n",
      "3) Using sentiment as an additional feature alongside stylometric and other linguistic features when building predictive models for ADHD detection.\n",
      "\n",
      "4) Tracking shifts in sentiment over time in longitudinal studies to understand mood changes associated with ADHD.\n",
      "\n",
      "However, the paper does not report any empirical findings specifically from applying sentiment analysis techniques to their dataset of self-defining memory narratives written by adolescents with and without ADHD diagnoses.\n",
      "\n",
      "So in summary, while sentiment analysis could potentially provide useful signals for ADHD characterization, this particular study does not present any results or insights from using that specific NLP technique for their ADHD analysis. The focus remains primarily on the stylometric differences observed.\n"
     ]
    }
   ],
   "source": [
    "# Asking a new question and printing the answer\n",
    "response = chain.invoke(\"What are the findings on ADHD when performing Sentiment Analysis?\")\n",
    "print(response[\"result\"])"
   ]
  }
 ],
 "metadata": {
  "kernelspec": {
   "display_name": "myenv",
   "language": "python",
   "name": "python3"
  },
  "language_info": {
   "codemirror_mode": {
    "name": "ipython",
    "version": 3
   },
   "file_extension": ".py",
   "mimetype": "text/x-python",
   "name": "python",
   "nbconvert_exporter": "python",
   "pygments_lexer": "ipython3",
   "version": "3.12.6"
  }
 },
 "nbformat": 4,
 "nbformat_minor": 2
}
