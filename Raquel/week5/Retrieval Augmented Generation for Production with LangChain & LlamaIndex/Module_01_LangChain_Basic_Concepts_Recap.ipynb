{
  "cells": [
    {
      "cell_type": "code",
      "execution_count": 1,
      "metadata": {
        "id": "wxRBFGvV9-Mv"
      },
      "outputs": [],
      "source": [
        "import os\n",
        "\n",
        "os.environ[\"OPENAI_API_KEY\"] = \"<OPENAI_KEY>\""
      ]
    },
    {
      "cell_type": "code",
      "execution_count": 3,
      "metadata": {
        "colab": {
          "base_uri": "https://localhost:8080/"
        },
        "id": "ZXPWi4D9703r",
        "outputId": "aac27b6a-8dd6-400a-ed9b-39b7ef07395f"
      },
      "outputs": [],
      "source": [
        "!pip install -q langchain==0.0.346 openai==1.3.7 tiktoken==0.5.2 cohere==4.37"
      ]
    },
    {
      "cell_type": "markdown",
      "metadata": {
        "id": "xXi1rCxQQ1e_"
      },
      "source": [
        "# Chat Model"
      ]
    },
    {
      "cell_type": "code",
      "execution_count": 4,
      "metadata": {
        "id": "s5O35OmS77K6"
      },
      "outputs": [],
      "source": [
        "from langchain.chat_models import ChatOpenAI\n",
        "from langchain.schema import HumanMessage, SystemMessage"
      ]
    },
    {
      "cell_type": "code",
      "execution_count": 5,
      "metadata": {
        "id": "BTqHdMiY930N"
      },
      "outputs": [],
      "source": [
        "chat = ChatOpenAI(model_name=\"gpt-3.5-turbo\", temperature=0)"
      ]
    },
    {
      "cell_type": "code",
      "execution_count": 6,
      "metadata": {
        "id": "b7XBGe3QBW0Z"
      },
      "outputs": [],
      "source": [
        "messages = [\n",
        "    SystemMessage(\n",
        "        content=\"You are a helpful assistant.\"\n",
        "    ),\n",
        "    HumanMessage(\n",
        "        content=\"What is the capital of France?\"\n",
        "    ),\n",
        "]"
      ]
    },
    {
      "cell_type": "code",
      "execution_count": 7,
      "metadata": {
        "colab": {
          "base_uri": "https://localhost:8080/"
        },
        "id": "-BzmirBC94-d",
        "outputId": "d74d6462-e681-4f1e-8aab-20424b89690e"
      },
      "outputs": [
        {
          "data": {
            "text/plain": [
              "AIMessage(content='The capital of France is Paris.')"
            ]
          },
          "execution_count": 7,
          "metadata": {},
          "output_type": "execute_result"
        }
      ],
      "source": [
        "chat(messages)"
      ]
    },
    {
      "cell_type": "markdown",
      "metadata": {
        "id": "5FqoNRQxQ2s2"
      },
      "source": [
        "# Embedding Model"
      ]
    },
    {
      "cell_type": "code",
      "execution_count": 8,
      "metadata": {
        "id": "SPzUWO1BDnnp"
      },
      "outputs": [],
      "source": [
        "from langchain.embeddings import OpenAIEmbeddings"
      ]
    },
    {
      "cell_type": "code",
      "execution_count": 9,
      "metadata": {
        "id": "dv1pJw5PBBXD"
      },
      "outputs": [],
      "source": [
        "# Initialize the model\n",
        "embeddings_model = OpenAIEmbeddings()"
      ]
    },
    {
      "cell_type": "code",
      "execution_count": 10,
      "metadata": {
        "id": "Aq4lIFQ_Q6QN"
      },
      "outputs": [],
      "source": [
        "# Embed a list of texts\n",
        "embeddings = embeddings_model.embed_documents(\n",
        "    [\"Hi there!\", \"Oh, hello!\", \"What's your name?\", \"My friends call me World\", \"Hello World!\"]\n",
        ")"
      ]
    },
    {
      "cell_type": "code",
      "execution_count": 11,
      "metadata": {
        "colab": {
          "base_uri": "https://localhost:8080/"
        },
        "id": "XcG9FkukQ8IG",
        "outputId": "63e7ce20-3db5-486c-f0b0-775d9278a288"
      },
      "outputs": [
        {
          "name": "stdout",
          "output_type": "stream",
          "text": [
            "Number of documents embedded: 5\n",
            "Dimension of each embedding: 1536\n"
          ]
        }
      ],
      "source": [
        "print(\"Number of documents embedded:\", len(embeddings))\n",
        "print(\"Dimension of each embedding:\", len(embeddings[0]))"
      ]
    },
    {
      "cell_type": "markdown",
      "metadata": {
        "id": "IvuJ2cUW6R71"
      },
      "source": [
        "# LLMChain"
      ]
    },
    {
      "cell_type": "code",
      "execution_count": 12,
      "metadata": {
        "colab": {
          "base_uri": "https://localhost:8080/",
          "height": 35
        },
        "id": "RTEX-ADe6UTQ",
        "outputId": "9b9fffe9-30ec-42d6-8e0b-e1a34c6adeee"
      },
      "outputs": [
        {
          "data": {
            "text/plain": [
              "'Red, orange, yellow, green, blue, indigo, violet'"
            ]
          },
          "execution_count": 12,
          "metadata": {},
          "output_type": "execute_result"
        }
      ],
      "source": [
        "from langchain.chains import LLMChain\n",
        "from langchain.chat_models import ChatOpenAI\n",
        "from langchain.prompts import PromptTemplate\n",
        "from langchain.schema import StrOutputParser\n",
        "\n",
        "template = \"\"\"List all the colors in a rainbow\"\"\"\n",
        "prompt = PromptTemplate(\n",
        "    template=template, input_variables=[], output_parser=StrOutputParser()\n",
        ")\n",
        "\n",
        "chat = ChatOpenAI(model_name=\"gpt-3.5-turbo\", temperature=0)\n",
        "llm_chain = LLMChain(prompt=prompt, llm=chat)\n",
        "\n",
        "llm_chain.predict()"
      ]
    },
    {
      "cell_type": "code",
      "execution_count": 13,
      "metadata": {
        "colab": {
          "base_uri": "https://localhost:8080/",
          "height": 35
        },
        "id": "nnyKmhwd6UQq",
        "outputId": "3bf89017-b91c-4266-8560-b00b257d795f"
      },
      "outputs": [
        {
          "data": {
            "text/plain": [
              "'Red, orange, yellow, green, blue, indigo, violet'"
            ]
          },
          "execution_count": 13,
          "metadata": {},
          "output_type": "execute_result"
        }
      ],
      "source": [
        "from langchain.chat_models import ChatOpenAI\n",
        "from langchain.prompts import PromptTemplate\n",
        "from langchain.schema import StrOutputParser\n",
        "\n",
        "prompt = PromptTemplate.from_template(\n",
        "    \"List all the colors in a {item}.\"\n",
        ")\n",
        "runnable = prompt | ChatOpenAI(temperature=0) | StrOutputParser()\n",
        "runnable.invoke({\"item\": \"rainbow\"})"
      ]
    },
    {
      "cell_type": "markdown",
      "metadata": {
        "id": "a_iFIBibECYv"
      },
      "source": [
        "# Sequential"
      ]
    },
    {
      "cell_type": "code",
      "execution_count": 14,
      "metadata": {
        "id": "y7iPeujW6UOD"
      },
      "outputs": [],
      "source": [
        "from langchain.prompts import PromptTemplate\n",
        "\n",
        "post_prompt = PromptTemplate.from_template(\n",
        "    \"\"\"You are a business owner. Given the theme of a post, write a social media post to share on my socials.\n",
        "\n",
        "Theme: {theme}\n",
        "Content: This is social media post based on the theme above:\"\"\"\n",
        ")\n",
        "\n",
        "review_prompt = PromptTemplate.from_template(\n",
        "    \"\"\"You are an expert social media manager. Given the presented social media post, it is your job to write a review for the post.\n",
        "\n",
        "Social Media Post:\n",
        "{post}\n",
        "Review from a Social Media Expert:\"\"\"\n",
        ")"
      ]
    },
    {
      "cell_type": "code",
      "execution_count": 15,
      "metadata": {
        "colab": {
          "base_uri": "https://localhost:8080/",
          "height": 143
        },
        "id": "KNYc6SO46ULc",
        "outputId": "d7217328-b88a-426d-9bed-9c2c17cf6619"
      },
      "outputs": [
        {
          "data": {
            "text/plain": [
              "\"This Black Friday sale post is highly effective in grabbing the attention of potential customers. The use of emojis adds a fun and festive touch, while the clear call-to-action encourages immediate action. The offer of 50% off on everything is a strong incentive for shoppers, and the urgency created by mentioning that the deal won't last long is likely to drive conversions. Overall, this post effectively conveys the key information and entices followers to take advantage of the sale. Great job!\""
            ]
          },
          "execution_count": 15,
          "metadata": {},
          "output_type": "execute_result"
        }
      ],
      "source": [
        "from langchain.chat_models import ChatOpenAI\n",
        "from langchain.schema import StrOutputParser\n",
        "\n",
        "llm = ChatOpenAI(temperature=0.0)\n",
        "\n",
        "chain = (\n",
        "    {\"post\": post_prompt | llm | StrOutputParser()}\n",
        "    | review_prompt\n",
        "    | llm\n",
        "    | StrOutputParser()\n",
        ")\n",
        "chain.invoke({\"theme\": \"Having a black friday sale with 50% off on everything.\"})"
      ]
    },
    {
      "cell_type": "code",
      "execution_count": 16,
      "metadata": {
        "colab": {
          "base_uri": "https://localhost:8080/"
        },
        "id": "-Ma2mFYCF34o",
        "outputId": "0f2aa206-8c0a-440a-ff15-dc6c3099c13c"
      },
      "outputs": [
        {
          "data": {
            "text/plain": [
              "{'post': \"🎉 Don't miss out on our Black Friday sale! Enjoy 50% off on everything in store and online. Treat yourself or get a head start on your holiday shopping. Hurry, this deal won't last long! #BlackFriday #Sale #ShopNow 🛍️🎁\",\n",
              " 'review': 'This Black Friday sale post is highly effective in grabbing the attention of potential customers. The use of emojis adds a fun and engaging element to the post, while the clear and concise message about the 50% off discount is sure to entice shoppers. The call to action to \"Shop Now\" is also a great way to prompt immediate action from followers. Overall, this post effectively conveys the urgency and excitement of Black Friday shopping, making it a successful social media promotion.'}"
            ]
          },
          "execution_count": 16,
          "metadata": {},
          "output_type": "execute_result"
        }
      ],
      "source": [
        "from langchain.schema.runnable import RunnablePassthrough\n",
        "\n",
        "llm = ChatOpenAI(temperature=0.0)\n",
        "\n",
        "post_chain = post_prompt | llm | StrOutputParser()\n",
        "review_chain = review_prompt | llm | StrOutputParser()\n",
        "chain = {\"post\": post_chain} | RunnablePassthrough.assign(review=review_chain)\n",
        "chain.invoke({\"theme\": \"Having a black friday sale with 50% off on everything.\"})"
      ]
    },
    {
      "cell_type": "code",
      "execution_count": null,
      "metadata": {
        "id": "B_FZhgrN6UIU"
      },
      "outputs": [],
      "source": []
    },
    {
      "cell_type": "code",
      "execution_count": null,
      "metadata": {
        "id": "aMDh53FM6UFt"
      },
      "outputs": [],
      "source": []
    },
    {
      "cell_type": "code",
      "execution_count": null,
      "metadata": {
        "id": "l3laoAwr6UDF"
      },
      "outputs": [],
      "source": []
    },
    {
      "cell_type": "code",
      "execution_count": null,
      "metadata": {
        "id": "OrA0xB9x6T8u"
      },
      "outputs": [],
      "source": []
    },
    {
      "cell_type": "markdown",
      "metadata": {
        "id": "Kvn8OdTvDn6K"
      },
      "source": [
        "# Environment"
      ]
    },
    {
      "cell_type": "code",
      "execution_count": 17,
      "metadata": {
        "colab": {
          "base_uri": "https://localhost:8080/"
        },
        "id": "_gy_uzaZDpiS",
        "outputId": "1925855b-10f9-466e-fa19-41525c60dad6"
      },
      "outputs": [
        {
          "name": "stdout",
          "output_type": "stream",
          "text": [
            "Package                   Version\n",
            "------------------------- --------------\n",
            "aiohappyeyeballs          2.4.0\n",
            "aiohttp                   3.10.5\n",
            "aiosignal                 1.3.1\n",
            "altgraph                  0.17.2\n",
            "annotated-types           0.7.0\n",
            "anyio                     3.7.1\n",
            "appnope                   0.1.4\n",
            "argon2-cffi               23.1.0\n",
            "argon2-cffi-bindings      21.2.0\n",
            "arrow                     1.3.0\n",
            "asttokens                 2.4.1\n",
            "async-lru                 2.0.4\n",
            "async-timeout             4.0.3\n",
            "attrs                     24.2.0\n",
            "babel                     2.16.0\n",
            "backoff                   2.2.1\n",
            "beautifulsoup4            4.12.3\n",
            "bleach                    6.1.0\n",
            "boto3                     1.34.162\n",
            "botocore                  1.34.162\n",
            "certifi                   2024.8.30\n",
            "cffi                      1.17.1\n",
            "charset-normalizer        3.3.2\n",
            "cohere                    4.37\n",
            "comm                      0.2.2\n",
            "dataclasses-json          0.6.7\n",
            "debugpy                   1.8.5\n",
            "decorator                 5.1.1\n",
            "defusedxml                0.7.1\n",
            "distro                    1.9.0\n",
            "exceptiongroup            1.2.2\n",
            "executing                 2.1.0\n",
            "fastavro                  1.9.7\n",
            "fastjsonschema            2.20.0\n",
            "fqdn                      1.5.1\n",
            "frozenlist                1.4.1\n",
            "future                    0.18.2\n",
            "h11                       0.14.0\n",
            "httpcore                  1.0.5\n",
            "httpx                     0.27.2\n",
            "idna                      3.10\n",
            "importlib-metadata        6.11.0\n",
            "ipykernel                 6.29.5\n",
            "ipython                   8.18.1\n",
            "isoduration               20.11.0\n",
            "jedi                      0.19.1\n",
            "Jinja2                    3.1.4\n",
            "jiter                     0.5.0\n",
            "jmespath                  1.0.1\n",
            "json5                     0.9.25\n",
            "jsonpatch                 1.33\n",
            "jsonpointer               3.0.0\n",
            "jsonschema                4.23.0\n",
            "jsonschema-specifications 2023.12.1\n",
            "jupyter_client            8.6.3\n",
            "jupyter_core              5.7.2\n",
            "jupyter-events            0.10.0\n",
            "jupyter-lsp               2.2.5\n",
            "jupyter_server            2.14.2\n",
            "jupyter_server_terminals  0.5.3\n",
            "jupyterlab                4.2.5\n",
            "jupyterlab_pygments       0.3.0\n",
            "jupyterlab_server         2.27.3\n",
            "langchain                 0.0.346\n",
            "langchain-aws             0.2.0\n",
            "langchain-community       0.3.0\n",
            "langchain-core            0.0.13\n",
            "langchain-openai          0.2.1\n",
            "langchain-text-splitters  0.3.0\n",
            "langsmith                 0.0.92\n",
            "macholib                  1.15.2\n",
            "MarkupSafe                2.1.5\n",
            "marshmallow               3.22.0\n",
            "matplotlib-inline         0.1.7\n",
            "mistune                   3.0.2\n",
            "multidict                 6.1.0\n",
            "mypy-extensions           1.0.0\n",
            "nbclient                  0.10.0\n",
            "nbconvert                 7.16.4\n",
            "nbformat                  5.10.4\n",
            "nest-asyncio              1.6.0\n",
            "notebook                  7.2.2\n",
            "notebook_shim             0.2.4\n",
            "numpy                     1.26.4\n",
            "openai                    1.3.7\n",
            "orjson                    3.10.7\n",
            "overrides                 7.7.0\n",
            "packaging                 23.2\n",
            "pandas                    2.2.3\n",
            "pandocfilters             1.5.1\n",
            "parso                     0.8.4\n",
            "pexpect                   4.9.0\n",
            "pip                       24.2\n",
            "platformdirs              4.3.6\n",
            "prometheus_client         0.20.0\n",
            "prompt_toolkit            3.0.47\n",
            "psutil                    6.0.0\n",
            "ptyprocess                0.7.0\n",
            "pure_eval                 0.2.3\n",
            "pycparser                 2.22\n",
            "pydantic                  2.9.2\n",
            "pydantic_core             2.23.4\n",
            "pydantic-settings         2.5.2\n",
            "Pygments                  2.18.0\n",
            "pypdf                     5.0.0\n",
            "python-dateutil           2.9.0.post0\n",
            "python-dotenv             1.0.1\n",
            "python-json-logger        2.0.7\n",
            "pytube                    15.0.0\n",
            "pytz                      2024.2\n",
            "PyYAML                    6.0.2\n",
            "pyzmq                     26.2.0\n",
            "referencing               0.35.1\n",
            "regex                     2024.9.11\n",
            "requests                  2.32.3\n",
            "rfc3339-validator         0.1.4\n",
            "rfc3986-validator         0.1.1\n",
            "rpds-py                   0.20.0\n",
            "s3transfer                0.10.2\n",
            "Send2Trash                1.8.3\n",
            "setuptools                58.0.4\n",
            "six                       1.15.0\n",
            "sniffio                   1.3.1\n",
            "soupsieve                 2.6\n",
            "SQLAlchemy                2.0.35\n",
            "stack-data                0.6.3\n",
            "tenacity                  8.5.0\n",
            "terminado                 0.18.1\n",
            "tiktoken                  0.5.2\n",
            "tinycss2                  1.3.0\n",
            "tomli                     2.0.1\n",
            "tornado                   6.4.1\n",
            "tqdm                      4.66.5\n",
            "traitlets                 5.14.3\n",
            "types-python-dateutil     2.9.0.20240906\n",
            "typing_extensions         4.12.2\n",
            "typing-inspect            0.9.0\n",
            "tzdata                    2024.2\n",
            "uri-template              1.3.0\n",
            "urllib3                   1.26.20\n",
            "wcwidth                   0.2.13\n",
            "webcolors                 24.8.0\n",
            "webencodings              0.5.1\n",
            "websocket-client          1.8.0\n",
            "wheel                     0.37.0\n",
            "yarl                      1.11.1\n",
            "youtube-transcript-api    0.6.2\n",
            "zipp                      3.20.2\n"
          ]
        }
      ],
      "source": [
        "!pip list"
      ]
    }
  ],
  "metadata": {
    "colab": {
      "collapsed_sections": [
        "Kvn8OdTvDn6K"
      ],
      "provenance": []
    },
    "kernelspec": {
      "display_name": "Python 3",
      "name": "python3"
    },
    "language_info": {
      "codemirror_mode": {
        "name": "ipython",
        "version": 3
      },
      "file_extension": ".py",
      "mimetype": "text/x-python",
      "name": "python",
      "nbconvert_exporter": "python",
      "pygments_lexer": "ipython3",
      "version": "3.9.6"
    }
  },
  "nbformat": 4,
  "nbformat_minor": 0
}
